{
 "cells": [
  {
   "cell_type": "markdown",
   "id": "72268e5f-6660-4cec-b589-7c14e6288d6e",
   "metadata": {},
   "source": [
    "## Challenge\n",
    "\n",
    "Network of parcel lockers. These parcel lockers are used by users to ship items.\n",
    "\n",
    "The standard shipment flow for our parcel lockers is as follows:\n",
    "\n",
    "1. Seller of a pre-loved item drops off their parcel at a locker;\n",
    "2. Driver picks up the parcel from the origin locker & brings it to a warehouse;\n",
    "3. Parcels are sorted in the warehouse;\n",
    "4. Driver picks up the parcel from the warehouse & drops it off at the destination locker;\n",
    "5. Buyer of a pre-loved item picks up the parcel from the destination locker."
   ]
  },
  {
   "cell_type": "markdown",
   "id": "f5331567-bd80-46cb-8ad2-00bcd9f865ea",
   "metadata": {},
   "source": [
    "Every day, we must decide which lockers to visit. This decision involves a **trade-off** between\n",
    "conflicting business objectives. Visiting more lockers **increases delivery speed, but it also\n",
    "increases delivery costs.**"
   ]
  },
  {
   "cell_type": "code",
   "execution_count": 1,
   "id": "f996b695-af66-47a4-a332-2dc8cb6b5370",
   "metadata": {},
   "outputs": [
    {
     "name": "stdout",
     "output_type": "stream",
     "text": [
      "Python 3.11.4\n"
     ]
    }
   ],
   "source": [
    "!python --version"
   ]
  },
  {
   "cell_type": "code",
   "execution_count": 2,
   "id": "b8074206-8ead-4d7e-b2b7-9983eb16d183",
   "metadata": {},
   "outputs": [],
   "source": [
    "import pandas as pd\n",
    "import numpy as np\n",
    "\n",
    "import matplotlib.pyplot as plt\n",
    "import matplotlib.lines as mlines\n",
    "\n",
    "import seaborn as sns\n",
    "\n",
    "sns.set_style(\"whitegrid\")"
   ]
  },
  {
   "cell_type": "markdown",
   "id": "5f139a82-ed54-47b2-b46b-66462c7c124b",
   "metadata": {},
   "source": [
    "## Lockers data"
   ]
  },
  {
   "cell_type": "code",
   "execution_count": 3,
   "id": "35320029-ec26-4f9b-988a-106b19170859",
   "metadata": {},
   "outputs": [],
   "source": [
    "lockers_df = pd.read_csv(\"....csv\")"
   ]
  },
  {
   "cell_type": "code",
   "execution_count": 4,
   "id": "d6ef8532-bc95-4c5f-93bc-40387ce03106",
   "metadata": {},
   "outputs": [
    {
     "data": {
      "text/plain": [
       "(200, 3)"
      ]
     },
     "execution_count": 4,
     "metadata": {},
     "output_type": "execute_result"
    }
   ],
   "source": [
    "lockers_df.shape"
   ]
  },
  {
   "cell_type": "code",
   "execution_count": 5,
   "id": "5aa6956c-7db9-49aa-a802-81d0a651b7a3",
   "metadata": {},
   "outputs": [
    {
     "name": "stdout",
     "output_type": "stream",
     "text": [
      "<class 'pandas.core.frame.DataFrame'>\n",
      "RangeIndex: 200 entries, 0 to 199\n",
      "Data columns (total 3 columns):\n",
      " #   Column           Non-Null Count  Dtype\n",
      "---  ------           --------------  -----\n",
      " 0   locker_id        200 non-null    int64\n",
      " 1   available_slots  200 non-null    int64\n",
      " 2   total_slots      200 non-null    int64\n",
      "dtypes: int64(3)\n",
      "memory usage: 4.8 KB\n"
     ]
    }
   ],
   "source": [
    "lockers_df.info()"
   ]
  },
  {
   "cell_type": "code",
   "execution_count": 6,
   "id": "8ee07a90-de92-4e6c-8d50-2d040dc325c2",
   "metadata": {},
   "outputs": [
    {
     "data": {
      "text/html": [
       "<div>\n",
       "<style scoped>\n",
       "    .dataframe tbody tr th:only-of-type {\n",
       "        vertical-align: middle;\n",
       "    }\n",
       "\n",
       "    .dataframe tbody tr th {\n",
       "        vertical-align: top;\n",
       "    }\n",
       "\n",
       "    .dataframe thead th {\n",
       "        text-align: right;\n",
       "    }\n",
       "</style>\n",
       "<table border=\"1\" class=\"dataframe\">\n",
       "  <thead>\n",
       "    <tr style=\"text-align: right;\">\n",
       "      <th></th>\n",
       "      <th>locker_id</th>\n",
       "      <th>available_slots</th>\n",
       "      <th>total_slots</th>\n",
       "    </tr>\n",
       "  </thead>\n",
       "  <tbody>\n",
       "    <tr>\n",
       "      <th>0</th>\n",
       "      <td>1</td>\n",
       "      <td>14</td>\n",
       "      <td>50</td>\n",
       "    </tr>\n",
       "    <tr>\n",
       "      <th>1</th>\n",
       "      <td>2</td>\n",
       "      <td>20</td>\n",
       "      <td>50</td>\n",
       "    </tr>\n",
       "    <tr>\n",
       "      <th>2</th>\n",
       "      <td>3</td>\n",
       "      <td>24</td>\n",
       "      <td>50</td>\n",
       "    </tr>\n",
       "    <tr>\n",
       "      <th>3</th>\n",
       "      <td>4</td>\n",
       "      <td>15</td>\n",
       "      <td>50</td>\n",
       "    </tr>\n",
       "    <tr>\n",
       "      <th>4</th>\n",
       "      <td>5</td>\n",
       "      <td>22</td>\n",
       "      <td>50</td>\n",
       "    </tr>\n",
       "  </tbody>\n",
       "</table>\n",
       "</div>"
      ],
      "text/plain": [
       "   locker_id  available_slots  total_slots\n",
       "0          1               14           50\n",
       "1          2               20           50\n",
       "2          3               24           50\n",
       "3          4               15           50\n",
       "4          5               22           50"
      ]
     },
     "execution_count": 6,
     "metadata": {},
     "output_type": "execute_result"
    }
   ],
   "source": [
    "lockers_df.head()"
   ]
  },
  {
   "cell_type": "markdown",
   "id": "984b64fc-2a41-428d-8f47-6ccbb7e3d2ea",
   "metadata": {},
   "source": [
    "### Constraints lockers:\n",
    "- Availability should be greater than 0"
   ]
  },
  {
   "cell_type": "code",
   "execution_count": 7,
   "id": "30c7125e-bc95-4360-aacf-963abf56c519",
   "metadata": {
    "scrolled": true
   },
   "outputs": [
    {
     "data": {
      "image/png": "[encoded data removed]",
      "text/plain": [
       "<Figure size 1000x600 with 1 Axes>"
      ]
     },
     "metadata": {},
     "output_type": "display_data"
    }
   ],
   "source": [
    "# Plot Available Slots Distribution\n",
    "plt.figure(figsize=(10, 6))\n",
    "sns.histplot(lockers_df['available_slots'], kde=True)\n",
    "\n",
    "mean_line = plt.axvline(lockers_df['available_slots'].mean(), color='r', linestyle='--')\n",
    "mode_line = plt.axvline(lockers_df['available_slots'].mode()[0], color='g', linestyle='-.')\n",
    "percentile_line = plt.axvline(lockers_df['available_slots'].quantile(0.95), color='b', linestyle='-')\n",
    "\n",
    "legend_labels = [mlines.Line2D([], [], color='r', linestyle='--', label=f\"Mean: {lockers_df['available_slots'].mean():.1f}\"),\n",
    "                 mlines.Line2D([], [], color='g', linestyle='-.', label=f\"Mode: {lockers_df['available_slots'].mode()[0]:.1f}\"),\n",
    "                 mlines.Line2D([], [], color='b', linestyle='-', label=f\"95th Percentile: {lockers_df['available_slots'].quantile(0.95):.1f}\")]\n",
    "\n",
    "plt.legend(handles=legend_labels, title=\"Statistics\")\n",
    "plt.xlabel('Available Slots')\n",
    "plt.title('Available Slots Distribution')\n",
    "plt.show()"
   ]
  },
  {
   "cell_type": "markdown",
   "id": "c9f977d4-6926-4ba3-a4b7-12cb4d021728",
   "metadata": {},
   "source": [
    "- The mean number of available slots is around 23.9. On average, a locker will have about 24 empty slots at any given time.\n",
    "- We can infer that 95% of lockers have 39 or fewer available slots - only a few lockers are almost entirely empty."
   ]
  },
  {
   "cell_type": "code",
   "execution_count": 8,
   "id": "3e6fe4dc-9b74-4f30-aa18-121962436c46",
   "metadata": {},
   "outputs": [
    {
     "data": {
      "image/png": "[encoded data removed]",
      "text/plain": [
       "<Figure size 640x480 with 1 Axes>"
      ]
     },
     "metadata": {},
     "output_type": "display_data"
    }
   ],
   "source": [
    "# Plot Total Slots per Locker as a violin plot due to high cardinality in locker_id\n",
    "sns.violinplot(x=lockers_df['total_slots'])\n",
    "plt.title('Total Slots per Locker')\n",
    "plt.xlabel('Total Slots')\n",
    "plt.show()"
   ]
  },
  {
   "cell_type": "code",
   "execution_count": 9,
   "id": "505f30e5-2cb2-4fdf-b608-f0dffc502c9e",
   "metadata": {},
   "outputs": [],
   "source": [
    "# Calculate occupancy ratio for each locker\n",
    "lockers_df['occupancy_ratio'] = 1 - (lockers_df['available_slots'] / lockers_df['total_slots'])"
   ]
  },
  {
   "cell_type": "code",
   "execution_count": 10,
   "id": "7d581589-9270-4c18-8750-16c873b8e52d",
   "metadata": {},
   "outputs": [
    {
     "data": {
      "text/html": [
       "<div>\n",
       "<style scoped>\n",
       "    .dataframe tbody tr th:only-of-type {\n",
       "        vertical-align: middle;\n",
       "    }\n",
       "\n",
       "    .dataframe tbody tr th {\n",
       "        vertical-align: top;\n",
       "    }\n",
       "\n",
       "    .dataframe thead th {\n",
       "        text-align: right;\n",
       "    }\n",
       "</style>\n",
       "<table border=\"1\" class=\"dataframe\">\n",
       "  <thead>\n",
       "    <tr style=\"text-align: right;\">\n",
       "      <th></th>\n",
       "      <th>locker_id</th>\n",
       "      <th>available_slots</th>\n",
       "      <th>total_slots</th>\n",
       "      <th>occupancy_ratio</th>\n",
       "    </tr>\n",
       "  </thead>\n",
       "  <tbody>\n",
       "    <tr>\n",
       "      <th>18</th>\n",
       "      <td>19</td>\n",
       "      <td>26</td>\n",
       "      <td>50</td>\n",
       "      <td>0.480000</td>\n",
       "    </tr>\n",
       "    <tr>\n",
       "      <th>31</th>\n",
       "      <td>32</td>\n",
       "      <td>28</td>\n",
       "      <td>50</td>\n",
       "      <td>0.440000</td>\n",
       "    </tr>\n",
       "    <tr>\n",
       "      <th>52</th>\n",
       "      <td>53</td>\n",
       "      <td>29</td>\n",
       "      <td>50</td>\n",
       "      <td>0.420000</td>\n",
       "    </tr>\n",
       "    <tr>\n",
       "      <th>105</th>\n",
       "      <td>106</td>\n",
       "      <td>38</td>\n",
       "      <td>75</td>\n",
       "      <td>0.493333</td>\n",
       "    </tr>\n",
       "    <tr>\n",
       "      <th>109</th>\n",
       "      <td>110</td>\n",
       "      <td>26</td>\n",
       "      <td>50</td>\n",
       "      <td>0.480000</td>\n",
       "    </tr>\n",
       "    <tr>\n",
       "      <th>112</th>\n",
       "      <td>113</td>\n",
       "      <td>39</td>\n",
       "      <td>75</td>\n",
       "      <td>0.480000</td>\n",
       "    </tr>\n",
       "    <tr>\n",
       "      <th>130</th>\n",
       "      <td>131</td>\n",
       "      <td>26</td>\n",
       "      <td>50</td>\n",
       "      <td>0.480000</td>\n",
       "    </tr>\n",
       "    <tr>\n",
       "      <th>132</th>\n",
       "      <td>133</td>\n",
       "      <td>29</td>\n",
       "      <td>50</td>\n",
       "      <td>0.420000</td>\n",
       "    </tr>\n",
       "    <tr>\n",
       "      <th>138</th>\n",
       "      <td>139</td>\n",
       "      <td>28</td>\n",
       "      <td>50</td>\n",
       "      <td>0.440000</td>\n",
       "    </tr>\n",
       "    <tr>\n",
       "      <th>188</th>\n",
       "      <td>189</td>\n",
       "      <td>26</td>\n",
       "      <td>50</td>\n",
       "      <td>0.480000</td>\n",
       "    </tr>\n",
       "  </tbody>\n",
       "</table>\n",
       "</div>"
      ],
      "text/plain": [
       "     locker_id  available_slots  total_slots  occupancy_ratio\n",
       "18          19               26           50         0.480000\n",
       "31          32               28           50         0.440000\n",
       "52          53               29           50         0.420000\n",
       "105        106               38           75         0.493333\n",
       "109        110               26           50         0.480000\n",
       "112        113               39           75         0.480000\n",
       "130        131               26           50         0.480000\n",
       "132        133               29           50         0.420000\n",
       "138        139               28           50         0.440000\n",
       "188        189               26           50         0.480000"
      ]
     },
     "execution_count": 10,
     "metadata": {},
     "output_type": "execute_result"
    }
   ],
   "source": [
    "lockers_df[lockers_df.occupancy_ratio<0.5]"
   ]
  },
  {
   "cell_type": "code",
   "execution_count": 76,
   "id": "58f5943e-6da9-4ac3-b03a-adfd175c1be7",
   "metadata": {},
   "outputs": [
    {
     "data": {
      "text/plain": [
       "count    200.000000\n",
       "mean       0.601883\n",
       "std        0.064724\n",
       "min        0.420000\n",
       "25%        0.560000\n",
       "50%        0.600000\n",
       "75%        0.653333\n",
       "max        0.760000\n",
       "Name: occupancy_ratio, dtype: float64"
      ]
     },
     "execution_count": 76,
     "metadata": {},
     "output_type": "execute_result"
    }
   ],
   "source": [
    "lockers_df['occupancy_ratio'].describe()"
   ]
  },
  {
   "cell_type": "code",
   "execution_count": 11,
   "id": "c276cc97-3796-44db-a7d0-c9e6a794d8d3",
   "metadata": {},
   "outputs": [
    {
     "data": {
      "image/png": "[encoded data removed]",
      "text/plain": [
       "<Figure size 1000x600 with 1 Axes>"
      ]
     },
     "metadata": {},
     "output_type": "display_data"
    }
   ],
   "source": [
    "# Plot Occupancy Ratio Distribution\n",
    "\n",
    "plt.figure(figsize=(10, 6))\n",
    "sns.histplot(lockers_df['occupancy_ratio'], kde=True)\n",
    "\n",
    "mean_line = plt.axvline(lockers_df['occupancy_ratio'].mean(), color='r', linestyle='--')\n",
    "mode_line = plt.axvline(lockers_df['occupancy_ratio'].mode()[0], color='g', linestyle='-.')\n",
    "percentile_line = plt.axvline(lockers_df['occupancy_ratio'].quantile(0.95), color='b', linestyle='-')\n",
    "\n",
    "legend_labels = [mlines.Line2D([], [], color='r', linestyle='--', label=f\"Mean: {lockers_df['occupancy_ratio'].mean():.1f}\"),\n",
    "                 mlines.Line2D([], [], color='g', linestyle='-.', label=f\"Mode: {lockers_df['occupancy_ratio'].mode()[0]:.1f}\"),\n",
    "                 mlines.Line2D([], [], color='b', linestyle='-', label=f\"95th Percentile: {lockers_df['occupancy_ratio'].quantile(0.95):.1f}\")]\n",
    "\n",
    "plt.legend(handles=legend_labels, title=\"Statistics\")\n",
    "plt.xlabel('Occupancy Ratio')\n",
    "plt.title('Occupancy Ratio Distribution')\n",
    "plt.show()"
   ]
  },
  {
   "cell_type": "markdown",
   "id": "45a5f2b1-726c-4bda-a388-abbcad912827",
   "metadata": {},
   "source": [
    "- The average and mode being around *60%* and *56%* suggests that there may be room for improving the utilization of the locker space.\n",
    "- The 95th percentile tells us that some lockers are heavily utilized, and might need to be emptied more often to avoid exceeding capacity (?)."
   ]
  },
  {
   "cell_type": "markdown",
   "id": "865bd307-afdb-4e60-b017-d7c56f7dbfc8",
   "metadata": {},
   "source": [
    "Mean and mode in both distributions - **well-balanced system** - most lockers are neither too empty nor too full, which is a positive indicator of system efficiency.\n",
    "\n",
    "There is good match between locker capacity and demand for space.\n",
    "\n",
    "One possible improvement is identify why some lockers are **underutilized** or to take measures to relieve those that are **overfilled**."
   ]
  },
  {
   "cell_type": "markdown",
   "id": "0e09f173-b54d-4b5d-9d51-637b4d852e04",
   "metadata": {},
   "source": [
    "## Parcels data"
   ]
  },
  {
   "cell_type": "code",
   "execution_count": 12,
   "id": "9e771fc0-2a81-4566-a968-99c0cdf009d7",
   "metadata": {},
   "outputs": [],
   "source": [
    "parcels_df = pd.read_csv(\"....csv\", index_col =0)"
   ]
  },
  {
   "cell_type": "code",
   "execution_count": 13,
   "id": "6b15da9b-7baa-4589-9c88-f2a48c5567dc",
   "metadata": {},
   "outputs": [
    {
     "data": {
      "text/plain": [
       "(5352, 5)"
      ]
     },
     "execution_count": 13,
     "metadata": {},
     "output_type": "execute_result"
    }
   ],
   "source": [
    "parcels_df.shape"
   ]
  },
  {
   "cell_type": "code",
   "execution_count": 14,
   "id": "6f10e3a3-e4b7-4e7e-b8ea-16246bf2709c",
   "metadata": {},
   "outputs": [
    {
     "name": "stdout",
     "output_type": "stream",
     "text": [
      "<class 'pandas.core.frame.DataFrame'>\n",
      "Int64Index: 5352 entries, 60730603 to 20518917\n",
      "Data columns (total 5 columns):\n",
      " #   Column                      Non-Null Count  Dtype \n",
      "---  ------                      --------------  ----- \n",
      " 0   from_locker_id              5352 non-null   int64 \n",
      " 1   to_locker_id                5352 non-null   int64 \n",
      " 2   location                    5352 non-null   object\n",
      " 3   status                      5352 non-null   object\n",
      " 4   days_since_seller_drop_off  5352 non-null   int64 \n",
      "dtypes: int64(3), object(2)\n",
      "memory usage: 250.9+ KB\n"
     ]
    }
   ],
   "source": [
    "parcels_df.info()"
   ]
  },
  {
   "cell_type": "code",
   "execution_count": 15,
   "id": "4a1de98b-4700-4c3a-854e-00c64498497b",
   "metadata": {},
   "outputs": [
    {
     "data": {
      "text/html": [
       "<div>\n",
       "<style scoped>\n",
       "    .dataframe tbody tr th:only-of-type {\n",
       "        vertical-align: middle;\n",
       "    }\n",
       "\n",
       "    .dataframe tbody tr th {\n",
       "        vertical-align: top;\n",
       "    }\n",
       "\n",
       "    .dataframe thead th {\n",
       "        text-align: right;\n",
       "    }\n",
       "</style>\n",
       "<table border=\"1\" class=\"dataframe\">\n",
       "  <thead>\n",
       "    <tr style=\"text-align: right;\">\n",
       "      <th></th>\n",
       "      <th>from_locker_id</th>\n",
       "      <th>to_locker_id</th>\n",
       "      <th>location</th>\n",
       "      <th>status</th>\n",
       "      <th>days_since_seller_drop_off</th>\n",
       "    </tr>\n",
       "    <tr>\n",
       "      <th>tracking_code</th>\n",
       "      <th></th>\n",
       "      <th></th>\n",
       "      <th></th>\n",
       "      <th></th>\n",
       "      <th></th>\n",
       "    </tr>\n",
       "  </thead>\n",
       "  <tbody>\n",
       "    <tr>\n",
       "      <th>60730603</th>\n",
       "      <td>1</td>\n",
       "      <td>14</td>\n",
       "      <td>warehouse</td>\n",
       "      <td>in_delivery</td>\n",
       "      <td>3</td>\n",
       "    </tr>\n",
       "    <tr>\n",
       "      <th>21033612</th>\n",
       "      <td>1</td>\n",
       "      <td>14</td>\n",
       "      <td>warehouse</td>\n",
       "      <td>in_delivery</td>\n",
       "      <td>4</td>\n",
       "    </tr>\n",
       "    <tr>\n",
       "      <th>91420892</th>\n",
       "      <td>1</td>\n",
       "      <td>16</td>\n",
       "      <td>locker</td>\n",
       "      <td>in_delivery</td>\n",
       "      <td>0</td>\n",
       "    </tr>\n",
       "    <tr>\n",
       "      <th>31720295</th>\n",
       "      <td>1</td>\n",
       "      <td>34</td>\n",
       "      <td>locker</td>\n",
       "      <td>in_delivery</td>\n",
       "      <td>2</td>\n",
       "    </tr>\n",
       "    <tr>\n",
       "      <th>79296744</th>\n",
       "      <td>1</td>\n",
       "      <td>42</td>\n",
       "      <td>warehouse</td>\n",
       "      <td>in_delivery</td>\n",
       "      <td>1</td>\n",
       "    </tr>\n",
       "  </tbody>\n",
       "</table>\n",
       "</div>"
      ],
      "text/plain": [
       "               from_locker_id  to_locker_id   location       status  \\\n",
       "tracking_code                                                         \n",
       "60730603                    1            14  warehouse  in_delivery   \n",
       "21033612                    1            14  warehouse  in_delivery   \n",
       "91420892                    1            16     locker  in_delivery   \n",
       "31720295                    1            34     locker  in_delivery   \n",
       "79296744                    1            42  warehouse  in_delivery   \n",
       "\n",
       "               days_since_seller_drop_off  \n",
       "tracking_code                              \n",
       "60730603                                3  \n",
       "21033612                                4  \n",
       "91420892                                0  \n",
       "31720295                                2  \n",
       "79296744                                1  "
      ]
     },
     "execution_count": 15,
     "metadata": {},
     "output_type": "execute_result"
    }
   ],
   "source": [
    "parcels_df.head()"
   ]
  },
  {
   "cell_type": "markdown",
   "id": "8b4617b7-2140-4875-b35b-a2f7601c5bb7",
   "metadata": {},
   "source": [
    "### Constraints parcels:\n",
    "- `days_since_seller_drop_off` should be less than 5"
   ]
  },
  {
   "cell_type": "code",
   "execution_count": 16,
   "id": "5d18ab77-b65c-4588-a809-47468164abc5",
   "metadata": {},
   "outputs": [
    {
     "data": {
      "text/plain": [
       "200"
      ]
     },
     "execution_count": 16,
     "metadata": {},
     "output_type": "execute_result"
    }
   ],
   "source": [
    "parcels_df.from_locker_id.nunique()"
   ]
  },
  {
   "cell_type": "code",
   "execution_count": 17,
   "id": "367c032a-d34c-4182-aa82-70b865970673",
   "metadata": {},
   "outputs": [
    {
     "data": {
      "text/plain": [
       "200"
      ]
     },
     "execution_count": 17,
     "metadata": {},
     "output_type": "execute_result"
    }
   ],
   "source": [
    "parcels_df.to_locker_id.nunique()"
   ]
  },
  {
   "cell_type": "code",
   "execution_count": 18,
   "id": "af5b8a9e-2cf8-442c-af35-86cf829a7b21",
   "metadata": {},
   "outputs": [
    {
     "data": {
      "text/plain": [
       "0.01046337817638266"
      ]
     },
     "execution_count": 18,
     "metadata": {},
     "output_type": "execute_result"
    }
   ],
   "source": [
    "parcels_df[parcels_df.days_since_seller_drop_off>5].shape[0] / parcels_df.shape[0]"
   ]
  },
  {
   "cell_type": "code",
   "execution_count": 19,
   "id": "7cff69da-1413-4ec0-990b-55d39d8cc2ea",
   "metadata": {},
   "outputs": [
    {
     "data": {
      "image/png": "[encoded data removed]",
      "text/plain": [
       "<Figure size 1000x600 with 1 Axes>"
      ]
     },
     "metadata": {},
     "output_type": "display_data"
    }
   ],
   "source": [
    "# Plot Days Since Seller Drop Off Distribution\n",
    "\n",
    "plt.figure(figsize=(10, 6))\n",
    "sns.histplot(parcels_df['days_since_seller_drop_off'], kde=True, bins=8)\n",
    "\n",
    "mean_line = plt.axvline(parcels_df['days_since_seller_drop_off'].mean(), color='r', linestyle='--')\n",
    "mode_line = plt.axvline(parcels_df['days_since_seller_drop_off'].mode()[0], color='g', linestyle='-.')\n",
    "percentile_line = plt.axvline(parcels_df['days_since_seller_drop_off'].quantile(0.95), color='b', linestyle='-')\n",
    "\n",
    "legend_labels = [mlines.Line2D([], [], color='r', linestyle='--', label=f\"Mean: {parcels_df['days_since_seller_drop_off'].mean():.1f}\"),\n",
    "                 mlines.Line2D([], [], color='g', linestyle='-.', label=f\"Mode: {parcels_df['days_since_seller_drop_off'].mode()[0]:.1f}\"),\n",
    "                 mlines.Line2D([], [], color='b', linestyle='-', label=f\"95th Percentile: {parcels_df['days_since_seller_drop_off'].quantile(0.95):.1f}\")]\n",
    "\n",
    "plt.legend(handles=legend_labels, title=\"Statistics\")\n",
    "plt.xlabel('Days Since Seller Drop Off')\n",
    "plt.title('Days Since Seller Drop Off Distribution')\n",
    "plt.show()"
   ]
  },
  {
   "cell_type": "markdown",
   "id": "8bf4f813-1720-479d-a286-414f50f8bc52",
   "metadata": {},
   "source": [
    "- On average, parcels stay in lockers for less than 2 days before being picked up - positive sign for achieving the SLA of 5 days.\n",
    "- Only a small percentage (5%) of parcels are at risk of breaching the SLA."
   ]
  },
  {
   "cell_type": "code",
   "execution_count": 20,
   "id": "8cb50bd8-d0d7-4088-aef0-332e93fb06b0",
   "metadata": {},
   "outputs": [
    {
     "data": {
      "text/plain": [
       "49"
      ]
     },
     "execution_count": 20,
     "metadata": {},
     "output_type": "execute_result"
    }
   ],
   "source": [
    "len(parcels_df[(parcels_df.days_since_seller_drop_off>5)].to_locker_id.unique())"
   ]
  },
  {
   "cell_type": "code",
   "execution_count": 21,
   "id": "bb6180b6-bece-4f1c-9406-e23fda853894",
   "metadata": {},
   "outputs": [
    {
     "data": {
      "text/plain": [
       "array([152, 177, 114,  93,  38, 184, 150,  18,  80, 137, 151,   6, 115,\n",
       "       102, 111, 185,  84,  96, 198,   7,  83,  88, 138,  25, 192,  62,\n",
       "        35,  31, 127,  44,  46,   1, 199, 160, 103, 194,  16, 155, 141,\n",
       "        26,  95, 123,  23, 175, 101, 124])"
      ]
     },
     "execution_count": 21,
     "metadata": {},
     "output_type": "execute_result"
    }
   ],
   "source": [
    "parcels_df[(parcels_df.days_since_seller_drop_off>5) & \n",
    "           (parcels_df.location == \"warehouse\")].to_locker_id.unique()"
   ]
  },
  {
   "cell_type": "code",
   "execution_count": 22,
   "id": "1bd5856c-590f-4b6e-b61d-7631c8311159",
   "metadata": {},
   "outputs": [
    {
     "data": {
      "text/plain": [
       "array([34, 60, 79, 89])"
      ]
     },
     "execution_count": 22,
     "metadata": {},
     "output_type": "execute_result"
    }
   ],
   "source": [
    "parcels_df[(parcels_df.days_since_seller_drop_off>5) & \n",
    "           (parcels_df.location == \"locker\")].from_locker_id.unique()"
   ]
  },
  {
   "cell_type": "code",
   "execution_count": 23,
   "id": "44507346-2fbb-4cd6-bd5a-1e4aaa011f24",
   "metadata": {},
   "outputs": [
    {
     "data": {
      "text/plain": [
       "array(['in_delivery'], dtype=object)"
      ]
     },
     "execution_count": 23,
     "metadata": {},
     "output_type": "execute_result"
    }
   ],
   "source": [
    "parcels_df.status.unique()"
   ]
  },
  {
   "cell_type": "code",
   "execution_count": 24,
   "id": "f3d70986-e653-4b8b-bb6d-cd307d1f8354",
   "metadata": {},
   "outputs": [
    {
     "data": {
      "text/plain": [
       "locker       0.66293\n",
       "warehouse    0.33707\n",
       "Name: location, dtype: float64"
      ]
     },
     "execution_count": 24,
     "metadata": {},
     "output_type": "execute_result"
    }
   ],
   "source": [
    "parcels_df.location.value_counts(normalize=True)"
   ]
  },
  {
   "cell_type": "code",
   "execution_count": 25,
   "id": "d4fa842a-f478-48d2-803d-c0d51a48717d",
   "metadata": {},
   "outputs": [
    {
     "data": {
      "image/png": "[encoded data removed]",
      "text/plain": [
       "<Figure size 640x480 with 1 Axes>"
      ]
     },
     "metadata": {},
     "output_type": "display_data"
    }
   ],
   "source": [
    "sns.countplot(x='location', data=parcels_df)\n",
    "plt.title('Parcel Location Distribution')\n",
    "plt.xlabel('Location')\n",
    "plt.ylabel('Count')\n",
    "plt.show()"
   ]
  },
  {
   "cell_type": "markdown",
   "id": "67a49700-656d-462a-8144-5f561bc1816c",
   "metadata": {},
   "source": [
    "- Lockers are being used efficiently as storage units - nearing their capacity limits ?\n",
    "- With only *33.7%* of parcels in the warehouse - warehouse has a good amount of free space for sorting and temporary storage, or it could indicate an efficient flow of parcels through the warehouse.\n",
    "- Increasing locker visits by drivers rather than expanding warehouse storage, depending on various other cost factors ?\n",
    "  "
   ]
  },
  {
   "cell_type": "markdown",
   "id": "dfe8e257-e80b-4ecc-a23b-a9c3ce67e672",
   "metadata": {},
   "source": [
    "### Merge Locker/ Parcel data"
   ]
  },
  {
   "cell_type": "code",
   "execution_count": 26,
   "id": "3d4f70d5-6d98-4600-b2af-6a8c58697648",
   "metadata": {},
   "outputs": [],
   "source": [
    "# Average days since seller drop-off for each locker\n",
    "avg_days = parcels_df.groupby('from_locker_id')['days_since_seller_drop_off'].mean().reset_index()\n",
    "avg_days.columns = ['locker_id', 'avg_days_since_drop_off']"
   ]
  },
  {
   "cell_type": "code",
   "execution_count": 27,
   "id": "b9e4d36a-bb60-42af-b04d-46dd3cc8109c",
   "metadata": {},
   "outputs": [
    {
     "data": {
      "text/html": [
       "<div>\n",
       "<style scoped>\n",
       "    .dataframe tbody tr th:only-of-type {\n",
       "        vertical-align: middle;\n",
       "    }\n",
       "\n",
       "    .dataframe tbody tr th {\n",
       "        vertical-align: top;\n",
       "    }\n",
       "\n",
       "    .dataframe thead th {\n",
       "        text-align: right;\n",
       "    }\n",
       "</style>\n",
       "<table border=\"1\" class=\"dataframe\">\n",
       "  <thead>\n",
       "    <tr style=\"text-align: right;\">\n",
       "      <th></th>\n",
       "      <th>locker_id</th>\n",
       "      <th>avg_days_since_drop_off</th>\n",
       "    </tr>\n",
       "  </thead>\n",
       "  <tbody>\n",
       "    <tr>\n",
       "      <th>0</th>\n",
       "      <td>1</td>\n",
       "      <td>2.172414</td>\n",
       "    </tr>\n",
       "    <tr>\n",
       "      <th>1</th>\n",
       "      <td>2</td>\n",
       "      <td>1.904762</td>\n",
       "    </tr>\n",
       "    <tr>\n",
       "      <th>2</th>\n",
       "      <td>3</td>\n",
       "      <td>1.571429</td>\n",
       "    </tr>\n",
       "    <tr>\n",
       "      <th>3</th>\n",
       "      <td>4</td>\n",
       "      <td>1.823529</td>\n",
       "    </tr>\n",
       "    <tr>\n",
       "      <th>4</th>\n",
       "      <td>5</td>\n",
       "      <td>2.000000</td>\n",
       "    </tr>\n",
       "  </tbody>\n",
       "</table>\n",
       "</div>"
      ],
      "text/plain": [
       "   locker_id  avg_days_since_drop_off\n",
       "0          1                 2.172414\n",
       "1          2                 1.904762\n",
       "2          3                 1.571429\n",
       "3          4                 1.823529\n",
       "4          5                 2.000000"
      ]
     },
     "execution_count": 27,
     "metadata": {},
     "output_type": "execute_result"
    }
   ],
   "source": [
    "avg_days.head()"
   ]
  },
  {
   "cell_type": "code",
   "execution_count": 78,
   "id": "2661bd04-fd08-4e81-bd7b-31ef0270b576",
   "metadata": {},
   "outputs": [
    {
     "data": {
      "text/plain": [
       "count    200.000000\n",
       "mean       1.840660\n",
       "std        0.271291\n",
       "min        0.952381\n",
       "25%        1.650000\n",
       "50%        1.859606\n",
       "75%        2.000000\n",
       "max        2.666667\n",
       "Name: avg_days_since_drop_off, dtype: float64"
      ]
     },
     "execution_count": 78,
     "metadata": {},
     "output_type": "execute_result"
    }
   ],
   "source": [
    "avg_days['avg_days_since_drop_off'].describe()"
   ]
  },
  {
   "cell_type": "code",
   "execution_count": 77,
   "id": "974fcc6a-f9dc-4452-b7d1-c4d2d8c65dff",
   "metadata": {},
   "outputs": [
    {
     "data": {
      "image/png": "[encoded data removed]",
      "text/plain": [
       "<Figure size 1000x600 with 1 Axes>"
      ]
     },
     "metadata": {},
     "output_type": "display_data"
    }
   ],
   "source": [
    "# Plot Average Days Since Drop-Off Distribution\n",
    "\n",
    "plt.figure(figsize=(10, 6))\n",
    "sns.histplot(avg_days['avg_days_since_drop_off'], kde=True, bins=8)\n",
    "\n",
    "mean_line = plt.axvline(avg_days['avg_days_since_drop_off'].mean(), color='r', linestyle='--')\n",
    "mode_line = plt.axvline(avg_days['avg_days_since_drop_off'].mode()[0], color='g', linestyle='-.')\n",
    "percentile_line = plt.axvline(avg_days['avg_days_since_drop_off'].quantile(0.95), color='b', linestyle='-')\n",
    "\n",
    "legend_labels = [mlines.Line2D([], [], color='r', linestyle='--', label=f\"Mean: {avg_days['avg_days_since_drop_off'].mean():.1f}\"),\n",
    "                 mlines.Line2D([], [], color='g', linestyle='-.', label=f\"Mode: {avg_days['avg_days_since_drop_off'].mode()[0]:.1f}\"),\n",
    "                 mlines.Line2D([], [], color='b', linestyle='-', label=f\"95th Percentile: {avg_days['avg_days_since_drop_off'].quantile(0.95):.1f}\")]\n",
    "\n",
    "plt.legend(handles=legend_labels, title=\"Statistics\")\n",
    "plt.xlabel('Average Days Since Drop-Off')\n",
    "plt.title('Average Days Since Drop-Off Distribution')\n",
    "plt.show()"
   ]
  },
  {
   "cell_type": "markdown",
   "id": "14eb55aa-5dec-456a-8cea-647211b61a40",
   "metadata": {},
   "source": [
    "- The mean being around 1.84 suggest that most lockers are experiencing a healthy turnover of parcels. This aligns well with the business goal of maximizing locker usage without overwhelming the system.\n",
    "- Some lockers with an $AverageDaysSinceDropOff$, close to the maximum might require attention. These could be outliers in terms of SLA violations or inefficient usage, which could potentially disrupt the whole system if not managed."
   ]
  },
  {
   "cell_type": "markdown",
   "id": "7cd8dcb3-bacc-4f95-89cd-b0305f9240b2",
   "metadata": {},
   "source": [
    "Given the metrics, there's a strong correlation between locker occupancy and average days since drop-off, suggesting that the system has a good balance between these two metrics."
   ]
  },
  {
   "cell_type": "code",
   "execution_count": 28,
   "id": "e40de931-780b-495a-917a-ec1c3d50ae64",
   "metadata": {},
   "outputs": [],
   "source": [
    "lockers_df = pd.merge(lockers_df, avg_days, on='locker_id', how='left').fillna(0)"
   ]
  },
  {
   "cell_type": "code",
   "execution_count": 29,
   "id": "b2d78b42-6653-466d-8a39-a343d729ba6d",
   "metadata": {},
   "outputs": [
    {
     "data": {
      "text/html": [
       "<div>\n",
       "<style scoped>\n",
       "    .dataframe tbody tr th:only-of-type {\n",
       "        vertical-align: middle;\n",
       "    }\n",
       "\n",
       "    .dataframe tbody tr th {\n",
       "        vertical-align: top;\n",
       "    }\n",
       "\n",
       "    .dataframe thead th {\n",
       "        text-align: right;\n",
       "    }\n",
       "</style>\n",
       "<table border=\"1\" class=\"dataframe\">\n",
       "  <thead>\n",
       "    <tr style=\"text-align: right;\">\n",
       "      <th></th>\n",
       "      <th>locker_id</th>\n",
       "      <th>available_slots</th>\n",
       "      <th>total_slots</th>\n",
       "      <th>occupancy_ratio</th>\n",
       "      <th>avg_days_since_drop_off</th>\n",
       "    </tr>\n",
       "  </thead>\n",
       "  <tbody>\n",
       "    <tr>\n",
       "      <th>0</th>\n",
       "      <td>1</td>\n",
       "      <td>14</td>\n",
       "      <td>50</td>\n",
       "      <td>0.72</td>\n",
       "      <td>2.172414</td>\n",
       "    </tr>\n",
       "    <tr>\n",
       "      <th>1</th>\n",
       "      <td>2</td>\n",
       "      <td>20</td>\n",
       "      <td>50</td>\n",
       "      <td>0.60</td>\n",
       "      <td>1.904762</td>\n",
       "    </tr>\n",
       "    <tr>\n",
       "      <th>2</th>\n",
       "      <td>3</td>\n",
       "      <td>24</td>\n",
       "      <td>50</td>\n",
       "      <td>0.52</td>\n",
       "      <td>1.571429</td>\n",
       "    </tr>\n",
       "    <tr>\n",
       "      <th>3</th>\n",
       "      <td>4</td>\n",
       "      <td>15</td>\n",
       "      <td>50</td>\n",
       "      <td>0.70</td>\n",
       "      <td>1.823529</td>\n",
       "    </tr>\n",
       "    <tr>\n",
       "      <th>4</th>\n",
       "      <td>5</td>\n",
       "      <td>22</td>\n",
       "      <td>50</td>\n",
       "      <td>0.56</td>\n",
       "      <td>2.000000</td>\n",
       "    </tr>\n",
       "  </tbody>\n",
       "</table>\n",
       "</div>"
      ],
      "text/plain": [
       "   locker_id  available_slots  total_slots  occupancy_ratio  \\\n",
       "0          1               14           50             0.72   \n",
       "1          2               20           50             0.60   \n",
       "2          3               24           50             0.52   \n",
       "3          4               15           50             0.70   \n",
       "4          5               22           50             0.56   \n",
       "\n",
       "   avg_days_since_drop_off  \n",
       "0                 2.172414  \n",
       "1                 1.904762  \n",
       "2                 1.571429  \n",
       "3                 1.823529  \n",
       "4                 2.000000  "
      ]
     },
     "execution_count": 29,
     "metadata": {},
     "output_type": "execute_result"
    }
   ],
   "source": [
    "lockers_df.head()"
   ]
  },
  {
   "cell_type": "markdown",
   "id": "de796aee-9254-4a77-8e2c-73c79e11b42d",
   "metadata": {},
   "source": [
    "Example in-out flow:"
   ]
  },
  {
   "cell_type": "code",
   "execution_count": 30,
   "id": "a381ec84-55d3-45de-8782-0477581236c9",
   "metadata": {},
   "outputs": [
    {
     "data": {
      "text/plain": [
       "7"
      ]
     },
     "execution_count": 30,
     "metadata": {},
     "output_type": "execute_result"
    }
   ],
   "source": [
    "parcels_df[(parcels_df['location'] == 'warehouse') & (parcels_df['to_locker_id'] == 1)].from_locker_id.count()"
   ]
  },
  {
   "cell_type": "markdown",
   "id": "f47785b8-d005-4a32-8d4a-0d979b392eab",
   "metadata": {},
   "source": [
    "**In:** 7 parcels from the warehouse to locker 1"
   ]
  },
  {
   "cell_type": "code",
   "execution_count": 31,
   "id": "a4eab3a3-3997-49bc-ab71-dc85e4173774",
   "metadata": {},
   "outputs": [
    {
     "data": {
      "text/plain": [
       "18"
      ]
     },
     "execution_count": 31,
     "metadata": {},
     "output_type": "execute_result"
    }
   ],
   "source": [
    "parcels_df[(parcels_df['location'] == 'locker') & (parcels_df['from_locker_id'] == 1)].from_locker_id.count()"
   ]
  },
  {
   "cell_type": "markdown",
   "id": "165eab64-b4d1-491c-a512-7e29f0375e40",
   "metadata": {},
   "source": [
    "**Out:** 18 parcels from the locker 1 to the warehouse"
   ]
  },
  {
   "cell_type": "code",
   "execution_count": 32,
   "id": "bb333b41-27eb-457f-8c4d-6891c98fe927",
   "metadata": {},
   "outputs": [
    {
     "data": {
      "text/plain": [
       "0.3888888888888889"
      ]
     },
     "execution_count": 32,
     "metadata": {},
     "output_type": "execute_result"
    }
   ],
   "source": [
    "7/18"
   ]
  },
  {
   "cell_type": "code",
   "execution_count": 33,
   "id": "718a9009-94c3-465f-9d59-637fddc35117",
   "metadata": {},
   "outputs": [],
   "source": [
    "# Calculate In-Out Ratio\n",
    "in_flow = parcels_df[parcels_df['location'] == 'warehouse'].groupby('to_locker_id').size().reset_index(name='in_flow')\n",
    "out_flow = parcels_df[parcels_df['location'] == 'locker'].groupby('from_locker_id').size().reset_index(name='out_flow')"
   ]
  },
  {
   "cell_type": "code",
   "execution_count": 34,
   "id": "b84b87ed-2974-40b8-9a76-9c46c0ba41b0",
   "metadata": {},
   "outputs": [],
   "source": [
    "flow_df = pd.merge(in_flow, out_flow, left_on='to_locker_id', right_on='from_locker_id', how='outer').fillna(0)\n",
    "flow_df['in_out_ratio'] = flow_df['in_flow'] / (flow_df['out_flow'])"
   ]
  },
  {
   "cell_type": "code",
   "execution_count": 35,
   "id": "6f3fa041-8d0c-4f28-b5eb-eea7f5fde47b",
   "metadata": {},
   "outputs": [
    {
     "data": {
      "text/html": [
       "<div>\n",
       "<style scoped>\n",
       "    .dataframe tbody tr th:only-of-type {\n",
       "        vertical-align: middle;\n",
       "    }\n",
       "\n",
       "    .dataframe tbody tr th {\n",
       "        vertical-align: top;\n",
       "    }\n",
       "\n",
       "    .dataframe thead th {\n",
       "        text-align: right;\n",
       "    }\n",
       "</style>\n",
       "<table border=\"1\" class=\"dataframe\">\n",
       "  <thead>\n",
       "    <tr style=\"text-align: right;\">\n",
       "      <th></th>\n",
       "      <th>to_locker_id</th>\n",
       "      <th>in_flow</th>\n",
       "      <th>from_locker_id</th>\n",
       "      <th>out_flow</th>\n",
       "      <th>in_out_ratio</th>\n",
       "    </tr>\n",
       "  </thead>\n",
       "  <tbody>\n",
       "    <tr>\n",
       "      <th>0</th>\n",
       "      <td>1</td>\n",
       "      <td>7</td>\n",
       "      <td>1</td>\n",
       "      <td>18</td>\n",
       "      <td>0.388889</td>\n",
       "    </tr>\n",
       "    <tr>\n",
       "      <th>1</th>\n",
       "      <td>2</td>\n",
       "      <td>9</td>\n",
       "      <td>2</td>\n",
       "      <td>14</td>\n",
       "      <td>0.642857</td>\n",
       "    </tr>\n",
       "    <tr>\n",
       "      <th>2</th>\n",
       "      <td>3</td>\n",
       "      <td>5</td>\n",
       "      <td>3</td>\n",
       "      <td>18</td>\n",
       "      <td>0.277778</td>\n",
       "    </tr>\n",
       "    <tr>\n",
       "      <th>3</th>\n",
       "      <td>4</td>\n",
       "      <td>6</td>\n",
       "      <td>4</td>\n",
       "      <td>22</td>\n",
       "      <td>0.272727</td>\n",
       "    </tr>\n",
       "    <tr>\n",
       "      <th>4</th>\n",
       "      <td>5</td>\n",
       "      <td>10</td>\n",
       "      <td>5</td>\n",
       "      <td>13</td>\n",
       "      <td>0.769231</td>\n",
       "    </tr>\n",
       "  </tbody>\n",
       "</table>\n",
       "</div>"
      ],
      "text/plain": [
       "   to_locker_id  in_flow  from_locker_id  out_flow  in_out_ratio\n",
       "0             1        7               1        18      0.388889\n",
       "1             2        9               2        14      0.642857\n",
       "2             3        5               3        18      0.277778\n",
       "3             4        6               4        22      0.272727\n",
       "4             5       10               5        13      0.769231"
      ]
     },
     "execution_count": 35,
     "metadata": {},
     "output_type": "execute_result"
    }
   ],
   "source": [
    "flow_df.head()"
   ]
  },
  {
   "cell_type": "code",
   "execution_count": 79,
   "id": "c4d14297-92b7-48c4-aeda-4be5b572ffa9",
   "metadata": {},
   "outputs": [
    {
     "data": {
      "text/plain": [
       "count    200.000000\n",
       "mean       0.527931\n",
       "std        0.231463\n",
       "min        0.083333\n",
       "25%        0.385561\n",
       "50%        0.500000\n",
       "75%        0.617788\n",
       "max        2.125000\n",
       "Name: in_out_ratio, dtype: float64"
      ]
     },
     "execution_count": 79,
     "metadata": {},
     "output_type": "execute_result"
    }
   ],
   "source": [
    "flow_df['in_out_ratio'].describe()"
   ]
  },
  {
   "cell_type": "code",
   "execution_count": 36,
   "id": "21414411-953b-458a-bf3e-b5ed0b583cc8",
   "metadata": {},
   "outputs": [
    {
     "data": {
      "image/png": "[encoded data removed]",
      "text/plain": [
       "<Figure size 1000x600 with 1 Axes>"
      ]
     },
     "metadata": {},
     "output_type": "display_data"
    }
   ],
   "source": [
    "# Plot In-Out Ratio Distribution\n",
    "\n",
    "plt.figure(figsize=(10, 6))\n",
    "sns.histplot(flow_df['in_out_ratio'], kde=True, bins=8)\n",
    "\n",
    "mean_line = plt.axvline(flow_df['in_out_ratio'].mean(), color='r', linestyle='--')\n",
    "mode_line = plt.axvline(flow_df['in_out_ratio'].mode()[0], color='g', linestyle='-.')\n",
    "percentile_line = plt.axvline(flow_df['in_out_ratio'].quantile(0.95), color='b', linestyle='-')\n",
    "\n",
    "legend_labels = [mlines.Line2D([], [], color='r', linestyle='--', label=f\"Mean: {flow_df['in_out_ratio'].mean():.1f}\"),\n",
    "                 mlines.Line2D([], [], color='g', linestyle='-.', label=f\"Mode: {flow_df['in_out_ratio'].mode()[0]:.1f}\"),\n",
    "                 mlines.Line2D([], [], color='b', linestyle='-', label=f\"95th Percentile: {flow_df['in_out_ratio'].quantile(0.95):.1f}\")]\n",
    "\n",
    "plt.legend(handles=legend_labels, title=\"Statistics\")\n",
    "plt.xlabel('In-Out Ratio')\n",
    "plt.title('In-Out Ratio Distribution')\n",
    "plt.show()"
   ]
  },
  {
   "cell_type": "markdown",
   "id": "3f44c50a-6bd1-46f3-920b-8d1bd02ac537",
   "metadata": {},
   "source": [
    "- The maximum value of 2.1 indicates that some lockers are experiencing a much higher inflow than outflow, potentially leading to capacity issues. The minimum of 0.08 suggests the opposite problem: lockers that are frequently emptying but not receiving parcels, possibly indicating underutilization.\n",
    "- High in-out ratios could indicate potential congestion, leading to reduced locker availability for new parcels. Low ratios could signify underutilization, resulting in wasted space and operational inefficiency."
   ]
  },
  {
   "cell_type": "markdown",
   "id": "8baa8f6b-2a13-4a4a-ae0d-752a88f6f4c9",
   "metadata": {},
   "source": [
    "The in-out ratio could be strongly correlated with both the occupancy ratio and average days since drop-off. A balanced in-out ratio likely contributes to a well-utilized locker system (higher occupancy ratio) and a lower risk of SLA violations (lower average days since drop-off)."
   ]
  },
  {
   "cell_type": "code",
   "execution_count": 37,
   "id": "bda5d417-bc0c-4ea3-8f99-fe12b2dfbdcd",
   "metadata": {},
   "outputs": [],
   "source": [
    "lockers_df = pd.merge(lockers_df, flow_df[[\"from_locker_id\", \"in_flow\", \"out_flow\", \"in_out_ratio\"]], \n",
    "                      left_on='locker_id', right_on='from_locker_id', how='left').fillna(0)\n",
    "\n",
    "lockers_df = lockers_df.drop(columns = [\"from_locker_id\"])"
   ]
  },
  {
   "cell_type": "code",
   "execution_count": 38,
   "id": "03f5d46a-6c0e-4070-ac85-4963f3d93df5",
   "metadata": {},
   "outputs": [
    {
     "data": {
      "text/html": [
       "<div>\n",
       "<style scoped>\n",
       "    .dataframe tbody tr th:only-of-type {\n",
       "        vertical-align: middle;\n",
       "    }\n",
       "\n",
       "    .dataframe tbody tr th {\n",
       "        vertical-align: top;\n",
       "    }\n",
       "\n",
       "    .dataframe thead th {\n",
       "        text-align: right;\n",
       "    }\n",
       "</style>\n",
       "<table border=\"1\" class=\"dataframe\">\n",
       "  <thead>\n",
       "    <tr style=\"text-align: right;\">\n",
       "      <th></th>\n",
       "      <th>locker_id</th>\n",
       "      <th>available_slots</th>\n",
       "      <th>total_slots</th>\n",
       "      <th>occupancy_ratio</th>\n",
       "      <th>avg_days_since_drop_off</th>\n",
       "      <th>in_flow</th>\n",
       "      <th>out_flow</th>\n",
       "      <th>in_out_ratio</th>\n",
       "    </tr>\n",
       "  </thead>\n",
       "  <tbody>\n",
       "    <tr>\n",
       "      <th>0</th>\n",
       "      <td>1</td>\n",
       "      <td>14</td>\n",
       "      <td>50</td>\n",
       "      <td>0.72</td>\n",
       "      <td>2.172414</td>\n",
       "      <td>7</td>\n",
       "      <td>18</td>\n",
       "      <td>0.388889</td>\n",
       "    </tr>\n",
       "    <tr>\n",
       "      <th>1</th>\n",
       "      <td>2</td>\n",
       "      <td>20</td>\n",
       "      <td>50</td>\n",
       "      <td>0.60</td>\n",
       "      <td>1.904762</td>\n",
       "      <td>9</td>\n",
       "      <td>14</td>\n",
       "      <td>0.642857</td>\n",
       "    </tr>\n",
       "    <tr>\n",
       "      <th>2</th>\n",
       "      <td>3</td>\n",
       "      <td>24</td>\n",
       "      <td>50</td>\n",
       "      <td>0.52</td>\n",
       "      <td>1.571429</td>\n",
       "      <td>5</td>\n",
       "      <td>18</td>\n",
       "      <td>0.277778</td>\n",
       "    </tr>\n",
       "    <tr>\n",
       "      <th>3</th>\n",
       "      <td>4</td>\n",
       "      <td>15</td>\n",
       "      <td>50</td>\n",
       "      <td>0.70</td>\n",
       "      <td>1.823529</td>\n",
       "      <td>6</td>\n",
       "      <td>22</td>\n",
       "      <td>0.272727</td>\n",
       "    </tr>\n",
       "    <tr>\n",
       "      <th>4</th>\n",
       "      <td>5</td>\n",
       "      <td>22</td>\n",
       "      <td>50</td>\n",
       "      <td>0.56</td>\n",
       "      <td>2.000000</td>\n",
       "      <td>10</td>\n",
       "      <td>13</td>\n",
       "      <td>0.769231</td>\n",
       "    </tr>\n",
       "  </tbody>\n",
       "</table>\n",
       "</div>"
      ],
      "text/plain": [
       "   locker_id  available_slots  total_slots  occupancy_ratio  \\\n",
       "0          1               14           50             0.72   \n",
       "1          2               20           50             0.60   \n",
       "2          3               24           50             0.52   \n",
       "3          4               15           50             0.70   \n",
       "4          5               22           50             0.56   \n",
       "\n",
       "   avg_days_since_drop_off  in_flow  out_flow  in_out_ratio  \n",
       "0                 2.172414        7        18      0.388889  \n",
       "1                 1.904762        9        14      0.642857  \n",
       "2                 1.571429        5        18      0.277778  \n",
       "3                 1.823529        6        22      0.272727  \n",
       "4                 2.000000       10        13      0.769231  "
      ]
     },
     "execution_count": 38,
     "metadata": {},
     "output_type": "execute_result"
    }
   ],
   "source": [
    "lockers_df.head()"
   ]
  },
  {
   "cell_type": "code",
   "execution_count": 39,
   "id": "ae41b7c8-bb70-4b19-b454-d5bb06a8fe68",
   "metadata": {
    "scrolled": true
   },
   "outputs": [
    {
     "data": {
      "image/png": "[encoded data removed]",
      "text/plain": [
       "<Figure size 1000x600 with 1 Axes>"
      ]
     },
     "metadata": {},
     "output_type": "display_data"
    }
   ],
   "source": [
    "# Create scatter plot\n",
    "plt.figure(figsize=(10, 6))\n",
    "plt.scatter(lockers_df['occupancy_ratio'], lockers_df['avg_days_since_drop_off'], c='blue', alpha=0.5)\n",
    "plt.title('Locker Occupancy vs Days Since Drop-Off')\n",
    "plt.xlabel('Locker Occupancy Ratio')\n",
    "plt.ylabel('Days Since Seller Drop-Off')\n",
    "plt.show()"
   ]
  },
  {
   "cell_type": "code",
   "execution_count": 123,
   "id": "b883ef53-9dbb-4b45-a609-3cc13ce1f04d",
   "metadata": {},
   "outputs": [
    {
     "data": {
      "image/png": "[encoded data removed]",
      "text/plain": [
       "<Figure size 640x480 with 1 Axes>"
      ]
     },
     "metadata": {},
     "output_type": "display_data"
    }
   ],
   "source": [
    "location_stats = parcels_df[parcels_df['days_since_seller_drop_off'] > 5]\n",
    "sns.countplot(x='location', data=location_stats)\n",
    "plt.title('Parcel Location Distribution')\n",
    "plt.xlabel('Location')\n",
    "plt.ylabel('Count')\n",
    "plt.show()"
   ]
  },
  {
   "cell_type": "code",
   "execution_count": 40,
   "id": "6a27260d-5dcb-49b5-8092-dfc9e35b5798",
   "metadata": {},
   "outputs": [],
   "source": [
    "# Identify parcels that violate the SLA\n",
    "over_sla = parcels_df[parcels_df['days_since_seller_drop_off'] > 5].groupby('from_locker_id').size().reset_index()\n",
    "over_sla.columns = ['locker_id', 'parcels_over_sla']\n",
    "over_sla = over_sla.sort_values(by='parcels_over_sla', ascending=False)"
   ]
  },
  {
   "cell_type": "code",
   "execution_count": 82,
   "id": "949528b1-aec2-4a6d-ab04-d6730855aeb7",
   "metadata": {},
   "outputs": [
    {
     "data": {
      "text/html": [
       "<div>\n",
       "<style scoped>\n",
       "    .dataframe tbody tr th:only-of-type {\n",
       "        vertical-align: middle;\n",
       "    }\n",
       "\n",
       "    .dataframe tbody tr th {\n",
       "        vertical-align: top;\n",
       "    }\n",
       "\n",
       "    .dataframe thead th {\n",
       "        text-align: right;\n",
       "    }\n",
       "</style>\n",
       "<table border=\"1\" class=\"dataframe\">\n",
       "  <thead>\n",
       "    <tr style=\"text-align: right;\">\n",
       "      <th></th>\n",
       "      <th>locker_id</th>\n",
       "      <th>parcels_over_sla</th>\n",
       "    </tr>\n",
       "  </thead>\n",
       "  <tbody>\n",
       "    <tr>\n",
       "      <th>7</th>\n",
       "      <td>20</td>\n",
       "      <td>3</td>\n",
       "    </tr>\n",
       "    <tr>\n",
       "      <th>31</th>\n",
       "      <td>133</td>\n",
       "      <td>2</td>\n",
       "    </tr>\n",
       "    <tr>\n",
       "      <th>43</th>\n",
       "      <td>181</td>\n",
       "      <td>2</td>\n",
       "    </tr>\n",
       "    <tr>\n",
       "      <th>40</th>\n",
       "      <td>169</td>\n",
       "      <td>2</td>\n",
       "    </tr>\n",
       "    <tr>\n",
       "      <th>11</th>\n",
       "      <td>30</td>\n",
       "      <td>2</td>\n",
       "    </tr>\n",
       "  </tbody>\n",
       "</table>\n",
       "</div>"
      ],
      "text/plain": [
       "    locker_id  parcels_over_sla\n",
       "7          20                 3\n",
       "31        133                 2\n",
       "43        181                 2\n",
       "40        169                 2\n",
       "11         30                 2"
      ]
     },
     "execution_count": 82,
     "metadata": {},
     "output_type": "execute_result"
    }
   ],
   "source": [
    "over_sla.head()"
   ]
  },
  {
   "cell_type": "code",
   "execution_count": 83,
   "id": "afcbeffe-c282-4664-bbf9-e5b69d307f15",
   "metadata": {},
   "outputs": [
    {
     "data": {
      "text/plain": [
       "(49, 2)"
      ]
     },
     "execution_count": 83,
     "metadata": {},
     "output_type": "execute_result"
    }
   ],
   "source": [
    "over_sla.shape"
   ]
  },
  {
   "cell_type": "code",
   "execution_count": 80,
   "id": "0cf2b470-e4a6-49e4-8615-ea949a7d9766",
   "metadata": {},
   "outputs": [
    {
     "data": {
      "image/png": "[encoded data removed]",
      "text/plain": [
       "<Figure size 1200x600 with 1 Axes>"
      ]
     },
     "metadata": {},
     "output_type": "display_data"
    }
   ],
   "source": [
    "plt.figure(figsize=(12, 6))\n",
    "plt.bar(over_sla['locker_id'].astype(str), over_sla['parcels_over_sla'], color='red')\n",
    "plt.xlabel('Locker ID')\n",
    "plt.ylabel('Number of SLA Violations')\n",
    "plt.title('SLA Violations by Locker')\n",
    "plt.xticks(rotation=45)\n",
    "plt.show()"
   ]
  },
  {
   "cell_type": "code",
   "execution_count": 42,
   "id": "1a78ec14-0ef8-4a47-bf9f-1246cb2a635b",
   "metadata": {},
   "outputs": [],
   "source": [
    "# Merge Over SLA info\n",
    "lockers_df = pd.merge(lockers_df, over_sla, on='locker_id', how='left').fillna(0)"
   ]
  },
  {
   "cell_type": "code",
   "execution_count": 43,
   "id": "8d9ecfed-669e-4e2f-a218-4403d9380e9d",
   "metadata": {},
   "outputs": [
    {
     "data": {
      "text/html": [
       "<div>\n",
       "<style scoped>\n",
       "    .dataframe tbody tr th:only-of-type {\n",
       "        vertical-align: middle;\n",
       "    }\n",
       "\n",
       "    .dataframe tbody tr th {\n",
       "        vertical-align: top;\n",
       "    }\n",
       "\n",
       "    .dataframe thead th {\n",
       "        text-align: right;\n",
       "    }\n",
       "</style>\n",
       "<table border=\"1\" class=\"dataframe\">\n",
       "  <thead>\n",
       "    <tr style=\"text-align: right;\">\n",
       "      <th></th>\n",
       "      <th>locker_id</th>\n",
       "      <th>available_slots</th>\n",
       "      <th>total_slots</th>\n",
       "      <th>occupancy_ratio</th>\n",
       "      <th>avg_days_since_drop_off</th>\n",
       "      <th>in_flow</th>\n",
       "      <th>out_flow</th>\n",
       "      <th>in_out_ratio</th>\n",
       "      <th>parcels_over_sla</th>\n",
       "    </tr>\n",
       "  </thead>\n",
       "  <tbody>\n",
       "    <tr>\n",
       "      <th>0</th>\n",
       "      <td>1</td>\n",
       "      <td>14</td>\n",
       "      <td>50</td>\n",
       "      <td>0.72</td>\n",
       "      <td>2.172414</td>\n",
       "      <td>7</td>\n",
       "      <td>18</td>\n",
       "      <td>0.388889</td>\n",
       "      <td>1.0</td>\n",
       "    </tr>\n",
       "    <tr>\n",
       "      <th>1</th>\n",
       "      <td>2</td>\n",
       "      <td>20</td>\n",
       "      <td>50</td>\n",
       "      <td>0.60</td>\n",
       "      <td>1.904762</td>\n",
       "      <td>9</td>\n",
       "      <td>14</td>\n",
       "      <td>0.642857</td>\n",
       "      <td>0.0</td>\n",
       "    </tr>\n",
       "    <tr>\n",
       "      <th>2</th>\n",
       "      <td>3</td>\n",
       "      <td>24</td>\n",
       "      <td>50</td>\n",
       "      <td>0.52</td>\n",
       "      <td>1.571429</td>\n",
       "      <td>5</td>\n",
       "      <td>18</td>\n",
       "      <td>0.277778</td>\n",
       "      <td>0.0</td>\n",
       "    </tr>\n",
       "    <tr>\n",
       "      <th>3</th>\n",
       "      <td>4</td>\n",
       "      <td>15</td>\n",
       "      <td>50</td>\n",
       "      <td>0.70</td>\n",
       "      <td>1.823529</td>\n",
       "      <td>6</td>\n",
       "      <td>22</td>\n",
       "      <td>0.272727</td>\n",
       "      <td>1.0</td>\n",
       "    </tr>\n",
       "    <tr>\n",
       "      <th>4</th>\n",
       "      <td>5</td>\n",
       "      <td>22</td>\n",
       "      <td>50</td>\n",
       "      <td>0.56</td>\n",
       "      <td>2.000000</td>\n",
       "      <td>10</td>\n",
       "      <td>13</td>\n",
       "      <td>0.769231</td>\n",
       "      <td>0.0</td>\n",
       "    </tr>\n",
       "  </tbody>\n",
       "</table>\n",
       "</div>"
      ],
      "text/plain": [
       "   locker_id  available_slots  total_slots  occupancy_ratio  \\\n",
       "0          1               14           50             0.72   \n",
       "1          2               20           50             0.60   \n",
       "2          3               24           50             0.52   \n",
       "3          4               15           50             0.70   \n",
       "4          5               22           50             0.56   \n",
       "\n",
       "   avg_days_since_drop_off  in_flow  out_flow  in_out_ratio  parcels_over_sla  \n",
       "0                 2.172414        7        18      0.388889               1.0  \n",
       "1                 1.904762        9        14      0.642857               0.0  \n",
       "2                 1.571429        5        18      0.277778               0.0  \n",
       "3                 1.823529        6        22      0.272727               1.0  \n",
       "4                 2.000000       10        13      0.769231               0.0  "
      ]
     },
     "execution_count": 43,
     "metadata": {},
     "output_type": "execute_result"
    }
   ],
   "source": [
    "lockers_df.head()"
   ]
  },
  {
   "cell_type": "code",
   "execution_count": 84,
   "id": "79b99782-f114-4192-a5a1-a1b139fe818e",
   "metadata": {},
   "outputs": [
    {
     "data": {
      "text/plain": [
       "count    200.000000\n",
       "mean       0.280000\n",
       "std        0.531992\n",
       "min        0.000000\n",
       "25%        0.000000\n",
       "50%        0.000000\n",
       "75%        0.000000\n",
       "max        3.000000\n",
       "Name: parcels_over_sla, dtype: float64"
      ]
     },
     "execution_count": 84,
     "metadata": {},
     "output_type": "execute_result"
    }
   ],
   "source": [
    "lockers_df['parcels_over_sla'].describe()"
   ]
  },
  {
   "cell_type": "code",
   "execution_count": 86,
   "id": "22d3d397-4ab1-4527-bfbb-2b7834aa8c9f",
   "metadata": {},
   "outputs": [
    {
     "data": {
      "image/png": "[encoded data removed]",
      "text/plain": [
       "<Figure size 1000x600 with 1 Axes>"
      ]
     },
     "metadata": {},
     "output_type": "display_data"
    }
   ],
   "source": [
    "# Plot Number of Parcels Over SLA Distribution\n",
    "\n",
    "plt.figure(figsize=(10, 6))\n",
    "sns.histplot(lockers_df['parcels_over_sla'], kde=True, bins=3)\n",
    "\n",
    "mean_line = plt.axvline(lockers_df['parcels_over_sla'].mean(), color='r', linestyle='--')\n",
    "mode_line = plt.axvline(lockers_df['parcels_over_sla'].mode()[0], color='g', linestyle='-.')\n",
    "percentile_line = plt.axvline(lockers_df['parcels_over_sla'].quantile(0.95), color='b', linestyle='-')\n",
    "\n",
    "legend_labels = [mlines.Line2D([], [], color='r', linestyle='--', label=f\"Mean: {lockers_df['parcels_over_sla'].mean():.1f}\"),\n",
    "                 mlines.Line2D([], [], color='g', linestyle='-.', label=f\"Mode: {lockers_df['parcels_over_sla'].mode()[0]:.1f}\"),\n",
    "                 mlines.Line2D([], [], color='b', linestyle='-', label=f\"95th Percentile: {lockers_df['parcels_over_sla'].quantile(0.95):.1f}\")]\n",
    "\n",
    "plt.legend(handles=legend_labels, title=\"Statistics\")\n",
    "plt.xlabel('Number of Parcels Over SLA Ratio')\n",
    "plt.title('Number of Parcels Over SLA Distribution')\n",
    "plt.show()"
   ]
  },
  {
   "cell_type": "markdown",
   "id": "62fdf942-1ccb-47d7-b313-032e6a6747fd",
   "metadata": {},
   "source": [
    "- Most lockers generally don't have parcels over the Service Level Agreement (SLA). This is positive from a customer satisfaction perspective.\n",
    "- The maximum value is 3, which means that even the worst-performing lockers are not egregiously violating SLAs. However, any violation may negatively impact customer experience and should be investigated.\n",
    "- Having a low average of parcels over SLA minimizes the risk of customer dissatisfaction, refunds, or even loss of clients due to delayed parcels. However, any non-zero value should be a flag for review."
   ]
  },
  {
   "cell_type": "markdown",
   "id": "acb691ed-cf9a-44bf-9acd-5aefae5eee47",
   "metadata": {},
   "source": [
    "The low number of parcels exceeding SLAs across most lockers suggests that, from this perspective, the system is operating efficiently and effectively. However, even a few SLA violations can be significant in terms of customer satisfaction, and therefore those outliers warrant closer inspection."
   ]
  },
  {
   "cell_type": "code",
   "execution_count": 44,
   "id": "90da52b2-5e4e-4c75-b0d7-e544c12144ef",
   "metadata": {},
   "outputs": [
    {
     "data": {
      "image/png": "[encoded data removed]",
      "text/plain": [
       "<Figure size 1000x600 with 2 Axes>"
      ]
     },
     "metadata": {},
     "output_type": "display_data"
    }
   ],
   "source": [
    "corr_matrix = lockers_df[['occupancy_ratio', 'avg_days_since_drop_off', \n",
    "                          'in_out_ratio', 'parcels_over_sla']].corr()\n",
    "\n",
    "plt.figure(figsize=(10, 6))\n",
    "sns.heatmap(corr_matrix, annot=True, cmap='coolwarm', fmt='.2f', linewidths=0.5)\n",
    "plt.title('Correlation Heatmap of Features')\n",
    "plt.show()"
   ]
  },
  {
   "cell_type": "markdown",
   "id": "eacd193b-a575-4b22-9a1c-1487664d15d5",
   "metadata": {},
   "source": [
    "## Section I: Prioritization Framework\n",
    "\n",
    "\n",
    "### A) Define a set of measures for the framework"
   ]
  },
  {
   "cell_type": "markdown",
   "id": "e5d04939-8dbb-49d0-be49-f2dafc8997b2",
   "metadata": {},
   "source": [
    "  "
   ]
  },
  {
   "cell_type": "markdown",
   "id": "6a7a1974-5f06-447a-804a-4ca0ec452cba",
   "metadata": {},
   "source": [
    "#### **Metrics**\n",
    "\n",
    "1. **Occupancy Ratio of a Locker:** The ratio of used slots to total slots in a locker. **High ratios should be prioritized.** A locker close to being full needs to be emptied to maintain capacity for new parcels.\n",
    "\n",
    "$$\\text{OccupancyRatio}_{i} = 1 - \\frac{\\text{AvailableSlots}_{i}}{\\text{TotalSlots}_{i}}$$\n",
    "\n",
    "\n",
    "2. **Average Days Since Drop-off:** The average number of days parcels have been waiting in a locker since the seller drop-off. A high average suggests parcels are not being moved quickly enough, risking SLA violation.\n",
    "\n",
    "$$\\text{AvgDaysSinceDropOff}_{i} = \\frac{1}{N} \\sum_{j=1}^{N} \\text{DaysSinceSellerDropOff}_{ij}$$\n",
    "\n",
    "3. **In-Out Ratio:** This is the ratio of the number of parcels incoming to a locker to the number of parcels outgoing from that locker. A higher value indicates that more parcels are being moved from the warehouse to the locker, which aligns with the goal of reducing warehouse storage requirements (assumption).\n",
    "\n",
    "$$\\text{InOutRatio}_{i} = \\frac{\\text{InFlow}_{i}}{\\text{OutFlow}_{i}}$$\n",
    "\n",
    "4. **SLA Violation Count:** The number of parcels in a locker that have been waiting for more than 5 days since the seller drop-off, thereby violating the SLA.\n",
    "\n",
    "$$\\text{SLA\\_Violation}_{i}$$"
   ]
  },
  {
   "cell_type": "markdown",
   "id": "2683a4fb-a824-4de0-b4e2-fbf1f5cbdc0e",
   "metadata": {},
   "source": [
    "  "
   ]
  },
  {
   "cell_type": "markdown",
   "id": "dd3b700d-d34a-48cd-bd1a-d1f0ae65b09e",
   "metadata": {},
   "source": [
    "#### **Objective function**\n",
    "\n",
    "\n",
    "Finally, the objective function could look like:\n",
    "\n",
    "$$\\max \\sum_{i=1}^{M} \\left( a \\times \\text{OccupancyRatio}_{i} + b \\times \\text{AvgDaysSinceDropOff}_{i} + c \\times \\text{InOutRatio}_{i} + P \\times \\text{SLA\\_Violation}_{i} \\right)$$\n",
    "\n",
    "This accomplishes the best of both worlds. At the same time that we want to maximize directly occupancy rate, we also want to maximize the value for AvgDaysSinceDropOff. $a$, $b$ and $c$ are the weights for each metric. $P$ is a penalty term for SLA violations."
   ]
  },
  {
   "cell_type": "markdown",
   "id": "92232d89-6e13-43bd-b9c3-7f8238e9e38e",
   "metadata": {},
   "source": [
    "  "
   ]
  },
  {
   "cell_type": "markdown",
   "id": "c9d81b63-72ee-4400-8e91-b30164c4e621",
   "metadata": {},
   "source": [
    "#### **Contraints:**\n",
    "\n",
    "1. **SLA Constraint:** Enforces that the number of days a parcel has been waiting since it was dropped off by the seller should be less than or equal to 5. This ensures that each parcel meets the 5-day Service Level Agreement (SLA) for delivery.\n",
    "\n",
    "$$\\text{DaysSinceSellerDropOff}_{i} \\leq 5$$\n",
    "\n",
    "2. **Driver's Locker Visits:** A driver can visit at most 20 lockers per day.\n",
    "\n",
    "$$\\sum_{i=1}^{M} \\text{LockerVar}_{i} \\leq 20$$"
   ]
  },
  {
   "cell_type": "markdown",
   "id": "ea4153b3-fb47-47c7-b093-bd0dc9ef8a6b",
   "metadata": {},
   "source": [
    "  "
   ]
  },
  {
   "cell_type": "markdown",
   "id": "f85bd2d5-a3d1-469c-8a5c-ccd33ee1f976",
   "metadata": {},
   "source": [
    "#### **Full Optimization Problem Statement**\n",
    "\n",
    "\\begin{equation}\n",
    "    \\text{max} \\quad \\sum_{i=1}^{M} \\left( a \\times \\text{OccupancyRatio}_{i} + b \\times \\text{AvgDaysSinceDropOff}_{i} + c \\times \\text{InOutRatio}_{i} + P \\times \\text{SLA\\_Violation}_{i} \\right)\n",
    "\\end{equation}\n",
    "\n",
    "\\begin{equation}\n",
    "    \\text{Subject to:}\n",
    "\\end{equation}\n",
    "\n",
    "\\begin{equation}\n",
    "    \\text{DaysSinceSellerDropOff}_{i} \\leq 5, \\quad \\forall i \\in \\{1, 2, \\ldots, M\\}\n",
    "\\end{equation}\n",
    "\n",
    "\\begin{equation}\n",
    "    \\sum_{i=1}^{M} \\text{LockerVar}_{i} \\leq 20\n",
    "\\end{equation}\n",
    "\n",
    "---\n",
    "\n",
    "**Occupancy Ratio**\n",
    "  - **Business Perspective:** A locker that is almost full should be prioritized for emptying, as it has less space for new parcels.\n",
    "  - **Objective:** Maximized. The higher the occupancy ratio, the more urgent the need for emptying it.\n",
    "  - $a$: Allows us to control the importance of this metric relative to others.\n",
    "\n",
    "---\n",
    "\n",
    "**Average Days Since Drop-Off**\n",
    "  - **Business Perspective:** Parcels that have been in the locker for an extended period should be moved as they risk violating the Service Level Agreement (SLA).\n",
    "  - **Objective:** Maximized. However, it's more about flagging those that have high average days, indicating urgency.\n",
    "  - $b$: Allows us to give importance to lockers that have parcels nearing SLA violation.\n",
    "\n",
    "---\n",
    "\n",
    "**In-Out Ratio**\n",
    "  - **Business Perspective:** A higher in-out ratio is desirable as it indicates that more parcels are being moved from the warehouse to the lockers, thus reducing the parcel count in the warehouse and maximizing locker usage.\n",
    "  - **Objective:** Maximized. A high value for in-out ratio directly contributes to reducing the warehouse load and improving locker utilization.\n",
    "  - $c$: Helps control the emphasis we put on this balance between incoming and outgoing parcels.\n",
    "\n",
    "---\n",
    "\n",
    "**SLA Violation**\n",
    "  - **Business Perspective:** Any SLA violation is a serious issue and can damage customer trust and result in penalties.\n",
    "  - **Objective:** Now maximized. We add a penalty term for each locker that has an SLA violation, indicating the urgency to resolve these cases.\n",
    "  - Penalty $P$: A value that helps ensure that any locker with an SLA violation gets prioritized for emptying.\n",
    "\n",
    "---"
   ]
  },
  {
   "cell_type": "markdown",
   "id": "0aa5849e-dd38-4a50-a2f7-6f5e314b42e9",
   "metadata": {},
   "source": [
    "#### Data Assumptions\n",
    "- The snapshot is an accurate representation of a typical day.\n",
    "- Drivers work in 8-hour shifts, and it takes an average of 20 minutes to empty a locker.\n",
    "- The number of drivers is not known, so we aim to minimize locker visits within the given constraint of 20 lockers per driver per day.\n",
    "- We want reduce the parcel count in the warehouse and maximizing locker usage."
   ]
  },
  {
   "cell_type": "markdown",
   "id": "58a98dfe-ac48-433a-857e-40df1bad9313",
   "metadata": {},
   "source": [
    "  "
   ]
  },
  {
   "cell_type": "markdown",
   "id": "415fa909-bca9-44a3-b80f-c6b8996eb89b",
   "metadata": {},
   "source": [
    "## Section II: Implementing Framework"
   ]
  },
  {
   "cell_type": "markdown",
   "id": "b7067cfb-bea2-4a95-a264-c52d22f51a9c",
   "metadata": {},
   "source": [
    "### Naive approach"
   ]
  },
  {
   "cell_type": "code",
   "execution_count": 45,
   "id": "9a1b3c82-6294-42ee-9559-6f751616780a",
   "metadata": {},
   "outputs": [],
   "source": [
    "# Prioritization Algorithm\n",
    "\n",
    "# Step 1: Urgent Lockers\n",
    "urgent_lockers = lockers_df[lockers_df['parcels_over_sla'] > 0]"
   ]
  },
  {
   "cell_type": "code",
   "execution_count": 46,
   "id": "573ae66b-5225-4489-8f6a-e771f837fd9b",
   "metadata": {},
   "outputs": [
    {
     "data": {
      "text/html": [
       "<div>\n",
       "<style scoped>\n",
       "    .dataframe tbody tr th:only-of-type {\n",
       "        vertical-align: middle;\n",
       "    }\n",
       "\n",
       "    .dataframe tbody tr th {\n",
       "        vertical-align: top;\n",
       "    }\n",
       "\n",
       "    .dataframe thead th {\n",
       "        text-align: right;\n",
       "    }\n",
       "</style>\n",
       "<table border=\"1\" class=\"dataframe\">\n",
       "  <thead>\n",
       "    <tr style=\"text-align: right;\">\n",
       "      <th></th>\n",
       "      <th>locker_id</th>\n",
       "      <th>available_slots</th>\n",
       "      <th>total_slots</th>\n",
       "      <th>occupancy_ratio</th>\n",
       "      <th>avg_days_since_drop_off</th>\n",
       "      <th>in_flow</th>\n",
       "      <th>out_flow</th>\n",
       "      <th>in_out_ratio</th>\n",
       "      <th>parcels_over_sla</th>\n",
       "    </tr>\n",
       "  </thead>\n",
       "  <tbody>\n",
       "    <tr>\n",
       "      <th>0</th>\n",
       "      <td>1</td>\n",
       "      <td>14</td>\n",
       "      <td>50</td>\n",
       "      <td>0.720000</td>\n",
       "      <td>2.172414</td>\n",
       "      <td>7</td>\n",
       "      <td>18</td>\n",
       "      <td>0.388889</td>\n",
       "      <td>1.0</td>\n",
       "    </tr>\n",
       "    <tr>\n",
       "      <th>3</th>\n",
       "      <td>4</td>\n",
       "      <td>15</td>\n",
       "      <td>50</td>\n",
       "      <td>0.700000</td>\n",
       "      <td>1.823529</td>\n",
       "      <td>6</td>\n",
       "      <td>22</td>\n",
       "      <td>0.272727</td>\n",
       "      <td>1.0</td>\n",
       "    </tr>\n",
       "    <tr>\n",
       "      <th>5</th>\n",
       "      <td>6</td>\n",
       "      <td>32</td>\n",
       "      <td>75</td>\n",
       "      <td>0.573333</td>\n",
       "      <td>1.709677</td>\n",
       "      <td>8</td>\n",
       "      <td>23</td>\n",
       "      <td>0.347826</td>\n",
       "      <td>1.0</td>\n",
       "    </tr>\n",
       "    <tr>\n",
       "      <th>12</th>\n",
       "      <td>13</td>\n",
       "      <td>24</td>\n",
       "      <td>50</td>\n",
       "      <td>0.520000</td>\n",
       "      <td>1.800000</td>\n",
       "      <td>4</td>\n",
       "      <td>13</td>\n",
       "      <td>0.307692</td>\n",
       "      <td>1.0</td>\n",
       "    </tr>\n",
       "    <tr>\n",
       "      <th>14</th>\n",
       "      <td>15</td>\n",
       "      <td>22</td>\n",
       "      <td>50</td>\n",
       "      <td>0.560000</td>\n",
       "      <td>1.650000</td>\n",
       "      <td>6</td>\n",
       "      <td>14</td>\n",
       "      <td>0.428571</td>\n",
       "      <td>1.0</td>\n",
       "    </tr>\n",
       "  </tbody>\n",
       "</table>\n",
       "</div>"
      ],
      "text/plain": [
       "    locker_id  available_slots  total_slots  occupancy_ratio  \\\n",
       "0           1               14           50         0.720000   \n",
       "3           4               15           50         0.700000   \n",
       "5           6               32           75         0.573333   \n",
       "12         13               24           50         0.520000   \n",
       "14         15               22           50         0.560000   \n",
       "\n",
       "    avg_days_since_drop_off  in_flow  out_flow  in_out_ratio  parcels_over_sla  \n",
       "0                  2.172414        7        18      0.388889               1.0  \n",
       "3                  1.823529        6        22      0.272727               1.0  \n",
       "5                  1.709677        8        23      0.347826               1.0  \n",
       "12                 1.800000        4        13      0.307692               1.0  \n",
       "14                 1.650000        6        14      0.428571               1.0  "
      ]
     },
     "execution_count": 46,
     "metadata": {},
     "output_type": "execute_result"
    }
   ],
   "source": [
    "urgent_lockers.head()"
   ]
  },
  {
   "cell_type": "code",
   "execution_count": 47,
   "id": "4d3958b5-8b46-49f9-aa9c-aab7c98e2f94",
   "metadata": {},
   "outputs": [
    {
     "data": {
      "text/plain": [
       "(49, 9)"
      ]
     },
     "execution_count": 47,
     "metadata": {},
     "output_type": "execute_result"
    }
   ],
   "source": [
    "urgent_lockers.shape"
   ]
  },
  {
   "cell_type": "code",
   "execution_count": 48,
   "id": "c7c12d9b-d212-41f4-af6c-cf66b12bb418",
   "metadata": {},
   "outputs": [
    {
     "data": {
      "text/plain": [
       "array([  1,   4,   6,  13,  15,  16,  18,  20,  23,  24,  29,  30,  34,\n",
       "        39,  52,  54,  60,  68,  71,  75,  76,  79,  82,  83,  84,  89,\n",
       "        92, 100, 110, 122, 129, 133, 134, 148, 153, 159, 161, 166, 167,\n",
       "       168, 169, 174, 176, 181, 185, 186, 191, 194, 196])"
      ]
     },
     "execution_count": 48,
     "metadata": {},
     "output_type": "execute_result"
    }
   ],
   "source": [
    "urgent_lockers.locker_id.unique()"
   ]
  },
  {
   "cell_type": "code",
   "execution_count": 49,
   "id": "830fc56e-0efe-47d3-a8c3-85f0a1a3288f",
   "metadata": {},
   "outputs": [],
   "source": [
    "# Step 2: High Occupancy\n",
    "high_occupancy_lockers = lockers_df[lockers_df['occupancy_ratio'] > 0.7]"
   ]
  },
  {
   "cell_type": "code",
   "execution_count": 50,
   "id": "a0871504-ebd7-46d2-8448-34e15dffa8c5",
   "metadata": {},
   "outputs": [
    {
     "data": {
      "text/html": [
       "<div>\n",
       "<style scoped>\n",
       "    .dataframe tbody tr th:only-of-type {\n",
       "        vertical-align: middle;\n",
       "    }\n",
       "\n",
       "    .dataframe tbody tr th {\n",
       "        vertical-align: top;\n",
       "    }\n",
       "\n",
       "    .dataframe thead th {\n",
       "        text-align: right;\n",
       "    }\n",
       "</style>\n",
       "<table border=\"1\" class=\"dataframe\">\n",
       "  <thead>\n",
       "    <tr style=\"text-align: right;\">\n",
       "      <th></th>\n",
       "      <th>locker_id</th>\n",
       "      <th>available_slots</th>\n",
       "      <th>total_slots</th>\n",
       "      <th>occupancy_ratio</th>\n",
       "      <th>avg_days_since_drop_off</th>\n",
       "      <th>in_flow</th>\n",
       "      <th>out_flow</th>\n",
       "      <th>in_out_ratio</th>\n",
       "      <th>parcels_over_sla</th>\n",
       "    </tr>\n",
       "  </thead>\n",
       "  <tbody>\n",
       "    <tr>\n",
       "      <th>0</th>\n",
       "      <td>1</td>\n",
       "      <td>14</td>\n",
       "      <td>50</td>\n",
       "      <td>0.720000</td>\n",
       "      <td>2.172414</td>\n",
       "      <td>7</td>\n",
       "      <td>18</td>\n",
       "      <td>0.388889</td>\n",
       "      <td>1.0</td>\n",
       "    </tr>\n",
       "    <tr>\n",
       "      <th>21</th>\n",
       "      <td>22</td>\n",
       "      <td>14</td>\n",
       "      <td>50</td>\n",
       "      <td>0.720000</td>\n",
       "      <td>1.909091</td>\n",
       "      <td>8</td>\n",
       "      <td>16</td>\n",
       "      <td>0.500000</td>\n",
       "      <td>0.0</td>\n",
       "    </tr>\n",
       "    <tr>\n",
       "      <th>79</th>\n",
       "      <td>80</td>\n",
       "      <td>21</td>\n",
       "      <td>75</td>\n",
       "      <td>0.720000</td>\n",
       "      <td>1.825000</td>\n",
       "      <td>10</td>\n",
       "      <td>31</td>\n",
       "      <td>0.322581</td>\n",
       "      <td>0.0</td>\n",
       "    </tr>\n",
       "    <tr>\n",
       "      <th>85</th>\n",
       "      <td>86</td>\n",
       "      <td>22</td>\n",
       "      <td>75</td>\n",
       "      <td>0.706667</td>\n",
       "      <td>1.852941</td>\n",
       "      <td>10</td>\n",
       "      <td>24</td>\n",
       "      <td>0.416667</td>\n",
       "      <td>0.0</td>\n",
       "    </tr>\n",
       "    <tr>\n",
       "      <th>93</th>\n",
       "      <td>94</td>\n",
       "      <td>14</td>\n",
       "      <td>50</td>\n",
       "      <td>0.720000</td>\n",
       "      <td>1.576923</td>\n",
       "      <td>5</td>\n",
       "      <td>22</td>\n",
       "      <td>0.227273</td>\n",
       "      <td>0.0</td>\n",
       "    </tr>\n",
       "  </tbody>\n",
       "</table>\n",
       "</div>"
      ],
      "text/plain": [
       "    locker_id  available_slots  total_slots  occupancy_ratio  \\\n",
       "0           1               14           50         0.720000   \n",
       "21         22               14           50         0.720000   \n",
       "79         80               21           75         0.720000   \n",
       "85         86               22           75         0.706667   \n",
       "93         94               14           50         0.720000   \n",
       "\n",
       "    avg_days_since_drop_off  in_flow  out_flow  in_out_ratio  parcels_over_sla  \n",
       "0                  2.172414        7        18      0.388889               1.0  \n",
       "21                 1.909091        8        16      0.500000               0.0  \n",
       "79                 1.825000       10        31      0.322581               0.0  \n",
       "85                 1.852941       10        24      0.416667               0.0  \n",
       "93                 1.576923        5        22      0.227273               0.0  "
      ]
     },
     "execution_count": 50,
     "metadata": {},
     "output_type": "execute_result"
    }
   ],
   "source": [
    "high_occupancy_lockers.head()"
   ]
  },
  {
   "cell_type": "code",
   "execution_count": 51,
   "id": "0ea2709f-2c46-4a57-8f5c-57fb9efa665c",
   "metadata": {},
   "outputs": [],
   "source": [
    "# Step 3: Aged Parcels\n",
    "aged_parcels_lockers = lockers_df[lockers_df['avg_days_since_drop_off'] > 3]"
   ]
  },
  {
   "cell_type": "code",
   "execution_count": 52,
   "id": "68ec32d4-58f3-4367-85aa-2199ce073cec",
   "metadata": {},
   "outputs": [],
   "source": [
    "# Step 4: All remaining lockers\n",
    "remaining_lockers = lockers_df"
   ]
  },
  {
   "cell_type": "code",
   "execution_count": 53,
   "id": "a29e4ff7-2628-469f-baab-7e8806fe5bd3",
   "metadata": {},
   "outputs": [],
   "source": [
    "# Combine all steps\n",
    "prioritized_lockers_from_naive = pd.concat([urgent_lockers, high_occupancy_lockers, \n",
    "                                            aged_parcels_lockers, remaining_lockers]).drop_duplicates()"
   ]
  },
  {
   "cell_type": "code",
   "execution_count": 54,
   "id": "49a03c83-69b5-4afb-b9e7-cc8bd3a79a4c",
   "metadata": {},
   "outputs": [],
   "source": [
    "# Assuming one driver can visit 20 lockers in one shift\n",
    "prioritized_lockers_from_naive = prioritized_lockers_from_naive.head(20)"
   ]
  },
  {
   "cell_type": "code",
   "execution_count": 55,
   "id": "25287270-b9c8-4191-89de-fc206b652335",
   "metadata": {},
   "outputs": [
    {
     "data": {
      "text/html": [
       "<div>\n",
       "<style scoped>\n",
       "    .dataframe tbody tr th:only-of-type {\n",
       "        vertical-align: middle;\n",
       "    }\n",
       "\n",
       "    .dataframe tbody tr th {\n",
       "        vertical-align: top;\n",
       "    }\n",
       "\n",
       "    .dataframe thead th {\n",
       "        text-align: right;\n",
       "    }\n",
       "</style>\n",
       "<table border=\"1\" class=\"dataframe\">\n",
       "  <thead>\n",
       "    <tr style=\"text-align: right;\">\n",
       "      <th></th>\n",
       "      <th>locker_id</th>\n",
       "      <th>available_slots</th>\n",
       "      <th>total_slots</th>\n",
       "      <th>occupancy_ratio</th>\n",
       "      <th>avg_days_since_drop_off</th>\n",
       "      <th>in_flow</th>\n",
       "      <th>out_flow</th>\n",
       "      <th>in_out_ratio</th>\n",
       "      <th>parcels_over_sla</th>\n",
       "    </tr>\n",
       "  </thead>\n",
       "  <tbody>\n",
       "    <tr>\n",
       "      <th>0</th>\n",
       "      <td>1</td>\n",
       "      <td>14</td>\n",
       "      <td>50</td>\n",
       "      <td>0.720000</td>\n",
       "      <td>2.172414</td>\n",
       "      <td>7</td>\n",
       "      <td>18</td>\n",
       "      <td>0.388889</td>\n",
       "      <td>1.0</td>\n",
       "    </tr>\n",
       "    <tr>\n",
       "      <th>3</th>\n",
       "      <td>4</td>\n",
       "      <td>15</td>\n",
       "      <td>50</td>\n",
       "      <td>0.700000</td>\n",
       "      <td>1.823529</td>\n",
       "      <td>6</td>\n",
       "      <td>22</td>\n",
       "      <td>0.272727</td>\n",
       "      <td>1.0</td>\n",
       "    </tr>\n",
       "    <tr>\n",
       "      <th>5</th>\n",
       "      <td>6</td>\n",
       "      <td>32</td>\n",
       "      <td>75</td>\n",
       "      <td>0.573333</td>\n",
       "      <td>1.709677</td>\n",
       "      <td>8</td>\n",
       "      <td>23</td>\n",
       "      <td>0.347826</td>\n",
       "      <td>1.0</td>\n",
       "    </tr>\n",
       "    <tr>\n",
       "      <th>12</th>\n",
       "      <td>13</td>\n",
       "      <td>24</td>\n",
       "      <td>50</td>\n",
       "      <td>0.520000</td>\n",
       "      <td>1.800000</td>\n",
       "      <td>4</td>\n",
       "      <td>13</td>\n",
       "      <td>0.307692</td>\n",
       "      <td>1.0</td>\n",
       "    </tr>\n",
       "    <tr>\n",
       "      <th>14</th>\n",
       "      <td>15</td>\n",
       "      <td>22</td>\n",
       "      <td>50</td>\n",
       "      <td>0.560000</td>\n",
       "      <td>1.650000</td>\n",
       "      <td>6</td>\n",
       "      <td>14</td>\n",
       "      <td>0.428571</td>\n",
       "      <td>1.0</td>\n",
       "    </tr>\n",
       "  </tbody>\n",
       "</table>\n",
       "</div>"
      ],
      "text/plain": [
       "    locker_id  available_slots  total_slots  occupancy_ratio  \\\n",
       "0           1               14           50         0.720000   \n",
       "3           4               15           50         0.700000   \n",
       "5           6               32           75         0.573333   \n",
       "12         13               24           50         0.520000   \n",
       "14         15               22           50         0.560000   \n",
       "\n",
       "    avg_days_since_drop_off  in_flow  out_flow  in_out_ratio  parcels_over_sla  \n",
       "0                  2.172414        7        18      0.388889               1.0  \n",
       "3                  1.823529        6        22      0.272727               1.0  \n",
       "5                  1.709677        8        23      0.347826               1.0  \n",
       "12                 1.800000        4        13      0.307692               1.0  \n",
       "14                 1.650000        6        14      0.428571               1.0  "
      ]
     },
     "execution_count": 55,
     "metadata": {},
     "output_type": "execute_result"
    }
   ],
   "source": [
    "prioritized_lockers_from_naive.head()"
   ]
  },
  {
   "cell_type": "code",
   "execution_count": 56,
   "id": "280bc36b-4f18-45c7-9b78-5fd7777c2b51",
   "metadata": {},
   "outputs": [
    {
     "data": {
      "text/plain": [
       "[1, 4, 6, 13, 15, 16, 18, 20, 23, 24, 29, 30, 34, 39, 52, 54, 60, 68, 71, 75]"
      ]
     },
     "execution_count": 56,
     "metadata": {},
     "output_type": "execute_result"
    }
   ],
   "source": [
    "prioritized_lockers_from_naive.locker_id.values.tolist()"
   ]
  },
  {
   "cell_type": "code",
   "execution_count": 57,
   "id": "b8a8e505-4cb8-42ce-b8c3-1b38e1e5f80a",
   "metadata": {},
   "outputs": [],
   "source": [
    "prioritized_lockers_from_naive = prioritized_lockers_from_naive.locker_id.values.tolist()"
   ]
  },
  {
   "cell_type": "code",
   "execution_count": 58,
   "id": "c6b56f24-f055-4f92-85c7-566f0589f460",
   "metadata": {},
   "outputs": [
    {
     "data": {
      "text/html": [
       "<div>\n",
       "<style scoped>\n",
       "    .dataframe tbody tr th:only-of-type {\n",
       "        vertical-align: middle;\n",
       "    }\n",
       "\n",
       "    .dataframe tbody tr th {\n",
       "        vertical-align: top;\n",
       "    }\n",
       "\n",
       "    .dataframe thead th {\n",
       "        text-align: right;\n",
       "    }\n",
       "</style>\n",
       "<table border=\"1\" class=\"dataframe\">\n",
       "  <thead>\n",
       "    <tr style=\"text-align: right;\">\n",
       "      <th></th>\n",
       "      <th>from_locker_id</th>\n",
       "      <th>to_locker_id</th>\n",
       "      <th>location</th>\n",
       "      <th>status</th>\n",
       "      <th>days_since_seller_drop_off</th>\n",
       "    </tr>\n",
       "    <tr>\n",
       "      <th>tracking_code</th>\n",
       "      <th></th>\n",
       "      <th></th>\n",
       "      <th></th>\n",
       "      <th></th>\n",
       "      <th></th>\n",
       "    </tr>\n",
       "  </thead>\n",
       "  <tbody>\n",
       "    <tr>\n",
       "      <th>60730603</th>\n",
       "      <td>1</td>\n",
       "      <td>14</td>\n",
       "      <td>warehouse</td>\n",
       "      <td>in_delivery</td>\n",
       "      <td>3</td>\n",
       "    </tr>\n",
       "    <tr>\n",
       "      <th>21033612</th>\n",
       "      <td>1</td>\n",
       "      <td>14</td>\n",
       "      <td>warehouse</td>\n",
       "      <td>in_delivery</td>\n",
       "      <td>4</td>\n",
       "    </tr>\n",
       "    <tr>\n",
       "      <th>91420892</th>\n",
       "      <td>1</td>\n",
       "      <td>16</td>\n",
       "      <td>locker</td>\n",
       "      <td>in_delivery</td>\n",
       "      <td>0</td>\n",
       "    </tr>\n",
       "    <tr>\n",
       "      <th>31720295</th>\n",
       "      <td>1</td>\n",
       "      <td>34</td>\n",
       "      <td>locker</td>\n",
       "      <td>in_delivery</td>\n",
       "      <td>2</td>\n",
       "    </tr>\n",
       "    <tr>\n",
       "      <th>79296744</th>\n",
       "      <td>1</td>\n",
       "      <td>42</td>\n",
       "      <td>warehouse</td>\n",
       "      <td>in_delivery</td>\n",
       "      <td>1</td>\n",
       "    </tr>\n",
       "  </tbody>\n",
       "</table>\n",
       "</div>"
      ],
      "text/plain": [
       "               from_locker_id  to_locker_id   location       status  \\\n",
       "tracking_code                                                         \n",
       "60730603                    1            14  warehouse  in_delivery   \n",
       "21033612                    1            14  warehouse  in_delivery   \n",
       "91420892                    1            16     locker  in_delivery   \n",
       "31720295                    1            34     locker  in_delivery   \n",
       "79296744                    1            42  warehouse  in_delivery   \n",
       "\n",
       "               days_since_seller_drop_off  \n",
       "tracking_code                              \n",
       "60730603                                3  \n",
       "21033612                                4  \n",
       "91420892                                0  \n",
       "31720295                                2  \n",
       "79296744                                1  "
      ]
     },
     "execution_count": 58,
     "metadata": {},
     "output_type": "execute_result"
    }
   ],
   "source": [
    "parcels_df[(parcels_df.from_locker_id.isin(prioritized_lockers_from_naive)) | \n",
    "           (parcels_df.to_locker_id.isin(prioritized_lockers_from_naive))].head()"
   ]
  },
  {
   "cell_type": "code",
   "execution_count": 59,
   "id": "70d3395d-16dd-40e2-9ec7-600aa98cf195",
   "metadata": {},
   "outputs": [
    {
     "data": {
      "text/plain": [
       "20.40358744394619"
      ]
     },
     "execution_count": 59,
     "metadata": {},
     "output_type": "execute_result"
    }
   ],
   "source": [
    "parcels_df[(parcels_df.from_locker_id.isin(prioritized_lockers_from_naive)) | \n",
    "           (parcels_df.to_locker_id.isin(prioritized_lockers_from_naive))].shape[0] / parcels_df.shape[0] * 100"
   ]
  },
  {
   "cell_type": "code",
   "execution_count": 60,
   "id": "f350d021-6f9b-4e23-858f-0bdf54cca269",
   "metadata": {},
   "outputs": [
    {
     "data": {
      "text/plain": [
       "1.9650582362728786"
      ]
     },
     "execution_count": 60,
     "metadata": {},
     "output_type": "execute_result"
    }
   ],
   "source": [
    "parcels_df[parcels_df.from_locker_id.isin(prioritized_lockers_from_naive)][\"days_since_seller_drop_off\"].mean()"
   ]
  },
  {
   "cell_type": "markdown",
   "id": "b1125af9-6807-4c84-a0fd-222d42740ff2",
   "metadata": {},
   "source": [
    "### Pulp"
   ]
  },
  {
   "cell_type": "code",
   "execution_count": 61,
   "id": "add56d61-4acb-4576-9b17-1e667b9f8be1",
   "metadata": {},
   "outputs": [
    {
     "data": {
      "text/html": [
       "<div>\n",
       "<style scoped>\n",
       "    .dataframe tbody tr th:only-of-type {\n",
       "        vertical-align: middle;\n",
       "    }\n",
       "\n",
       "    .dataframe tbody tr th {\n",
       "        vertical-align: top;\n",
       "    }\n",
       "\n",
       "    .dataframe thead th {\n",
       "        text-align: right;\n",
       "    }\n",
       "</style>\n",
       "<table border=\"1\" class=\"dataframe\">\n",
       "  <thead>\n",
       "    <tr style=\"text-align: right;\">\n",
       "      <th></th>\n",
       "      <th>locker_id</th>\n",
       "      <th>available_slots</th>\n",
       "      <th>total_slots</th>\n",
       "      <th>occupancy_ratio</th>\n",
       "      <th>avg_days_since_drop_off</th>\n",
       "      <th>in_flow</th>\n",
       "      <th>out_flow</th>\n",
       "      <th>in_out_ratio</th>\n",
       "      <th>parcels_over_sla</th>\n",
       "    </tr>\n",
       "  </thead>\n",
       "  <tbody>\n",
       "    <tr>\n",
       "      <th>0</th>\n",
       "      <td>1</td>\n",
       "      <td>14</td>\n",
       "      <td>50</td>\n",
       "      <td>0.72</td>\n",
       "      <td>2.172414</td>\n",
       "      <td>7</td>\n",
       "      <td>18</td>\n",
       "      <td>0.388889</td>\n",
       "      <td>1.0</td>\n",
       "    </tr>\n",
       "    <tr>\n",
       "      <th>1</th>\n",
       "      <td>2</td>\n",
       "      <td>20</td>\n",
       "      <td>50</td>\n",
       "      <td>0.60</td>\n",
       "      <td>1.904762</td>\n",
       "      <td>9</td>\n",
       "      <td>14</td>\n",
       "      <td>0.642857</td>\n",
       "      <td>0.0</td>\n",
       "    </tr>\n",
       "    <tr>\n",
       "      <th>2</th>\n",
       "      <td>3</td>\n",
       "      <td>24</td>\n",
       "      <td>50</td>\n",
       "      <td>0.52</td>\n",
       "      <td>1.571429</td>\n",
       "      <td>5</td>\n",
       "      <td>18</td>\n",
       "      <td>0.277778</td>\n",
       "      <td>0.0</td>\n",
       "    </tr>\n",
       "    <tr>\n",
       "      <th>3</th>\n",
       "      <td>4</td>\n",
       "      <td>15</td>\n",
       "      <td>50</td>\n",
       "      <td>0.70</td>\n",
       "      <td>1.823529</td>\n",
       "      <td>6</td>\n",
       "      <td>22</td>\n",
       "      <td>0.272727</td>\n",
       "      <td>1.0</td>\n",
       "    </tr>\n",
       "    <tr>\n",
       "      <th>4</th>\n",
       "      <td>5</td>\n",
       "      <td>22</td>\n",
       "      <td>50</td>\n",
       "      <td>0.56</td>\n",
       "      <td>2.000000</td>\n",
       "      <td>10</td>\n",
       "      <td>13</td>\n",
       "      <td>0.769231</td>\n",
       "      <td>0.0</td>\n",
       "    </tr>\n",
       "  </tbody>\n",
       "</table>\n",
       "</div>"
      ],
      "text/plain": [
       "   locker_id  available_slots  total_slots  occupancy_ratio  \\\n",
       "0          1               14           50             0.72   \n",
       "1          2               20           50             0.60   \n",
       "2          3               24           50             0.52   \n",
       "3          4               15           50             0.70   \n",
       "4          5               22           50             0.56   \n",
       "\n",
       "   avg_days_since_drop_off  in_flow  out_flow  in_out_ratio  parcels_over_sla  \n",
       "0                 2.172414        7        18      0.388889               1.0  \n",
       "1                 1.904762        9        14      0.642857               0.0  \n",
       "2                 1.571429        5        18      0.277778               0.0  \n",
       "3                 1.823529        6        22      0.272727               1.0  \n",
       "4                 2.000000       10        13      0.769231               0.0  "
      ]
     },
     "execution_count": 61,
     "metadata": {},
     "output_type": "execute_result"
    }
   ],
   "source": [
    "lockers_df.head()"
   ]
  },
  {
   "cell_type": "code",
   "execution_count": 62,
   "id": "a9aa482a-6576-489f-9bd4-a811b8d39935",
   "metadata": {},
   "outputs": [],
   "source": [
    "from pulp import LpMaximize, LpMinimize, LpProblem, LpVariable, lpSum"
   ]
  },
  {
   "cell_type": "code",
   "execution_count": 63,
   "id": "c98ca1fc-e689-4826-9cfe-3709df8ca408",
   "metadata": {},
   "outputs": [],
   "source": [
    "# Create the model\n",
    "model = LpProblem(name=\"locker-prioritization\", sense=LpMaximize)"
   ]
  },
  {
   "cell_type": "code",
   "execution_count": 64,
   "id": "52b81cb6-e032-4b84-aec9-76f6a924c376",
   "metadata": {},
   "outputs": [],
   "source": [
    "# Declare variables (binary variables for each locker)\n",
    "locker_vars = LpVariable.dicts(\"Locker\", lockers_df['locker_id'], 0, 1, 'Binary')"
   ]
  },
  {
   "cell_type": "code",
   "execution_count": 65,
   "id": "d815cf49-62b3-40ed-87f6-3b910357d193",
   "metadata": {},
   "outputs": [],
   "source": [
    "# Penalty term for SLA violations\n",
    "a, b, c, P = 1, 1, 1, 10"
   ]
  },
  {
   "cell_type": "code",
   "execution_count": 66,
   "id": "ac085527-d81a-48f4-b342-31d8b300819a",
   "metadata": {},
   "outputs": [],
   "source": [
    "# Objective Function: Maximize (a*occupancy_ratio + b*avg_days_since_drop_off + c*in_out_ratio + P * parcels_over_sla)\n",
    "# Here a, b, c are weights we can adjust based on how important each metric is\n",
    "model += lpSum(\n",
    "    [\n",
    "        locker_vars[i] * (\n",
    "            a * lockers_df.loc[lockers_df['locker_id'] == i, 'occupancy_ratio'].values[0] +\n",
    "            b * lockers_df.loc[lockers_df['locker_id'] == i, 'avg_days_since_drop_off'].values[0] +\n",
    "            c * lockers_df.loc[lockers_df['locker_id'] == i, 'in_out_ratio'].values[0] + \n",
    "            P * lockers_df.loc[lockers_df['locker_id'] == i, 'parcels_over_sla'].values[0]\n",
    "        )\n",
    "        for i in lockers_df['locker_id']\n",
    "    ]\n",
    "), \"Total_Priority\""
   ]
  },
  {
   "cell_type": "code",
   "execution_count": 67,
   "id": "8a3d7bb3-8f5f-497c-ac8b-7f6d29d3c10e",
   "metadata": {},
   "outputs": [],
   "source": [
    "# Constraint for maximum lockers a driver can visit\n",
    "max_lockers_per_driver = 20\n",
    "model += lpSum([locker_vars[i] for i in lockers_df['locker_id']]) <= max_lockers_per_driver, \"Max_Lockers_Per_Driver\""
   ]
  },
  {
   "cell_type": "code",
   "execution_count": 68,
   "id": "f1f06761-7432-4ac2-af61-a07edf31f9ad",
   "metadata": {},
   "outputs": [
    {
     "name": "stdout",
     "output_type": "stream",
     "text": [
      "Welcome to the CBC MILP Solver \n",
      "Version: 2.10.3 \n",
      "Build Date: Dec 15 2019 \n",
      "\n",
      "command line - /Users/lf/anaconda3/envs/snakes/lib/python3.11/site-packages/pulp/solverdir/cbc/osx/64/cbc /var/folders/cl/8l42ht8d4k70pf3by032y2qc0000gn/T/90bfcf70e846436b8deea82f943a6e63-pulp.mps max timeMode elapsed branch printingOptions all solution /var/folders/cl/8l42ht8d4k70pf3by032y2qc0000gn/T/90bfcf70e846436b8deea82f943a6e63-pulp.sol (default strategy 1)\n",
      "At line 2 NAME          MODEL\n",
      "At line 3 ROWS\n",
      "At line 6 COLUMNS\n",
      "At line 807 RHS\n",
      "At line 809 BOUNDS\n",
      "At line 1010 ENDATA\n",
      "Problem MODEL has 1 rows, 200 columns and 200 elements\n",
      "Coin0008I MODEL read with 0 errors\n",
      "Option for timeMode changed from cpu to elapsed\n",
      "Continuous objective value is 339.629 - 0.00 seconds\n",
      "Cgl0004I processed model has 1 rows, 200 columns (200 integer (200 of which binary)) and 200 elements\n",
      "Cbc0038I Initial state - 0 integers unsatisfied sum - 0\n",
      "Cbc0038I Solution found of -339.629\n",
      "Cbc0038I Before mini branch and bound, 200 integers at bound fixed and 0 continuous\n",
      "Cbc0038I Mini branch and bound did not improve solution (0.02 seconds)\n",
      "Cbc0038I After 0.02 seconds - Feasibility pump exiting with objective of -339.629 - took 0.00 seconds\n",
      "Cbc0012I Integer solution of -339.62856 found by feasibility pump after 0 iterations and 0 nodes (0.02 seconds)\n",
      "Cbc0001I Search completed - best objective -339.62855604873, took 0 iterations and 0 nodes (0.02 seconds)\n",
      "Cbc0035I Maximum depth 0, 0 variables fixed on reduced cost\n",
      "Cuts at root node changed objective from -339.629 to -339.629\n",
      "Probing was tried 0 times and created 0 cuts of which 0 were active after adding rounds of cuts (0.000 seconds)\n",
      "Gomory was tried 0 times and created 0 cuts of which 0 were active after adding rounds of cuts (0.000 seconds)\n",
      "Knapsack was tried 0 times and created 0 cuts of which 0 were active after adding rounds of cuts (0.000 seconds)\n",
      "Clique was tried 0 times and created 0 cuts of which 0 were active after adding rounds of cuts (0.000 seconds)\n",
      "MixedIntegerRounding2 was tried 0 times and created 0 cuts of which 0 were active after adding rounds of cuts (0.000 seconds)\n",
      "FlowCover was tried 0 times and created 0 cuts of which 0 were active after adding rounds of cuts (0.000 seconds)\n",
      "TwoMirCuts was tried 0 times and created 0 cuts of which 0 were active after adding rounds of cuts (0.000 seconds)\n",
      "ZeroHalf was tried 0 times and created 0 cuts of which 0 were active after adding rounds of cuts (0.000 seconds)\n",
      "\n",
      "Result - Optimal solution found\n",
      "\n",
      "Objective value:                339.62855605\n",
      "Enumerated nodes:               0\n",
      "Total iterations:               0\n",
      "Time (CPU seconds):             0.00\n",
      "Time (Wallclock seconds):       0.02\n",
      "\n",
      "Option for printingOptions changed from normal to all\n",
      "Total time (CPU seconds):       0.00   (Wallclock seconds):       0.03\n",
      "\n"
     ]
    },
    {
     "data": {
      "text/plain": [
       "1"
      ]
     },
     "execution_count": 68,
     "metadata": {},
     "output_type": "execute_result"
    }
   ],
   "source": [
    "# Solve the problem\n",
    "model.solve()"
   ]
  },
  {
   "cell_type": "code",
   "execution_count": 69,
   "id": "a0188870-653b-4b9b-a12a-080012c6eb82",
   "metadata": {},
   "outputs": [
    {
     "name": "stdout",
     "output_type": "stream",
     "text": [
      "Chosen lockers to prioritize: [1, 20, 29, 30, 39, 75, 83, 92, 100, 122, 133, 134, 153, 161, 166, 169, 176, 181, 185, 186]\n"
     ]
    }
   ],
   "source": [
    "# Output the chosen lockers\n",
    "prioritized_lockers_from_pulp = [locker_id for locker_id in lockers_df['locker_id'] if locker_vars[locker_id].value() == 1]\n",
    "print(f\"Chosen lockers to prioritize: {prioritized_lockers_from_pulp}\")"
   ]
  },
  {
   "cell_type": "code",
   "execution_count": 70,
   "id": "aff74bb5-3aa3-4431-ba56-e1aa8ac59656",
   "metadata": {},
   "outputs": [
    {
     "data": {
      "text/plain": [
       "[1, 4, 6, 13, 15, 16, 18, 20, 23, 24, 29, 30, 34, 39, 52, 54, 60, 68, 71, 75]"
      ]
     },
     "execution_count": 70,
     "metadata": {},
     "output_type": "execute_result"
    }
   ],
   "source": [
    "prioritized_lockers_from_naive"
   ]
  },
  {
   "cell_type": "markdown",
   "id": "818dd1b3-5211-420b-b800-7bcb88e2751e",
   "metadata": {},
   "source": [
    "### Comparing the 2 approaches"
   ]
  },
  {
   "cell_type": "code",
   "execution_count": 71,
   "id": "47c2e53f-07c4-4e37-a194-e49bf8e8d2ce",
   "metadata": {},
   "outputs": [
    {
     "data": {
      "text/html": [
       "<div>\n",
       "<style scoped>\n",
       "    .dataframe tbody tr th:only-of-type {\n",
       "        vertical-align: middle;\n",
       "    }\n",
       "\n",
       "    .dataframe tbody tr th {\n",
       "        vertical-align: top;\n",
       "    }\n",
       "\n",
       "    .dataframe thead th {\n",
       "        text-align: right;\n",
       "    }\n",
       "</style>\n",
       "<table border=\"1\" class=\"dataframe\">\n",
       "  <thead>\n",
       "    <tr style=\"text-align: right;\">\n",
       "      <th></th>\n",
       "      <th>Pulp Approach</th>\n",
       "      <th>Naive Approach</th>\n",
       "    </tr>\n",
       "  </thead>\n",
       "  <tbody>\n",
       "    <tr>\n",
       "      <th>occupancy_ratio</th>\n",
       "      <td>0.596333</td>\n",
       "      <td>0.614500</td>\n",
       "    </tr>\n",
       "    <tr>\n",
       "      <th>avg_days_since_drop_off</th>\n",
       "      <td>2.201206</td>\n",
       "      <td>1.944652</td>\n",
       "    </tr>\n",
       "    <tr>\n",
       "      <th>in_out_ratio</th>\n",
       "      <td>0.683889</td>\n",
       "      <td>0.476419</td>\n",
       "    </tr>\n",
       "    <tr>\n",
       "      <th>parcels_over_sla</th>\n",
       "      <td>1.350000</td>\n",
       "      <td>1.150000</td>\n",
       "    </tr>\n",
       "  </tbody>\n",
       "</table>\n",
       "</div>"
      ],
      "text/plain": [
       "                         Pulp Approach  Naive Approach\n",
       "occupancy_ratio               0.596333        0.614500\n",
       "avg_days_since_drop_off       2.201206        1.944652\n",
       "in_out_ratio                  0.683889        0.476419\n",
       "parcels_over_sla              1.350000        1.150000"
      ]
     },
     "execution_count": 71,
     "metadata": {},
     "output_type": "execute_result"
    }
   ],
   "source": [
    "# Extract metrics for the 20 prioritized lockers from each approach\n",
    "metrics_pulp = lockers_df[lockers_df['locker_id'].isin(prioritized_lockers_from_pulp)]\n",
    "metrics_naive = lockers_df[lockers_df['locker_id'].isin(prioritized_lockers_from_naive)]\n",
    "\n",
    "# Calculate the average metrics\n",
    "avg_metrics_pulp = metrics_pulp[['occupancy_ratio', 'avg_days_since_drop_off', 'in_out_ratio', 'parcels_over_sla']].mean()\n",
    "avg_metrics_naive = metrics_naive[['occupancy_ratio', 'avg_days_since_drop_off', 'in_out_ratio', 'parcels_over_sla']].mean()\n",
    "\n",
    "metrics_df = pd.DataFrame({'Pulp Approach': avg_metrics_pulp, 'Naive Approach': avg_metrics_naive})\n",
    "metrics_df"
   ]
  },
  {
   "cell_type": "code",
   "execution_count": 72,
   "id": "48e2e1eb-4d8a-40b1-8f67-95abf621718f",
   "metadata": {},
   "outputs": [
    {
     "data": {
      "image/png": "[encoded data removed]",
      "text/plain": [
       "<Figure size 640x480 with 1 Axes>"
      ]
     },
     "metadata": {},
     "output_type": "display_data"
    }
   ],
   "source": [
    "metrics_df.plot(kind='bar')\n",
    "plt.title('Comparison of Metrics for Pulp and Naive Approaches')\n",
    "plt.ylabel('Value')\n",
    "plt.xlabel('Metrics')\n",
    "plt.xticks(rotation=30)\n",
    "plt.show()"
   ]
  },
  {
   "cell_type": "markdown",
   "id": "e3fd72e2-3c7e-4571-9990-b01dd2310128",
   "metadata": {},
   "source": [
    "#### Metrics Comparison\n",
    "\n",
    "- **Occupancy Ratio** - Better approach: **Naive**. The Naive approach targets lockers with higher occupancy, aligning better with the goal of maximizing locker usage.\n",
    "- **Average Days Since Drop-off** - Better Approach: **Pulp**. Targets lockers with higher average days since drop-off, which suggests it is more aligned with the goal of minimizing SLA violations.\n",
    "- **In-Out Ratio** - Better Approach: **Pulp**. A higher in-out ratio is desirable as it indicates more parcels are moved from the warehouse to the locker, thus reducing the parcel count in the warehouse and maximizing locker usage. Pulp has a higher in-out ratio, making it better aligned with this objective.\n",
    "- **Parcels Over SLA** - Better Approach: **Pulp**. It targets lockers with a higher number of parcels that are over the SLA time period.\n",
    "\n",
    "\n",
    "The naive approach is better in terms of maximizing locker occupancy. \n",
    "\n",
    "The Pulp approach performs better on three out of four metrics: it aligns more with the goals of reducing SLA violations, reducing the warehouse load, and maximizing locker utilization. \n",
    "\n",
    "Depending on the business priorities, one might be more suitable than the other. If the most critical factor is to avoid SLA violations, the pulp approach might be more appropriate. If the focus is mainly on maximizing locker occupancy, the naive approach could be better."
   ]
  },
  {
   "cell_type": "markdown",
   "id": "0791475f-f3b3-4745-8140-8c52b90a98a8",
   "metadata": {},
   "source": [
    "### Comparing the chosen lockers"
   ]
  },
  {
   "cell_type": "code",
   "execution_count": 73,
   "id": "414a3737-bc2d-4bc7-b8f7-db9bb6fc4644",
   "metadata": {},
   "outputs": [
    {
     "data": {
      "text/html": [
       "<div>\n",
       "<style scoped>\n",
       "    .dataframe tbody tr th:only-of-type {\n",
       "        vertical-align: middle;\n",
       "    }\n",
       "\n",
       "    .dataframe tbody tr th {\n",
       "        vertical-align: top;\n",
       "    }\n",
       "\n",
       "    .dataframe thead th {\n",
       "        text-align: right;\n",
       "    }\n",
       "</style>\n",
       "<table border=\"1\" class=\"dataframe\">\n",
       "  <thead>\n",
       "    <tr style=\"text-align: right;\">\n",
       "      <th></th>\n",
       "      <th>Pulp Lockers</th>\n",
       "      <th>Non-Pulp Lockers</th>\n",
       "    </tr>\n",
       "  </thead>\n",
       "  <tbody>\n",
       "    <tr>\n",
       "      <th>occupancy_ratio</th>\n",
       "      <td>0.596333</td>\n",
       "      <td>0.602500</td>\n",
       "    </tr>\n",
       "    <tr>\n",
       "      <th>avg_days_since_drop_off</th>\n",
       "      <td>2.201206</td>\n",
       "      <td>1.800600</td>\n",
       "    </tr>\n",
       "    <tr>\n",
       "      <th>in_out_ratio</th>\n",
       "      <td>0.683889</td>\n",
       "      <td>0.510602</td>\n",
       "    </tr>\n",
       "    <tr>\n",
       "      <th>parcels_over_sla</th>\n",
       "      <td>1.350000</td>\n",
       "      <td>0.161111</td>\n",
       "    </tr>\n",
       "  </tbody>\n",
       "</table>\n",
       "</div>"
      ],
      "text/plain": [
       "                         Pulp Lockers  Non-Pulp Lockers\n",
       "occupancy_ratio              0.596333          0.602500\n",
       "avg_days_since_drop_off      2.201206          1.800600\n",
       "in_out_ratio                 0.683889          0.510602\n",
       "parcels_over_sla             1.350000          0.161111"
      ]
     },
     "execution_count": 73,
     "metadata": {},
     "output_type": "execute_result"
    }
   ],
   "source": [
    "metrics_pulp = lockers_df[lockers_df['locker_id'].isin(prioritized_lockers_from_pulp)]\n",
    "metrics_non_pulp = lockers_df[~lockers_df['locker_id'].isin(prioritized_lockers_from_pulp)]\n",
    "\n",
    "avg_metrics_pulp = metrics_pulp[['occupancy_ratio', 'avg_days_since_drop_off', 'in_out_ratio', 'parcels_over_sla']].mean()\n",
    "avg_metrics_non_pulp = metrics_non_pulp[['occupancy_ratio', 'avg_days_since_drop_off', 'in_out_ratio', 'parcels_over_sla']].mean()\n",
    "\n",
    "metrics_df = pd.DataFrame({'Pulp Lockers': avg_metrics_pulp, 'Non-Pulp Lockers': avg_metrics_non_pulp})\n",
    "metrics_df"
   ]
  },
  {
   "cell_type": "code",
   "execution_count": 74,
   "id": "0a7f00cd-fa8c-432c-9e9b-756532c1de54",
   "metadata": {},
   "outputs": [
    {
     "data": {
      "image/png": "[encoded data removed]",
      "text/plain": [
       "<Figure size 640x480 with 1 Axes>"
      ]
     },
     "metadata": {},
     "output_type": "display_data"
    }
   ],
   "source": [
    "metrics_df.plot(kind='bar')\n",
    "plt.title('Comparison of Metrics for Pulp/non-Pulp lockers')\n",
    "plt.ylabel('Value')\n",
    "plt.xlabel('Metrics')\n",
    "plt.xticks(rotation=30)\n",
    "plt.show()"
   ]
  },
  {
   "cell_type": "code",
   "execution_count": 102,
   "id": "f37a9cde-f895-4d92-a926-1c626ed637ff",
   "metadata": {},
   "outputs": [
    {
     "data": {
      "text/html": [
       "<div>\n",
       "<style scoped>\n",
       "    .dataframe tbody tr th:only-of-type {\n",
       "        vertical-align: middle;\n",
       "    }\n",
       "\n",
       "    .dataframe tbody tr th {\n",
       "        vertical-align: top;\n",
       "    }\n",
       "\n",
       "    .dataframe thead th {\n",
       "        text-align: right;\n",
       "    }\n",
       "</style>\n",
       "<table border=\"1\" class=\"dataframe\">\n",
       "  <thead>\n",
       "    <tr style=\"text-align: right;\">\n",
       "      <th></th>\n",
       "      <th>Pulp Lockers</th>\n",
       "      <th>Non-Pulp Lockers</th>\n",
       "    </tr>\n",
       "  </thead>\n",
       "  <tbody>\n",
       "    <tr>\n",
       "      <th>occupancy_ratio</th>\n",
       "      <td>0.596333</td>\n",
       "      <td>0.602500</td>\n",
       "    </tr>\n",
       "    <tr>\n",
       "      <th>avg_days_since_drop_off</th>\n",
       "      <td>2.201206</td>\n",
       "      <td>1.800600</td>\n",
       "    </tr>\n",
       "    <tr>\n",
       "      <th>in_out_ratio</th>\n",
       "      <td>0.683889</td>\n",
       "      <td>0.510602</td>\n",
       "    </tr>\n",
       "    <tr>\n",
       "      <th>parcels_over_sla</th>\n",
       "      <td>1.350000</td>\n",
       "      <td>0.161111</td>\n",
       "    </tr>\n",
       "  </tbody>\n",
       "</table>\n",
       "</div>"
      ],
      "text/plain": [
       "                         Pulp Lockers  Non-Pulp Lockers\n",
       "occupancy_ratio              0.596333          0.602500\n",
       "avg_days_since_drop_off      2.201206          1.800600\n",
       "in_out_ratio                 0.683889          0.510602\n",
       "parcels_over_sla             1.350000          0.161111"
      ]
     },
     "execution_count": 102,
     "metadata": {},
     "output_type": "execute_result"
    }
   ],
   "source": []
  },
  {
   "cell_type": "markdown",
   "id": "db826ae5-a483-4db7-8462-911029072330",
   "metadata": {},
   "source": [
    "#### Metrics Comparison\n",
    "\n",
    "- Both approaches have high occupancy ratios, but the Non-Pulp Lockers have a slightly higher occupancy ratio. This aligns better with the goal of maximizing locker usage, although the difference is minimal.\n",
    "- The Pulp is identifying lockers where parcels have been waiting longer. This is aligned with the business objective of avoiding SLA violations.\n",
    "- The Pulp approach has a higher in-out ratio, making it better aligned with this objective.\n",
    "- The Pulp is selecting lockers with more parcels that have violated the SLA. This might look like a disadvantage, but if the objective is to urgently clear out lockers that are close to or have violated SLA, then it makes sense."
   ]
  },
  {
   "cell_type": "code",
   "execution_count": 98,
   "id": "af7f2b3d-0b15-4ad5-9147-1edd51ba35b0",
   "metadata": {},
   "outputs": [],
   "source": [
    "from scipy.stats import mannwhitneyu, wilcoxon, ttest_ind"
   ]
  },
  {
   "cell_type": "code",
   "execution_count": 109,
   "id": "efe1910b-9bb1-4cd8-8f19-644487c03a40",
   "metadata": {},
   "outputs": [],
   "source": [
    "# Take a random sample of 20 non-Pulp lockers\n",
    "random_sample_non_pulp = metrics_non_pulp.sample(n=20)"
   ]
  },
  {
   "cell_type": "code",
   "execution_count": 110,
   "id": "3b4a5449-e937-4bc9-830a-b4aa9cdab1d0",
   "metadata": {},
   "outputs": [
    {
     "data": {
      "text/plain": [
       "<Axes: ylabel='Density'>"
      ]
     },
     "execution_count": 110,
     "metadata": {},
     "output_type": "execute_result"
    },
    {
     "data": {
      "image/png": "[encoded data removed]",
      "text/plain": [
       "<Figure size 640x480 with 1 Axes>"
      ]
     },
     "metadata": {},
     "output_type": "display_data"
    }
   ],
   "source": [
    "metrics_pulp.occupancy_ratio.plot(kind=\"kde\")"
   ]
  },
  {
   "cell_type": "code",
   "execution_count": 111,
   "id": "d1f50ef8-1172-4912-ba9d-9f96b40dcd91",
   "metadata": {},
   "outputs": [
    {
     "data": {
      "text/plain": [
       "<Axes: ylabel='Density'>"
      ]
     },
     "execution_count": 111,
     "metadata": {},
     "output_type": "execute_result"
    },
    {
     "data": {
      "image/png": "[encoded data removed]",
      "text/plain": [
       "<Figure size 640x480 with 1 Axes>"
      ]
     },
     "metadata": {},
     "output_type": "display_data"
    }
   ],
   "source": [
    "random_sample_non_pulp.occupancy_ratio.plot(kind=\"kde\")"
   ]
  },
  {
   "cell_type": "code",
   "execution_count": 112,
   "id": "07243265-c0db-4cdb-b184-48c0b14fbd93",
   "metadata": {},
   "outputs": [
    {
     "data": {
      "text/plain": [
       "<Axes: ylabel='Density'>"
      ]
     },
     "execution_count": 112,
     "metadata": {},
     "output_type": "execute_result"
    },
    {
     "data": {
      "image/png": "[encoded data removed]",
      "text/plain": [
       "<Figure size 640x480 with 1 Axes>"
      ]
     },
     "metadata": {},
     "output_type": "display_data"
    }
   ],
   "source": [
    "metrics_pulp.avg_days_since_drop_off.plot(kind=\"kde\")"
   ]
  },
  {
   "cell_type": "code",
   "execution_count": 113,
   "id": "c6712717-a8ac-4fd7-a719-1e2c8410f197",
   "metadata": {},
   "outputs": [
    {
     "data": {
      "text/plain": [
       "<Axes: ylabel='Density'>"
      ]
     },
     "execution_count": 113,
     "metadata": {},
     "output_type": "execute_result"
    },
    {
     "data": {
      "image/png": "[encoded data removed]",
      "text/plain": [
       "<Figure size 640x480 with 1 Axes>"
      ]
     },
     "metadata": {},
     "output_type": "display_data"
    }
   ],
   "source": [
    "random_sample_non_pulp.avg_days_since_drop_off.plot(kind=\"kde\")"
   ]
  },
  {
   "cell_type": "code",
   "execution_count": 96,
   "id": "ef32369c-534e-4ef4-85f8-97874fe7563a",
   "metadata": {},
   "outputs": [
    {
     "name": "stdout",
     "output_type": "stream",
     "text": [
      "Mann-Whitney U Test for occupancy_ratio:\n",
      "Statistics=205.0, p=0.902834918212914\n",
      "No significant difference between Pulp and random non-Pulp lockers for occupancy_ratio\n",
      "\n",
      "Mann-Whitney U Test for avg_days_since_drop_off:\n",
      "Statistics=364.5, p=8.962531006816031e-06\n",
      "Significant difference between Pulp and random non-Pulp lockers for avg_days_since_drop_off\n",
      "\n",
      "Mann-Whitney U Test for in_out_ratio:\n",
      "Statistics=261.0, p=0.10110245372659285\n",
      "No significant difference between Pulp and random non-Pulp lockers for in_out_ratio\n",
      "\n",
      "Mann-Whitney U Test for parcels_over_sla:\n",
      "Statistics=400.0, p=3.199671103214705e-09\n",
      "Significant difference between Pulp and random non-Pulp lockers for parcels_over_sla\n",
      "\n"
     ]
    }
   ],
   "source": [
    "# Function to run the Mann-Whitney U Test\n",
    "def run_mannwhitneyu_test(metric):\n",
    "    pulp_data = metrics_pulp[metric]\n",
    "    non_pulp_data = random_sample_non_pulp[metric]\n",
    "    \n",
    "    # Perform Mann-Whitney U Test\n",
    "    stat, p = mannwhitneyu(pulp_data, non_pulp_data)\n",
    "    print(f\"Mann-Whitney U Test for {metric}:\")\n",
    "    print(f\"Statistics={stat}, p={p}\")\n",
    "    \n",
    "    if p < 0.05:\n",
    "        print(f\"Significant difference between Pulp and random non-Pulp lockers for {metric}\\n\")\n",
    "    else:\n",
    "        print(f\"No significant difference between Pulp and random non-Pulp lockers for {metric}\\n\")\n",
    "\n",
    "# Run the test for each metric\n",
    "for metric in ['occupancy_ratio', 'avg_days_since_drop_off', 'in_out_ratio', 'parcels_over_sla']:\n",
    "    run_mannwhitneyu_test(metric)"
   ]
  },
  {
   "cell_type": "code",
   "execution_count": 99,
   "id": "a18dc94f-94f0-4c49-82ed-0c774f742d98",
   "metadata": {},
   "outputs": [
    {
     "name": "stdout",
     "output_type": "stream",
     "text": [
      "Two tailed t-test for occupancy_ratio:\n",
      "Statistics=0.20594727168713362, p=0.8379315152399545\n",
      "No significant difference between Pulp and random non-Pulp lockers for occupancy_ratio\n",
      "\n",
      "Two tailed t-test for avg_days_since_drop_off:\n",
      "Statistics=5.602181760211695, p=2.000133708788193e-06\n",
      "Significant difference between Pulp and random non-Pulp lockers for avg_days_since_drop_off\n",
      "\n",
      "Two tailed t-test for in_out_ratio:\n",
      "Statistics=1.8080828553049317, p=0.0785132848204218\n",
      "No significant difference between Pulp and random non-Pulp lockers for in_out_ratio\n",
      "\n",
      "Two tailed t-test for parcels_over_sla:\n",
      "Statistics=10.282646761776899, p=1.5644690447412305e-12\n",
      "Significant difference between Pulp and random non-Pulp lockers for parcels_over_sla\n",
      "\n"
     ]
    }
   ],
   "source": [
    "# Function to run the Mann-Whitney U Test\n",
    "def run_t_test(metric):\n",
    "    pulp_data = metrics_pulp[metric]\n",
    "    non_pulp_data = random_sample_non_pulp[metric]\n",
    "    \n",
    "    # Perform Mann-Whitney U Test\n",
    "    stat, p = ttest_ind(pulp_data, non_pulp_data)\n",
    "    print(f\"Two tailed t-test for {metric}:\")\n",
    "    print(f\"Statistics={stat}, p={p}\")\n",
    "    \n",
    "    if p < 0.05:\n",
    "        print(f\"Significant difference between Pulp and random non-Pulp lockers for {metric}\\n\")\n",
    "    else:\n",
    "        print(f\"No significant difference between Pulp and random non-Pulp lockers for {metric}\\n\")\n",
    "\n",
    "# Run the test for each metric\n",
    "for metric in ['occupancy_ratio', 'avg_days_since_drop_off', 'in_out_ratio', 'parcels_over_sla']:\n",
    "    run_t_test(metric)"
   ]
  },
  {
   "cell_type": "markdown",
   "id": "fc713ff2-570d-40ba-a798-a7662064bb25",
   "metadata": {},
   "source": [
    "  "
   ]
  },
  {
   "cell_type": "markdown",
   "id": "8f49155b-be5c-4448-8702-49722cb2c29a",
   "metadata": {},
   "source": [
    "  "
   ]
  },
  {
   "cell_type": "markdown",
   "id": "a037b4d3-faba-4cbe-a0ff-3a7d5151aaa1",
   "metadata": {},
   "source": [
    "  "
   ]
  },
  {
   "cell_type": "markdown",
   "id": "f67ed215-f7d1-45d3-b6e2-22eca26c59df",
   "metadata": {},
   "source": [
    "### Optimizing SLA Violation penalty\n"
   ]
  },
  {
   "cell_type": "code",
   "execution_count": 75,
   "id": "5ed1e6d5-6bc7-4442-b052-605033a4b585",
   "metadata": {},
   "outputs": [
    {
     "name": "stdout",
     "output_type": "stream",
     "text": [
      "Welcome to the CBC MILP Solver \n",
      "Version: 2.10.3 \n",
      "Build Date: Dec 15 2019 \n",
      "\n",
      "command line - /Users/lf/anaconda3/envs/snakes/lib/python3.11/site-packages/pulp/solverdir/cbc/osx/64/cbc /var/folders/cl/8l42ht8d4k70pf3by032y2qc0000gn/T/7a43f2ff707c4e60912371d821cbd34c-pulp.mps max timeMode elapsed branch printingOptions all solution /var/folders/cl/8l42ht8d4k70pf3by032y2qc0000gn/T/7a43f2ff707c4e60912371d821cbd34c-pulp.sol (default strategy 1)\n",
      "At line 2 NAME          MODEL\n",
      "At line 3 ROWS\n",
      "At line 6 COLUMNS\n",
      "At line 807 RHS\n",
      "At line 809 BOUNDS\n",
      "At line 1010 ENDATA\n",
      "Problem MODEL has 1 rows, 200 columns and 200 elements\n",
      "Coin0008I MODEL read with 0 errors\n",
      "Option for timeMode changed from cpu to elapsed\n",
      "Continuous objective value is 96.6286 - 0.00 seconds\n",
      "Cgl0004I processed model has 1 rows, 200 columns (200 integer (200 of which binary)) and 200 elements\n",
      "Cbc0038I Initial state - 0 integers unsatisfied sum - 0\n",
      "Cbc0038I Solution found of -96.6286\n",
      "Cbc0038I Before mini branch and bound, 200 integers at bound fixed and 0 continuous\n",
      "Cbc0038I Mini branch and bound did not improve solution (0.00 seconds)\n",
      "Cbc0038I After 0.00 seconds - Feasibility pump exiting with objective of -96.6286 - took 0.00 seconds\n",
      "Cbc0012I Integer solution of -96.628556 found by feasibility pump after 0 iterations and 0 nodes (0.00 seconds)\n",
      "Cbc0001I Search completed - best objective -96.62855604871098, took 0 iterations and 0 nodes (0.00 seconds)\n",
      "Cbc0035I Maximum depth 0, 0 variables fixed on reduced cost\n",
      "Cuts at root node changed objective from -96.6286 to -96.6286\n",
      "Probing was tried 0 times and created 0 cuts of which 0 were active after adding rounds of cuts (0.000 seconds)\n",
      "Gomory was tried 0 times and created 0 cuts of which 0 were active after adding rounds of cuts (0.000 seconds)\n",
      "Knapsack was tried 0 times and created 0 cuts of which 0 were active after adding rounds of cuts (0.000 seconds)\n",
      "Clique was tried 0 times and created 0 cuts of which 0 were active after adding rounds of cuts (0.000 seconds)\n",
      "MixedIntegerRounding2 was tried 0 times and created 0 cuts of which 0 were active after adding rounds of cuts (0.000 seconds)\n",
      "FlowCover was tried 0 times and created 0 cuts of which 0 were active after adding rounds of cuts (0.000 seconds)\n",
      "TwoMirCuts was tried 0 times and created 0 cuts of which 0 were active after adding rounds of cuts (0.000 seconds)\n",
      "ZeroHalf was tried 0 times and created 0 cuts of which 0 were active after adding rounds of cuts (0.000 seconds)\n",
      "\n",
      "Result - Optimal solution found\n",
      "\n",
      "Objective value:                96.62855605\n",
      "Enumerated nodes:               0\n",
      "Total iterations:               0\n",
      "Time (CPU seconds):             0.00\n",
      "Time (Wallclock seconds):       0.00\n",
      "\n",
      "Option for printingOptions changed from normal to all\n",
      "Total time (CPU seconds):       0.00   (Wallclock seconds):       0.00\n",
      "\n",
      "Welcome to the CBC MILP Solver \n",
      "Version: 2.10.3 \n",
      "Build Date: Dec 15 2019 \n",
      "\n",
      "command line - /Users/lf/anaconda3/envs/snakes/lib/python3.11/site-packages/pulp/solverdir/cbc/osx/64/cbc /var/folders/cl/8l42ht8d4k70pf3by032y2qc0000gn/T/204dd7eb79014bb9a962d8195c8fc7e9-pulp.mps max timeMode elapsed branch printingOptions all solution /var/folders/cl/8l42ht8d4k70pf3by032y2qc0000gn/T/204dd7eb79014bb9a962d8195c8fc7e9-pulp.sol (default strategy 1)\n",
      "At line 2 NAME          MODEL\n",
      "At line 3 ROWS\n",
      "At line 6 COLUMNS\n",
      "At line 807 RHS\n",
      "At line 809 BOUNDS\n",
      "At line 1010 ENDATA\n",
      "Problem MODEL has 1 rows, 200 columns and 200 elements\n",
      "Coin0008I MODEL read with 0 errors\n",
      "Option for timeMode changed from cpu to elapsed\n",
      "Continuous objective value is 123.629 - 0.00 seconds\n",
      "Cgl0004I processed model has 1 rows, 200 columns (200 integer (200 of which binary)) and 200 elements\n",
      "Cbc0038I Initial state - 0 integers unsatisfied sum - 0\n",
      "Cbc0038I Solution found of -123.629\n",
      "Cbc0038I Before mini branch and bound, 200 integers at bound fixed and 0 continuous\n",
      "Cbc0038I Mini branch and bound did not improve solution (0.00 seconds)\n",
      "Cbc0038I After 0.00 seconds - Feasibility pump exiting with objective of -123.629 - took 0.00 seconds\n",
      "Cbc0012I Integer solution of -123.62856 found by feasibility pump after 0 iterations and 0 nodes (0.00 seconds)\n",
      "Cbc0001I Search completed - best objective -123.628556048711, took 0 iterations and 0 nodes (0.00 seconds)\n",
      "Cbc0035I Maximum depth 0, 0 variables fixed on reduced cost\n",
      "Cuts at root node changed objective from -123.629 to -123.629\n",
      "Probing was tried 0 times and created 0 cuts of which 0 were active after adding rounds of cuts (0.000 seconds)\n",
      "Gomory was tried 0 times and created 0 cuts of which 0 were active after adding rounds of cuts (0.000 seconds)\n",
      "Knapsack was tried 0 times and created 0 cuts of which 0 were active after adding rounds of cuts (0.000 seconds)\n",
      "Clique was tried 0 times and created 0 cuts of which 0 were active after adding rounds of cuts (0.000 seconds)\n",
      "MixedIntegerRounding2 was tried 0 times and created 0 cuts of which 0 were active after adding rounds of cuts (0.000 seconds)\n",
      "FlowCover was tried 0 times and created 0 cuts of which 0 were active after adding rounds of cuts (0.000 seconds)\n",
      "TwoMirCuts was tried 0 times and created 0 cuts of which 0 were active after adding rounds of cuts (0.000 seconds)\n",
      "ZeroHalf was tried 0 times and created 0 cuts of which 0 were active after adding rounds of cuts (0.000 seconds)\n",
      "\n",
      "Result - Optimal solution found\n",
      "\n",
      "Objective value:                123.62855605\n",
      "Enumerated nodes:               0\n",
      "Total iterations:               0\n",
      "Time (CPU seconds):             0.00\n",
      "Time (Wallclock seconds):       0.00\n",
      "\n",
      "Option for printingOptions changed from normal to all\n",
      "Total time (CPU seconds):       0.00   (Wallclock seconds):       0.00\n",
      "\n",
      "Welcome to the CBC MILP Solver \n",
      "Version: 2.10.3 \n",
      "Build Date: Dec 15 2019 \n",
      "\n",
      "command line - /Users/lf/anaconda3/envs/snakes/lib/python3.11/site-packages/pulp/solverdir/cbc/osx/64/cbc /var/folders/cl/8l42ht8d4k70pf3by032y2qc0000gn/T/b5f2d01700494022a2c388a5e191c6a8-pulp.mps max timeMode elapsed branch printingOptions all solution /var/folders/cl/8l42ht8d4k70pf3by032y2qc0000gn/T/b5f2d01700494022a2c388a5e191c6a8-pulp.sol (default strategy 1)\n",
      "At line 2 NAME          MODEL\n",
      "At line 3 ROWS\n",
      "At line 6 COLUMNS\n",
      "At line 807 RHS\n",
      "At line 809 BOUNDS\n",
      "At line 1010 ENDATA\n",
      "Problem MODEL has 1 rows, 200 columns and 200 elements\n",
      "Coin0008I MODEL read with 0 errors\n",
      "Option for timeMode changed from cpu to elapsed\n",
      "Continuous objective value is 150.629 - 0.00 seconds\n",
      "Cgl0004I processed model has 1 rows, 200 columns (200 integer (200 of which binary)) and 200 elements\n",
      "Cbc0038I Initial state - 0 integers unsatisfied sum - 0\n",
      "Cbc0038I Solution found of -150.629\n",
      "Cbc0038I Before mini branch and bound, 200 integers at bound fixed and 0 continuous\n",
      "Cbc0038I Mini branch and bound did not improve solution (0.00 seconds)\n",
      "Cbc0038I After 0.00 seconds - Feasibility pump exiting with objective of -150.629 - took 0.00 seconds\n",
      "Cbc0012I Integer solution of -150.62856 found by feasibility pump after 0 iterations and 0 nodes (0.00 seconds)\n",
      "Cbc0001I Search completed - best objective -150.628556048712, took 0 iterations and 0 nodes (0.00 seconds)\n",
      "Cbc0035I Maximum depth 0, 0 variables fixed on reduced cost\n",
      "Cuts at root node changed objective from -150.629 to -150.629\n",
      "Probing was tried 0 times and created 0 cuts of which 0 were active after adding rounds of cuts (0.000 seconds)\n",
      "Gomory was tried 0 times and created 0 cuts of which 0 were active after adding rounds of cuts (0.000 seconds)\n",
      "Knapsack was tried 0 times and created 0 cuts of which 0 were active after adding rounds of cuts (0.000 seconds)\n",
      "Clique was tried 0 times and created 0 cuts of which 0 were active after adding rounds of cuts (0.000 seconds)\n",
      "MixedIntegerRounding2 was tried 0 times and created 0 cuts of which 0 were active after adding rounds of cuts (0.000 seconds)\n",
      "FlowCover was tried 0 times and created 0 cuts of which 0 were active after adding rounds of cuts (0.000 seconds)\n",
      "TwoMirCuts was tried 0 times and created 0 cuts of which 0 were active after adding rounds of cuts (0.000 seconds)\n",
      "ZeroHalf was tried 0 times and created 0 cuts of which 0 were active after adding rounds of cuts (0.000 seconds)\n",
      "\n",
      "Result - Optimal solution found\n",
      "\n",
      "Objective value:                150.62855605\n",
      "Enumerated nodes:               0\n",
      "Total iterations:               0\n",
      "Time (CPU seconds):             0.00\n",
      "Time (Wallclock seconds):       0.00\n",
      "\n",
      "Option for printingOptions changed from normal to all\n",
      "Total time (CPU seconds):       0.00   (Wallclock seconds):       0.00\n",
      "\n",
      "Welcome to the CBC MILP Solver \n",
      "Version: 2.10.3 \n",
      "Build Date: Dec 15 2019 \n",
      "\n",
      "command line - /Users/lf/anaconda3/envs/snakes/lib/python3.11/site-packages/pulp/solverdir/cbc/osx/64/cbc /var/folders/cl/8l42ht8d4k70pf3by032y2qc0000gn/T/370009dfa65f4d09b0fb60760e259197-pulp.mps max timeMode elapsed branch printingOptions all solution /var/folders/cl/8l42ht8d4k70pf3by032y2qc0000gn/T/370009dfa65f4d09b0fb60760e259197-pulp.sol (default strategy 1)\n",
      "At line 2 NAME          MODEL\n",
      "At line 3 ROWS\n",
      "At line 6 COLUMNS\n",
      "At line 807 RHS\n",
      "At line 809 BOUNDS\n",
      "At line 1010 ENDATA\n",
      "Problem MODEL has 1 rows, 200 columns and 200 elements\n",
      "Coin0008I MODEL read with 0 errors\n",
      "Option for timeMode changed from cpu to elapsed\n",
      "Continuous objective value is 177.629 - 0.00 seconds\n",
      "Cgl0004I processed model has 1 rows, 200 columns (200 integer (200 of which binary)) and 200 elements\n",
      "Cbc0038I Initial state - 0 integers unsatisfied sum - 0\n",
      "Cbc0038I Solution found of -177.629\n",
      "Cbc0038I Before mini branch and bound, 200 integers at bound fixed and 0 continuous\n",
      "Cbc0038I Mini branch and bound did not improve solution (0.00 seconds)\n",
      "Cbc0038I After 0.00 seconds - Feasibility pump exiting with objective of -177.629 - took 0.00 seconds\n",
      "Cbc0012I Integer solution of -177.62856 found by feasibility pump after 0 iterations and 0 nodes (0.00 seconds)\n",
      "Cbc0001I Search completed - best objective -177.628556048709, took 0 iterations and 0 nodes (0.00 seconds)\n",
      "Cbc0035I Maximum depth 0, 0 variables fixed on reduced cost\n",
      "Cuts at root node changed objective from -177.629 to -177.629\n",
      "Probing was tried 0 times and created 0 cuts of which 0 were active after adding rounds of cuts (0.000 seconds)\n",
      "Gomory was tried 0 times and created 0 cuts of which 0 were active after adding rounds of cuts (0.000 seconds)\n",
      "Knapsack was tried 0 times and created 0 cuts of which 0 were active after adding rounds of cuts (0.000 seconds)\n",
      "Clique was tried 0 times and created 0 cuts of which 0 were active after adding rounds of cuts (0.000 seconds)\n",
      "MixedIntegerRounding2 was tried 0 times and created 0 cuts of which 0 were active after adding rounds of cuts (0.000 seconds)\n",
      "FlowCover was tried 0 times and created 0 cuts of which 0 were active after adding rounds of cuts (0.000 seconds)\n",
      "TwoMirCuts was tried 0 times and created 0 cuts of which 0 were active after adding rounds of cuts (0.000 seconds)\n",
      "ZeroHalf was tried 0 times and created 0 cuts of which 0 were active after adding rounds of cuts (0.000 seconds)\n",
      "\n",
      "Result - Optimal solution found\n",
      "\n",
      "Objective value:                177.62855605\n",
      "Enumerated nodes:               0\n",
      "Total iterations:               0\n",
      "Time (CPU seconds):             0.00\n",
      "Time (Wallclock seconds):       0.00\n",
      "\n",
      "Option for printingOptions changed from normal to all\n",
      "Total time (CPU seconds):       0.00   (Wallclock seconds):       0.00\n",
      "\n",
      "Welcome to the CBC MILP Solver \n",
      "Version: 2.10.3 \n",
      "Build Date: Dec 15 2019 \n",
      "\n",
      "command line - /Users/lf/anaconda3/envs/snakes/lib/python3.11/site-packages/pulp/solverdir/cbc/osx/64/cbc /var/folders/cl/8l42ht8d4k70pf3by032y2qc0000gn/T/9e015f45cf6a4dad992b5415c45fcc45-pulp.mps max timeMode elapsed branch printingOptions all solution /var/folders/cl/8l42ht8d4k70pf3by032y2qc0000gn/T/9e015f45cf6a4dad992b5415c45fcc45-pulp.sol (default strategy 1)\n",
      "At line 2 NAME          MODEL\n",
      "At line 3 ROWS\n",
      "At line 6 COLUMNS\n",
      "At line 807 RHS\n",
      "At line 809 BOUNDS\n",
      "At line 1010 ENDATA\n",
      "Problem MODEL has 1 rows, 200 columns and 200 elements\n",
      "Coin0008I MODEL read with 0 errors\n",
      "Option for timeMode changed from cpu to elapsed\n",
      "Continuous objective value is 204.629 - 0.00 seconds\n",
      "Cgl0004I processed model has 1 rows, 200 columns (200 integer (200 of which binary)) and 200 elements\n",
      "Cbc0038I Initial state - 0 integers unsatisfied sum - 0\n",
      "Cbc0038I Solution found of -204.629\n",
      "Cbc0038I Before mini branch and bound, 200 integers at bound fixed and 0 continuous\n",
      "Cbc0038I Mini branch and bound did not improve solution (0.00 seconds)\n",
      "Cbc0038I After 0.00 seconds - Feasibility pump exiting with objective of -204.629 - took 0.00 seconds\n",
      "Cbc0012I Integer solution of -204.62856 found by feasibility pump after 0 iterations and 0 nodes (0.00 seconds)\n",
      "Cbc0001I Search completed - best objective -204.628556048709, took 0 iterations and 0 nodes (0.00 seconds)\n",
      "Cbc0035I Maximum depth 0, 0 variables fixed on reduced cost\n",
      "Cuts at root node changed objective from -204.629 to -204.629\n",
      "Probing was tried 0 times and created 0 cuts of which 0 were active after adding rounds of cuts (0.000 seconds)\n",
      "Gomory was tried 0 times and created 0 cuts of which 0 were active after adding rounds of cuts (0.000 seconds)\n",
      "Knapsack was tried 0 times and created 0 cuts of which 0 were active after adding rounds of cuts (0.000 seconds)\n",
      "Clique was tried 0 times and created 0 cuts of which 0 were active after adding rounds of cuts (0.000 seconds)\n",
      "MixedIntegerRounding2 was tried 0 times and created 0 cuts of which 0 were active after adding rounds of cuts (0.000 seconds)\n",
      "FlowCover was tried 0 times and created 0 cuts of which 0 were active after adding rounds of cuts (0.000 seconds)\n",
      "TwoMirCuts was tried 0 times and created 0 cuts of which 0 were active after adding rounds of cuts (0.000 seconds)\n",
      "ZeroHalf was tried 0 times and created 0 cuts of which 0 were active after adding rounds of cuts (0.000 seconds)\n",
      "\n",
      "Result - Optimal solution found\n",
      "\n",
      "Objective value:                204.62855605\n",
      "Enumerated nodes:               0\n",
      "Total iterations:               0\n",
      "Time (CPU seconds):             0.00\n",
      "Time (Wallclock seconds):       0.00\n",
      "\n",
      "Option for printingOptions changed from normal to all\n",
      "Total time (CPU seconds):       0.00   (Wallclock seconds):       0.00\n",
      "\n",
      "Welcome to the CBC MILP Solver \n",
      "Version: 2.10.3 \n",
      "Build Date: Dec 15 2019 \n",
      "\n",
      "command line - /Users/lf/anaconda3/envs/snakes/lib/python3.11/site-packages/pulp/solverdir/cbc/osx/64/cbc /var/folders/cl/8l42ht8d4k70pf3by032y2qc0000gn/T/84dd776381f64d5a9c6f4f9355dfd82a-pulp.mps max timeMode elapsed branch printingOptions all solution /var/folders/cl/8l42ht8d4k70pf3by032y2qc0000gn/T/84dd776381f64d5a9c6f4f9355dfd82a-pulp.sol (default strategy 1)\n",
      "At line 2 NAME          MODEL\n",
      "At line 3 ROWS\n",
      "At line 6 COLUMNS\n",
      "At line 807 RHS\n",
      "At line 809 BOUNDS\n",
      "At line 1010 ENDATA\n",
      "Problem MODEL has 1 rows, 200 columns and 200 elements\n",
      "Coin0008I MODEL read with 0 errors\n",
      "Option for timeMode changed from cpu to elapsed\n",
      "Continuous objective value is 231.629 - 0.00 seconds\n",
      "Cgl0004I processed model has 1 rows, 200 columns (200 integer (200 of which binary)) and 200 elements\n",
      "Cbc0038I Initial state - 0 integers unsatisfied sum - 0\n",
      "Cbc0038I Solution found of -231.629\n",
      "Cbc0038I Before mini branch and bound, 200 integers at bound fixed and 0 continuous\n",
      "Cbc0038I Mini branch and bound did not improve solution (0.00 seconds)\n",
      "Cbc0038I After 0.00 seconds - Feasibility pump exiting with objective of -231.629 - took 0.00 seconds\n",
      "Cbc0012I Integer solution of -231.62856 found by feasibility pump after 0 iterations and 0 nodes (0.00 seconds)\n",
      "Cbc0001I Search completed - best objective -231.628556048709, took 0 iterations and 0 nodes (0.00 seconds)\n",
      "Cbc0035I Maximum depth 0, 0 variables fixed on reduced cost\n",
      "Cuts at root node changed objective from -231.629 to -231.629\n",
      "Probing was tried 0 times and created 0 cuts of which 0 were active after adding rounds of cuts (0.000 seconds)\n",
      "Gomory was tried 0 times and created 0 cuts of which 0 were active after adding rounds of cuts (0.000 seconds)\n",
      "Knapsack was tried 0 times and created 0 cuts of which 0 were active after adding rounds of cuts (0.000 seconds)\n",
      "Clique was tried 0 times and created 0 cuts of which 0 were active after adding rounds of cuts (0.000 seconds)\n",
      "MixedIntegerRounding2 was tried 0 times and created 0 cuts of which 0 were active after adding rounds of cuts (0.000 seconds)\n",
      "FlowCover was tried 0 times and created 0 cuts of which 0 were active after adding rounds of cuts (0.000 seconds)\n",
      "TwoMirCuts was tried 0 times and created 0 cuts of which 0 were active after adding rounds of cuts (0.000 seconds)\n",
      "ZeroHalf was tried 0 times and created 0 cuts of which 0 were active after adding rounds of cuts (0.000 seconds)\n",
      "\n",
      "Result - Optimal solution found\n",
      "\n",
      "Objective value:                231.62855605\n",
      "Enumerated nodes:               0\n",
      "Total iterations:               0\n",
      "Time (CPU seconds):             0.00\n",
      "Time (Wallclock seconds):       0.00\n",
      "\n",
      "Option for printingOptions changed from normal to all\n",
      "Total time (CPU seconds):       0.00   (Wallclock seconds):       0.00\n",
      "\n",
      "Welcome to the CBC MILP Solver \n",
      "Version: 2.10.3 \n",
      "Build Date: Dec 15 2019 \n",
      "\n",
      "command line - /Users/lf/anaconda3/envs/snakes/lib/python3.11/site-packages/pulp/solverdir/cbc/osx/64/cbc /var/folders/cl/8l42ht8d4k70pf3by032y2qc0000gn/T/0cb67dad6d0c47bbbb41970bca075a01-pulp.mps max timeMode elapsed branch printingOptions all solution /var/folders/cl/8l42ht8d4k70pf3by032y2qc0000gn/T/0cb67dad6d0c47bbbb41970bca075a01-pulp.sol (default strategy 1)\n",
      "At line 2 NAME          MODEL\n",
      "At line 3 ROWS\n",
      "At line 6 COLUMNS\n",
      "At line 807 RHS\n",
      "At line 809 BOUNDS\n",
      "At line 1010 ENDATA\n",
      "Problem MODEL has 1 rows, 200 columns and 200 elements\n",
      "Coin0008I MODEL read with 0 errors\n",
      "Option for timeMode changed from cpu to elapsed\n",
      "Continuous objective value is 258.629 - 0.00 seconds\n",
      "Cgl0004I processed model has 1 rows, 200 columns (200 integer (200 of which binary)) and 200 elements\n",
      "Cbc0038I Initial state - 0 integers unsatisfied sum - 0\n",
      "Cbc0038I Solution found of -258.629\n",
      "Cbc0038I Before mini branch and bound, 200 integers at bound fixed and 0 continuous\n",
      "Cbc0038I Mini branch and bound did not improve solution (0.00 seconds)\n",
      "Cbc0038I After 0.00 seconds - Feasibility pump exiting with objective of -258.629 - took 0.00 seconds\n",
      "Cbc0012I Integer solution of -258.62856 found by feasibility pump after 0 iterations and 0 nodes (0.00 seconds)\n",
      "Cbc0001I Search completed - best objective -258.62855604873, took 0 iterations and 0 nodes (0.00 seconds)\n",
      "Cbc0035I Maximum depth 0, 0 variables fixed on reduced cost\n",
      "Cuts at root node changed objective from -258.629 to -258.629\n",
      "Probing was tried 0 times and created 0 cuts of which 0 were active after adding rounds of cuts (0.000 seconds)\n",
      "Gomory was tried 0 times and created 0 cuts of which 0 were active after adding rounds of cuts (0.000 seconds)\n",
      "Knapsack was tried 0 times and created 0 cuts of which 0 were active after adding rounds of cuts (0.000 seconds)\n",
      "Clique was tried 0 times and created 0 cuts of which 0 were active after adding rounds of cuts (0.000 seconds)\n",
      "MixedIntegerRounding2 was tried 0 times and created 0 cuts of which 0 were active after adding rounds of cuts (0.000 seconds)\n",
      "FlowCover was tried 0 times and created 0 cuts of which 0 were active after adding rounds of cuts (0.000 seconds)\n",
      "TwoMirCuts was tried 0 times and created 0 cuts of which 0 were active after adding rounds of cuts (0.000 seconds)\n",
      "ZeroHalf was tried 0 times and created 0 cuts of which 0 were active after adding rounds of cuts (0.000 seconds)\n",
      "\n",
      "Result - Optimal solution found\n",
      "\n",
      "Objective value:                258.62855605\n",
      "Enumerated nodes:               0\n",
      "Total iterations:               0\n",
      "Time (CPU seconds):             0.00\n",
      "Time (Wallclock seconds):       0.00\n",
      "\n",
      "Option for printingOptions changed from normal to all\n",
      "Total time (CPU seconds):       0.00   (Wallclock seconds):       0.00\n",
      "\n",
      "Welcome to the CBC MILP Solver \n",
      "Version: 2.10.3 \n",
      "Build Date: Dec 15 2019 \n",
      "\n",
      "command line - /Users/lf/anaconda3/envs/snakes/lib/python3.11/site-packages/pulp/solverdir/cbc/osx/64/cbc /var/folders/cl/8l42ht8d4k70pf3by032y2qc0000gn/T/1c219595373c4c01b258c565299ea35f-pulp.mps max timeMode elapsed branch printingOptions all solution /var/folders/cl/8l42ht8d4k70pf3by032y2qc0000gn/T/1c219595373c4c01b258c565299ea35f-pulp.sol (default strategy 1)\n",
      "At line 2 NAME          MODEL\n",
      "At line 3 ROWS\n",
      "At line 6 COLUMNS\n",
      "At line 807 RHS\n",
      "At line 809 BOUNDS\n",
      "At line 1010 ENDATA\n",
      "Problem MODEL has 1 rows, 200 columns and 200 elements\n",
      "Coin0008I MODEL read with 0 errors\n",
      "Option for timeMode changed from cpu to elapsed\n",
      "Continuous objective value is 285.629 - 0.00 seconds\n",
      "Cgl0004I processed model has 1 rows, 200 columns (200 integer (200 of which binary)) and 200 elements\n",
      "Cbc0038I Initial state - 0 integers unsatisfied sum - 0\n",
      "Cbc0038I Solution found of -285.629\n",
      "Cbc0038I Before mini branch and bound, 200 integers at bound fixed and 0 continuous\n",
      "Cbc0038I Mini branch and bound did not improve solution (0.00 seconds)\n",
      "Cbc0038I After 0.00 seconds - Feasibility pump exiting with objective of -285.629 - took 0.00 seconds\n",
      "Cbc0012I Integer solution of -285.62856 found by feasibility pump after 0 iterations and 0 nodes (0.00 seconds)\n",
      "Cbc0001I Search completed - best objective -285.62855604873, took 0 iterations and 0 nodes (0.00 seconds)\n",
      "Cbc0035I Maximum depth 0, 0 variables fixed on reduced cost\n",
      "Cuts at root node changed objective from -285.629 to -285.629\n",
      "Probing was tried 0 times and created 0 cuts of which 0 were active after adding rounds of cuts (0.000 seconds)\n",
      "Gomory was tried 0 times and created 0 cuts of which 0 were active after adding rounds of cuts (0.000 seconds)\n",
      "Knapsack was tried 0 times and created 0 cuts of which 0 were active after adding rounds of cuts (0.000 seconds)\n",
      "Clique was tried 0 times and created 0 cuts of which 0 were active after adding rounds of cuts (0.000 seconds)\n",
      "MixedIntegerRounding2 was tried 0 times and created 0 cuts of which 0 were active after adding rounds of cuts (0.000 seconds)\n",
      "FlowCover was tried 0 times and created 0 cuts of which 0 were active after adding rounds of cuts (0.000 seconds)\n",
      "TwoMirCuts was tried 0 times and created 0 cuts of which 0 were active after adding rounds of cuts (0.000 seconds)\n",
      "ZeroHalf was tried 0 times and created 0 cuts of which 0 were active after adding rounds of cuts (0.000 seconds)\n",
      "\n",
      "Result - Optimal solution found\n",
      "\n",
      "Objective value:                285.62855605\n",
      "Enumerated nodes:               0\n",
      "Total iterations:               0\n",
      "Time (CPU seconds):             0.00\n",
      "Time (Wallclock seconds):       0.00\n",
      "\n",
      "Option for printingOptions changed from normal to all\n",
      "Total time (CPU seconds):       0.00   (Wallclock seconds):       0.00\n",
      "\n",
      "Welcome to the CBC MILP Solver \n",
      "Version: 2.10.3 \n",
      "Build Date: Dec 15 2019 \n",
      "\n",
      "command line - /Users/lf/anaconda3/envs/snakes/lib/python3.11/site-packages/pulp/solverdir/cbc/osx/64/cbc /var/folders/cl/8l42ht8d4k70pf3by032y2qc0000gn/T/69e96d820f10499d98a8cb7d6333664f-pulp.mps max timeMode elapsed branch printingOptions all solution /var/folders/cl/8l42ht8d4k70pf3by032y2qc0000gn/T/69e96d820f10499d98a8cb7d6333664f-pulp.sol (default strategy 1)\n",
      "At line 2 NAME          MODEL\n",
      "At line 3 ROWS\n",
      "At line 6 COLUMNS\n",
      "At line 807 RHS\n",
      "At line 809 BOUNDS\n",
      "At line 1010 ENDATA\n",
      "Problem MODEL has 1 rows, 200 columns and 200 elements\n",
      "Coin0008I MODEL read with 0 errors\n",
      "Option for timeMode changed from cpu to elapsed\n",
      "Continuous objective value is 312.629 - 0.00 seconds\n",
      "Cgl0004I processed model has 1 rows, 200 columns (200 integer (200 of which binary)) and 200 elements\n",
      "Cbc0038I Initial state - 0 integers unsatisfied sum - 0\n",
      "Cbc0038I Solution found of -312.629\n",
      "Cbc0038I Before mini branch and bound, 200 integers at bound fixed and 0 continuous\n",
      "Cbc0038I Mini branch and bound did not improve solution (0.00 seconds)\n",
      "Cbc0038I After 0.00 seconds - Feasibility pump exiting with objective of -312.629 - took 0.00 seconds\n",
      "Cbc0012I Integer solution of -312.62856 found by feasibility pump after 0 iterations and 0 nodes (0.00 seconds)\n",
      "Cbc0001I Search completed - best objective -312.62855604873, took 0 iterations and 0 nodes (0.00 seconds)\n",
      "Cbc0035I Maximum depth 0, 0 variables fixed on reduced cost\n",
      "Cuts at root node changed objective from -312.629 to -312.629\n",
      "Probing was tried 0 times and created 0 cuts of which 0 were active after adding rounds of cuts (0.000 seconds)\n",
      "Gomory was tried 0 times and created 0 cuts of which 0 were active after adding rounds of cuts (0.000 seconds)\n",
      "Knapsack was tried 0 times and created 0 cuts of which 0 were active after adding rounds of cuts (0.000 seconds)\n",
      "Clique was tried 0 times and created 0 cuts of which 0 were active after adding rounds of cuts (0.000 seconds)\n",
      "MixedIntegerRounding2 was tried 0 times and created 0 cuts of which 0 were active after adding rounds of cuts (0.000 seconds)\n",
      "FlowCover was tried 0 times and created 0 cuts of which 0 were active after adding rounds of cuts (0.000 seconds)\n",
      "TwoMirCuts was tried 0 times and created 0 cuts of which 0 were active after adding rounds of cuts (0.000 seconds)\n",
      "ZeroHalf was tried 0 times and created 0 cuts of which 0 were active after adding rounds of cuts (0.000 seconds)\n",
      "\n",
      "Result - Optimal solution found\n",
      "\n",
      "Objective value:                312.62855605\n",
      "Enumerated nodes:               0\n",
      "Total iterations:               0\n",
      "Time (CPU seconds):             0.00\n",
      "Time (Wallclock seconds):       0.00\n",
      "\n",
      "Option for printingOptions changed from normal to all\n",
      "Total time (CPU seconds):       0.00   (Wallclock seconds):       0.00\n",
      "\n",
      "Welcome to the CBC MILP Solver \n",
      "Version: 2.10.3 \n",
      "Build Date: Dec 15 2019 \n",
      "\n",
      "command line - /Users/lf/anaconda3/envs/snakes/lib/python3.11/site-packages/pulp/solverdir/cbc/osx/64/cbc /var/folders/cl/8l42ht8d4k70pf3by032y2qc0000gn/T/013d834be55b415a9fdf98df6bdc7977-pulp.mps max timeMode elapsed branch printingOptions all solution /var/folders/cl/8l42ht8d4k70pf3by032y2qc0000gn/T/013d834be55b415a9fdf98df6bdc7977-pulp.sol (default strategy 1)\n",
      "At line 2 NAME          MODEL\n",
      "At line 3 ROWS\n",
      "At line 6 COLUMNS\n",
      "At line 807 RHS\n",
      "At line 809 BOUNDS\n",
      "At line 1010 ENDATA\n",
      "Problem MODEL has 1 rows, 200 columns and 200 elements\n",
      "Coin0008I MODEL read with 0 errors\n",
      "Option for timeMode changed from cpu to elapsed\n",
      "Continuous objective value is 339.629 - 0.00 seconds\n",
      "Cgl0004I processed model has 1 rows, 200 columns (200 integer (200 of which binary)) and 200 elements\n",
      "Cbc0038I Initial state - 0 integers unsatisfied sum - 0\n",
      "Cbc0038I Solution found of -339.629\n",
      "Cbc0038I Before mini branch and bound, 200 integers at bound fixed and 0 continuous\n",
      "Cbc0038I Mini branch and bound did not improve solution (0.00 seconds)\n",
      "Cbc0038I After 0.00 seconds - Feasibility pump exiting with objective of -339.629 - took 0.00 seconds\n",
      "Cbc0012I Integer solution of -339.62856 found by feasibility pump after 0 iterations and 0 nodes (0.00 seconds)\n",
      "Cbc0001I Search completed - best objective -339.62855604873, took 0 iterations and 0 nodes (0.00 seconds)\n",
      "Cbc0035I Maximum depth 0, 0 variables fixed on reduced cost\n",
      "Cuts at root node changed objective from -339.629 to -339.629\n",
      "Probing was tried 0 times and created 0 cuts of which 0 were active after adding rounds of cuts (0.000 seconds)\n",
      "Gomory was tried 0 times and created 0 cuts of which 0 were active after adding rounds of cuts (0.000 seconds)\n",
      "Knapsack was tried 0 times and created 0 cuts of which 0 were active after adding rounds of cuts (0.000 seconds)\n",
      "Clique was tried 0 times and created 0 cuts of which 0 were active after adding rounds of cuts (0.000 seconds)\n",
      "MixedIntegerRounding2 was tried 0 times and created 0 cuts of which 0 were active after adding rounds of cuts (0.000 seconds)\n",
      "FlowCover was tried 0 times and created 0 cuts of which 0 were active after adding rounds of cuts (0.000 seconds)\n",
      "TwoMirCuts was tried 0 times and created 0 cuts of which 0 were active after adding rounds of cuts (0.000 seconds)\n",
      "ZeroHalf was tried 0 times and created 0 cuts of which 0 were active after adding rounds of cuts (0.000 seconds)\n",
      "\n",
      "Result - Optimal solution found\n",
      "\n",
      "Objective value:                339.62855605\n",
      "Enumerated nodes:               0\n",
      "Total iterations:               0\n",
      "Time (CPU seconds):             0.00\n",
      "Time (Wallclock seconds):       0.00\n",
      "\n",
      "Option for printingOptions changed from normal to all\n",
      "Total time (CPU seconds):       0.00   (Wallclock seconds):       0.00\n",
      "\n",
      "Welcome to the CBC MILP Solver \n",
      "Version: 2.10.3 \n",
      "Build Date: Dec 15 2019 \n",
      "\n",
      "command line - /Users/lf/anaconda3/envs/snakes/lib/python3.11/site-packages/pulp/solverdir/cbc/osx/64/cbc /var/folders/cl/8l42ht8d4k70pf3by032y2qc0000gn/T/c0af9cee90c54b7080b03e47b5f36010-pulp.mps max timeMode elapsed branch printingOptions all solution /var/folders/cl/8l42ht8d4k70pf3by032y2qc0000gn/T/c0af9cee90c54b7080b03e47b5f36010-pulp.sol (default strategy 1)\n",
      "At line 2 NAME          MODEL\n",
      "At line 3 ROWS\n",
      "At line 6 COLUMNS\n",
      "At line 807 RHS\n",
      "At line 809 BOUNDS\n",
      "At line 1010 ENDATA\n",
      "Problem MODEL has 1 rows, 200 columns and 200 elements\n",
      "Coin0008I MODEL read with 0 errors\n",
      "Option for timeMode changed from cpu to elapsed\n",
      "Continuous objective value is 366.629 - 0.00 seconds\n",
      "Cgl0004I processed model has 1 rows, 200 columns (200 integer (200 of which binary)) and 200 elements\n",
      "Cbc0038I Initial state - 0 integers unsatisfied sum - 0\n",
      "Cbc0038I Solution found of -366.629\n",
      "Cbc0038I Before mini branch and bound, 200 integers at bound fixed and 0 continuous\n",
      "Cbc0038I Mini branch and bound did not improve solution (0.00 seconds)\n",
      "Cbc0038I After 0.00 seconds - Feasibility pump exiting with objective of -366.629 - took 0.00 seconds\n",
      "Cbc0012I Integer solution of -366.62856 found by feasibility pump after 0 iterations and 0 nodes (0.00 seconds)\n",
      "Cbc0001I Search completed - best objective -366.62855604873, took 0 iterations and 0 nodes (0.00 seconds)\n",
      "Cbc0035I Maximum depth 0, 0 variables fixed on reduced cost\n",
      "Cuts at root node changed objective from -366.629 to -366.629\n",
      "Probing was tried 0 times and created 0 cuts of which 0 were active after adding rounds of cuts (0.000 seconds)\n",
      "Gomory was tried 0 times and created 0 cuts of which 0 were active after adding rounds of cuts (0.000 seconds)\n",
      "Knapsack was tried 0 times and created 0 cuts of which 0 were active after adding rounds of cuts (0.000 seconds)\n",
      "Clique was tried 0 times and created 0 cuts of which 0 were active after adding rounds of cuts (0.000 seconds)\n",
      "MixedIntegerRounding2 was tried 0 times and created 0 cuts of which 0 were active after adding rounds of cuts (0.000 seconds)\n",
      "FlowCover was tried 0 times and created 0 cuts of which 0 were active after adding rounds of cuts (0.000 seconds)\n",
      "TwoMirCuts was tried 0 times and created 0 cuts of which 0 were active after adding rounds of cuts (0.000 seconds)\n",
      "ZeroHalf was tried 0 times and created 0 cuts of which 0 were active after adding rounds of cuts (0.000 seconds)\n",
      "\n",
      "Result - Optimal solution found\n",
      "\n",
      "Objective value:                366.62855605\n",
      "Enumerated nodes:               0\n",
      "Total iterations:               0\n",
      "Time (CPU seconds):             0.00\n",
      "Time (Wallclock seconds):       0.00\n",
      "\n",
      "Option for printingOptions changed from normal to all\n",
      "Total time (CPU seconds):       0.00   (Wallclock seconds):       0.00\n",
      "\n",
      "Welcome to the CBC MILP Solver \n",
      "Version: 2.10.3 \n",
      "Build Date: Dec 15 2019 \n",
      "\n",
      "command line - /Users/lf/anaconda3/envs/snakes/lib/python3.11/site-packages/pulp/solverdir/cbc/osx/64/cbc /var/folders/cl/8l42ht8d4k70pf3by032y2qc0000gn/T/981d3772926749608568b2f5cabb2ea9-pulp.mps max timeMode elapsed branch printingOptions all solution /var/folders/cl/8l42ht8d4k70pf3by032y2qc0000gn/T/981d3772926749608568b2f5cabb2ea9-pulp.sol (default strategy 1)\n",
      "At line 2 NAME          MODEL\n",
      "At line 3 ROWS\n",
      "At line 6 COLUMNS\n",
      "At line 807 RHS\n",
      "At line 809 BOUNDS\n",
      "At line 1010 ENDATA\n",
      "Problem MODEL has 1 rows, 200 columns and 200 elements\n",
      "Coin0008I MODEL read with 0 errors\n",
      "Option for timeMode changed from cpu to elapsed\n",
      "Continuous objective value is 393.629 - 0.00 seconds\n",
      "Cgl0004I processed model has 1 rows, 200 columns (200 integer (200 of which binary)) and 200 elements\n",
      "Cbc0038I Initial state - 0 integers unsatisfied sum - 0\n",
      "Cbc0038I Solution found of -393.629\n",
      "Cbc0038I Before mini branch and bound, 200 integers at bound fixed and 0 continuous\n",
      "Cbc0038I Mini branch and bound did not improve solution (0.00 seconds)\n",
      "Cbc0038I After 0.00 seconds - Feasibility pump exiting with objective of -393.629 - took 0.00 seconds\n",
      "Cbc0012I Integer solution of -393.62856 found by feasibility pump after 0 iterations and 0 nodes (0.00 seconds)\n",
      "Cbc0001I Search completed - best objective -393.62855604873, took 0 iterations and 0 nodes (0.00 seconds)\n",
      "Cbc0035I Maximum depth 0, 0 variables fixed on reduced cost\n",
      "Cuts at root node changed objective from -393.629 to -393.629\n",
      "Probing was tried 0 times and created 0 cuts of which 0 were active after adding rounds of cuts (0.000 seconds)\n",
      "Gomory was tried 0 times and created 0 cuts of which 0 were active after adding rounds of cuts (0.000 seconds)\n",
      "Knapsack was tried 0 times and created 0 cuts of which 0 were active after adding rounds of cuts (0.000 seconds)\n",
      "Clique was tried 0 times and created 0 cuts of which 0 were active after adding rounds of cuts (0.000 seconds)\n",
      "MixedIntegerRounding2 was tried 0 times and created 0 cuts of which 0 were active after adding rounds of cuts (0.000 seconds)\n",
      "FlowCover was tried 0 times and created 0 cuts of which 0 were active after adding rounds of cuts (0.000 seconds)\n",
      "TwoMirCuts was tried 0 times and created 0 cuts of which 0 were active after adding rounds of cuts (0.000 seconds)\n",
      "ZeroHalf was tried 0 times and created 0 cuts of which 0 were active after adding rounds of cuts (0.000 seconds)\n",
      "\n",
      "Result - Optimal solution found\n",
      "\n",
      "Objective value:                393.62855605\n",
      "Enumerated nodes:               0\n",
      "Total iterations:               0\n",
      "Time (CPU seconds):             0.00\n",
      "Time (Wallclock seconds):       0.00\n",
      "\n",
      "Option for printingOptions changed from normal to all\n",
      "Total time (CPU seconds):       0.00   (Wallclock seconds):       0.00\n",
      "\n",
      "Welcome to the CBC MILP Solver \n",
      "Version: 2.10.3 \n",
      "Build Date: Dec 15 2019 \n",
      "\n",
      "command line - /Users/lf/anaconda3/envs/snakes/lib/python3.11/site-packages/pulp/solverdir/cbc/osx/64/cbc /var/folders/cl/8l42ht8d4k70pf3by032y2qc0000gn/T/b3e1bb86258c457b93346b5098c5da59-pulp.mps max timeMode elapsed branch printingOptions all solution /var/folders/cl/8l42ht8d4k70pf3by032y2qc0000gn/T/b3e1bb86258c457b93346b5098c5da59-pulp.sol (default strategy 1)\n",
      "At line 2 NAME          MODEL\n",
      "At line 3 ROWS\n",
      "At line 6 COLUMNS\n",
      "At line 807 RHS\n",
      "At line 809 BOUNDS\n",
      "At line 1010 ENDATA\n",
      "Problem MODEL has 1 rows, 200 columns and 200 elements\n",
      "Coin0008I MODEL read with 0 errors\n",
      "Option for timeMode changed from cpu to elapsed\n",
      "Continuous objective value is 420.629 - 0.00 seconds\n",
      "Cgl0004I processed model has 1 rows, 200 columns (200 integer (200 of which binary)) and 200 elements\n",
      "Cbc0038I Initial state - 0 integers unsatisfied sum - 0\n",
      "Cbc0038I Solution found of -420.629\n",
      "Cbc0038I Before mini branch and bound, 200 integers at bound fixed and 0 continuous\n",
      "Cbc0038I Mini branch and bound did not improve solution (0.00 seconds)\n",
      "Cbc0038I After 0.00 seconds - Feasibility pump exiting with objective of -420.629 - took 0.00 seconds\n",
      "Cbc0012I Integer solution of -420.62856 found by feasibility pump after 0 iterations and 0 nodes (0.00 seconds)\n",
      "Cbc0001I Search completed - best objective -420.62855604873, took 0 iterations and 0 nodes (0.00 seconds)\n",
      "Cbc0035I Maximum depth 0, 0 variables fixed on reduced cost\n",
      "Cuts at root node changed objective from -420.629 to -420.629\n",
      "Probing was tried 0 times and created 0 cuts of which 0 were active after adding rounds of cuts (0.000 seconds)\n",
      "Gomory was tried 0 times and created 0 cuts of which 0 were active after adding rounds of cuts (0.000 seconds)\n",
      "Knapsack was tried 0 times and created 0 cuts of which 0 were active after adding rounds of cuts (0.000 seconds)\n",
      "Clique was tried 0 times and created 0 cuts of which 0 were active after adding rounds of cuts (0.000 seconds)\n",
      "MixedIntegerRounding2 was tried 0 times and created 0 cuts of which 0 were active after adding rounds of cuts (0.000 seconds)\n",
      "FlowCover was tried 0 times and created 0 cuts of which 0 were active after adding rounds of cuts (0.000 seconds)\n",
      "TwoMirCuts was tried 0 times and created 0 cuts of which 0 were active after adding rounds of cuts (0.000 seconds)\n",
      "ZeroHalf was tried 0 times and created 0 cuts of which 0 were active after adding rounds of cuts (0.000 seconds)\n",
      "\n",
      "Result - Optimal solution found\n",
      "\n",
      "Objective value:                420.62855605\n",
      "Enumerated nodes:               0\n",
      "Total iterations:               0\n",
      "Time (CPU seconds):             0.00\n",
      "Time (Wallclock seconds):       0.00\n",
      "\n",
      "Option for printingOptions changed from normal to all\n",
      "Total time (CPU seconds):       0.00   (Wallclock seconds):       0.01\n",
      "\n",
      "Welcome to the CBC MILP Solver \n",
      "Version: 2.10.3 \n",
      "Build Date: Dec 15 2019 \n",
      "\n",
      "command line - /Users/lf/anaconda3/envs/snakes/lib/python3.11/site-packages/pulp/solverdir/cbc/osx/64/cbc /var/folders/cl/8l42ht8d4k70pf3by032y2qc0000gn/T/3d4527d9f59946aaa201a4136bc4b1d9-pulp.mps max timeMode elapsed branch printingOptions all solution /var/folders/cl/8l42ht8d4k70pf3by032y2qc0000gn/T/3d4527d9f59946aaa201a4136bc4b1d9-pulp.sol (default strategy 1)\n",
      "At line 2 NAME          MODEL\n",
      "At line 3 ROWS\n",
      "At line 6 COLUMNS\n",
      "At line 807 RHS\n",
      "At line 809 BOUNDS\n",
      "At line 1010 ENDATA\n",
      "Problem MODEL has 1 rows, 200 columns and 200 elements\n",
      "Coin0008I MODEL read with 0 errors\n",
      "Option for timeMode changed from cpu to elapsed\n",
      "Continuous objective value is 447.629 - 0.00 seconds\n",
      "Cgl0004I processed model has 1 rows, 200 columns (200 integer (200 of which binary)) and 200 elements\n",
      "Cbc0038I Initial state - 0 integers unsatisfied sum - 0\n",
      "Cbc0038I Solution found of -447.629\n",
      "Cbc0038I Before mini branch and bound, 200 integers at bound fixed and 0 continuous\n",
      "Cbc0038I Mini branch and bound did not improve solution (0.00 seconds)\n",
      "Cbc0038I After 0.00 seconds - Feasibility pump exiting with objective of -447.629 - took 0.00 seconds\n",
      "Cbc0012I Integer solution of -447.62856 found by feasibility pump after 0 iterations and 0 nodes (0.00 seconds)\n",
      "Cbc0001I Search completed - best objective -447.62855604873, took 0 iterations and 0 nodes (0.00 seconds)\n",
      "Cbc0035I Maximum depth 0, 0 variables fixed on reduced cost\n",
      "Cuts at root node changed objective from -447.629 to -447.629\n",
      "Probing was tried 0 times and created 0 cuts of which 0 were active after adding rounds of cuts (0.000 seconds)\n",
      "Gomory was tried 0 times and created 0 cuts of which 0 were active after adding rounds of cuts (0.000 seconds)\n",
      "Knapsack was tried 0 times and created 0 cuts of which 0 were active after adding rounds of cuts (0.000 seconds)\n",
      "Clique was tried 0 times and created 0 cuts of which 0 were active after adding rounds of cuts (0.000 seconds)\n",
      "MixedIntegerRounding2 was tried 0 times and created 0 cuts of which 0 were active after adding rounds of cuts (0.000 seconds)\n",
      "FlowCover was tried 0 times and created 0 cuts of which 0 were active after adding rounds of cuts (0.000 seconds)\n",
      "TwoMirCuts was tried 0 times and created 0 cuts of which 0 were active after adding rounds of cuts (0.000 seconds)\n",
      "ZeroHalf was tried 0 times and created 0 cuts of which 0 were active after adding rounds of cuts (0.000 seconds)\n",
      "\n",
      "Result - Optimal solution found\n",
      "\n",
      "Objective value:                447.62855605\n",
      "Enumerated nodes:               0\n",
      "Total iterations:               0\n",
      "Time (CPU seconds):             0.00\n",
      "Time (Wallclock seconds):       0.00\n",
      "\n",
      "Option for printingOptions changed from normal to all\n",
      "Total time (CPU seconds):       0.00   (Wallclock seconds):       0.00\n",
      "\n",
      "Welcome to the CBC MILP Solver \n",
      "Version: 2.10.3 \n",
      "Build Date: Dec 15 2019 \n",
      "\n",
      "command line - /Users/lf/anaconda3/envs/snakes/lib/python3.11/site-packages/pulp/solverdir/cbc/osx/64/cbc /var/folders/cl/8l42ht8d4k70pf3by032y2qc0000gn/T/b352bff84b9047e885d34af2837f1e50-pulp.mps max timeMode elapsed branch printingOptions all solution /var/folders/cl/8l42ht8d4k70pf3by032y2qc0000gn/T/b352bff84b9047e885d34af2837f1e50-pulp.sol (default strategy 1)\n",
      "At line 2 NAME          MODEL\n",
      "At line 3 ROWS\n",
      "At line 6 COLUMNS\n",
      "At line 807 RHS\n",
      "At line 809 BOUNDS\n",
      "At line 1010 ENDATA\n",
      "Problem MODEL has 1 rows, 200 columns and 200 elements\n",
      "Coin0008I MODEL read with 0 errors\n",
      "Option for timeMode changed from cpu to elapsed\n",
      "Continuous objective value is 474.629 - 0.00 seconds\n",
      "Cgl0004I processed model has 1 rows, 200 columns (200 integer (200 of which binary)) and 200 elements\n",
      "Cbc0038I Initial state - 0 integers unsatisfied sum - 0\n",
      "Cbc0038I Solution found of -474.629\n",
      "Cbc0038I Before mini branch and bound, 200 integers at bound fixed and 0 continuous\n",
      "Cbc0038I Mini branch and bound did not improve solution (0.00 seconds)\n",
      "Cbc0038I After 0.00 seconds - Feasibility pump exiting with objective of -474.629 - took 0.00 seconds\n",
      "Cbc0012I Integer solution of -474.62856 found by feasibility pump after 0 iterations and 0 nodes (0.00 seconds)\n",
      "Cbc0001I Search completed - best objective -474.6285560487299, took 0 iterations and 0 nodes (0.00 seconds)\n",
      "Cbc0035I Maximum depth 0, 0 variables fixed on reduced cost\n",
      "Cuts at root node changed objective from -474.629 to -474.629\n",
      "Probing was tried 0 times and created 0 cuts of which 0 were active after adding rounds of cuts (0.000 seconds)\n",
      "Gomory was tried 0 times and created 0 cuts of which 0 were active after adding rounds of cuts (0.000 seconds)\n",
      "Knapsack was tried 0 times and created 0 cuts of which 0 were active after adding rounds of cuts (0.000 seconds)\n",
      "Clique was tried 0 times and created 0 cuts of which 0 were active after adding rounds of cuts (0.000 seconds)\n",
      "MixedIntegerRounding2 was tried 0 times and created 0 cuts of which 0 were active after adding rounds of cuts (0.000 seconds)\n",
      "FlowCover was tried 0 times and created 0 cuts of which 0 were active after adding rounds of cuts (0.000 seconds)\n",
      "TwoMirCuts was tried 0 times and created 0 cuts of which 0 were active after adding rounds of cuts (0.000 seconds)\n",
      "ZeroHalf was tried 0 times and created 0 cuts of which 0 were active after adding rounds of cuts (0.000 seconds)\n",
      "\n",
      "Result - Optimal solution found\n",
      "\n",
      "Objective value:                474.62855605\n",
      "Enumerated nodes:               0\n",
      "Total iterations:               0\n",
      "Time (CPU seconds):             0.00\n",
      "Time (Wallclock seconds):       0.00\n",
      "\n",
      "Option for printingOptions changed from normal to all\n",
      "Total time (CPU seconds):       0.00   (Wallclock seconds):       0.00\n",
      "\n",
      "Welcome to the CBC MILP Solver \n",
      "Version: 2.10.3 \n",
      "Build Date: Dec 15 2019 \n",
      "\n",
      "command line - /Users/lf/anaconda3/envs/snakes/lib/python3.11/site-packages/pulp/solverdir/cbc/osx/64/cbc /var/folders/cl/8l42ht8d4k70pf3by032y2qc0000gn/T/4d279ca2b0694ddc9470366724c854ba-pulp.mps max timeMode elapsed branch printingOptions all solution /var/folders/cl/8l42ht8d4k70pf3by032y2qc0000gn/T/4d279ca2b0694ddc9470366724c854ba-pulp.sol (default strategy 1)\n",
      "At line 2 NAME          MODEL\n",
      "At line 3 ROWS\n",
      "At line 6 COLUMNS\n",
      "At line 807 RHS\n",
      "At line 809 BOUNDS\n",
      "At line 1010 ENDATA\n",
      "Problem MODEL has 1 rows, 200 columns and 200 elements\n",
      "Coin0008I MODEL read with 0 errors\n",
      "Option for timeMode changed from cpu to elapsed\n",
      "Continuous objective value is 501.629 - 0.00 seconds\n",
      "Cgl0004I processed model has 1 rows, 200 columns (200 integer (200 of which binary)) and 200 elements\n",
      "Cbc0038I Initial state - 0 integers unsatisfied sum - 0\n",
      "Cbc0038I Solution found of -501.629\n",
      "Cbc0038I Before mini branch and bound, 200 integers at bound fixed and 0 continuous\n",
      "Cbc0038I Mini branch and bound did not improve solution (0.00 seconds)\n",
      "Cbc0038I After 0.00 seconds - Feasibility pump exiting with objective of -501.629 - took 0.00 seconds\n",
      "Cbc0012I Integer solution of -501.62856 found by feasibility pump after 0 iterations and 0 nodes (0.00 seconds)\n",
      "Cbc0001I Search completed - best objective -501.62855604873, took 0 iterations and 0 nodes (0.00 seconds)\n",
      "Cbc0035I Maximum depth 0, 0 variables fixed on reduced cost\n",
      "Cuts at root node changed objective from -501.629 to -501.629\n",
      "Probing was tried 0 times and created 0 cuts of which 0 were active after adding rounds of cuts (0.000 seconds)\n",
      "Gomory was tried 0 times and created 0 cuts of which 0 were active after adding rounds of cuts (0.000 seconds)\n",
      "Knapsack was tried 0 times and created 0 cuts of which 0 were active after adding rounds of cuts (0.000 seconds)\n",
      "Clique was tried 0 times and created 0 cuts of which 0 were active after adding rounds of cuts (0.000 seconds)\n",
      "MixedIntegerRounding2 was tried 0 times and created 0 cuts of which 0 were active after adding rounds of cuts (0.000 seconds)\n",
      "FlowCover was tried 0 times and created 0 cuts of which 0 were active after adding rounds of cuts (0.000 seconds)\n",
      "TwoMirCuts was tried 0 times and created 0 cuts of which 0 were active after adding rounds of cuts (0.000 seconds)\n",
      "ZeroHalf was tried 0 times and created 0 cuts of which 0 were active after adding rounds of cuts (0.000 seconds)\n",
      "\n",
      "Result - Optimal solution found\n",
      "\n",
      "Objective value:                501.62855605\n",
      "Enumerated nodes:               0\n",
      "Total iterations:               0\n",
      "Time (CPU seconds):             0.00\n",
      "Time (Wallclock seconds):       0.00\n",
      "\n",
      "Option for printingOptions changed from normal to all\n",
      "Total time (CPU seconds):       0.00   (Wallclock seconds):       0.00\n",
      "\n",
      "Welcome to the CBC MILP Solver \n",
      "Version: 2.10.3 \n",
      "Build Date: Dec 15 2019 \n",
      "\n",
      "command line - /Users/lf/anaconda3/envs/snakes/lib/python3.11/site-packages/pulp/solverdir/cbc/osx/64/cbc /var/folders/cl/8l42ht8d4k70pf3by032y2qc0000gn/T/7e1f0f244670460f8410b7d481ad7e25-pulp.mps max timeMode elapsed branch printingOptions all solution /var/folders/cl/8l42ht8d4k70pf3by032y2qc0000gn/T/7e1f0f244670460f8410b7d481ad7e25-pulp.sol (default strategy 1)\n",
      "At line 2 NAME          MODEL\n",
      "At line 3 ROWS\n",
      "At line 6 COLUMNS\n",
      "At line 807 RHS\n",
      "At line 809 BOUNDS\n",
      "At line 1010 ENDATA\n",
      "Problem MODEL has 1 rows, 200 columns and 200 elements\n",
      "Coin0008I MODEL read with 0 errors\n",
      "Option for timeMode changed from cpu to elapsed\n",
      "Continuous objective value is 528.629 - 0.00 seconds\n",
      "Cgl0004I processed model has 1 rows, 200 columns (200 integer (200 of which binary)) and 200 elements\n",
      "Cbc0038I Initial state - 0 integers unsatisfied sum - 0\n",
      "Cbc0038I Solution found of -528.629\n",
      "Cbc0038I Before mini branch and bound, 200 integers at bound fixed and 0 continuous\n",
      "Cbc0038I Mini branch and bound did not improve solution (0.00 seconds)\n",
      "Cbc0038I After 0.00 seconds - Feasibility pump exiting with objective of -528.629 - took 0.00 seconds\n",
      "Cbc0012I Integer solution of -528.62856 found by feasibility pump after 0 iterations and 0 nodes (0.00 seconds)\n",
      "Cbc0001I Search completed - best objective -528.62855604873, took 0 iterations and 0 nodes (0.00 seconds)\n",
      "Cbc0035I Maximum depth 0, 0 variables fixed on reduced cost\n",
      "Cuts at root node changed objective from -528.629 to -528.629\n",
      "Probing was tried 0 times and created 0 cuts of which 0 were active after adding rounds of cuts (0.000 seconds)\n",
      "Gomory was tried 0 times and created 0 cuts of which 0 were active after adding rounds of cuts (0.000 seconds)\n",
      "Knapsack was tried 0 times and created 0 cuts of which 0 were active after adding rounds of cuts (0.000 seconds)\n",
      "Clique was tried 0 times and created 0 cuts of which 0 were active after adding rounds of cuts (0.000 seconds)\n",
      "MixedIntegerRounding2 was tried 0 times and created 0 cuts of which 0 were active after adding rounds of cuts (0.000 seconds)\n",
      "FlowCover was tried 0 times and created 0 cuts of which 0 were active after adding rounds of cuts (0.000 seconds)\n",
      "TwoMirCuts was tried 0 times and created 0 cuts of which 0 were active after adding rounds of cuts (0.000 seconds)\n",
      "ZeroHalf was tried 0 times and created 0 cuts of which 0 were active after adding rounds of cuts (0.000 seconds)\n",
      "\n",
      "Result - Optimal solution found\n",
      "\n",
      "Objective value:                528.62855605\n",
      "Enumerated nodes:               0\n",
      "Total iterations:               0\n",
      "Time (CPU seconds):             0.00\n",
      "Time (Wallclock seconds):       0.00\n",
      "\n",
      "Option for printingOptions changed from normal to all\n",
      "Total time (CPU seconds):       0.00   (Wallclock seconds):       0.00\n",
      "\n",
      "Welcome to the CBC MILP Solver \n",
      "Version: 2.10.3 \n",
      "Build Date: Dec 15 2019 \n",
      "\n",
      "command line - /Users/lf/anaconda3/envs/snakes/lib/python3.11/site-packages/pulp/solverdir/cbc/osx/64/cbc /var/folders/cl/8l42ht8d4k70pf3by032y2qc0000gn/T/47944e0246d743218c4e8c2eee47f3d0-pulp.mps max timeMode elapsed branch printingOptions all solution /var/folders/cl/8l42ht8d4k70pf3by032y2qc0000gn/T/47944e0246d743218c4e8c2eee47f3d0-pulp.sol (default strategy 1)\n",
      "At line 2 NAME          MODEL\n",
      "At line 3 ROWS\n",
      "At line 6 COLUMNS\n",
      "At line 807 RHS\n",
      "At line 809 BOUNDS\n",
      "At line 1010 ENDATA\n",
      "Problem MODEL has 1 rows, 200 columns and 200 elements\n",
      "Coin0008I MODEL read with 0 errors\n",
      "Option for timeMode changed from cpu to elapsed\n",
      "Continuous objective value is 555.629 - 0.00 seconds\n",
      "Cgl0004I processed model has 1 rows, 200 columns (200 integer (200 of which binary)) and 200 elements\n",
      "Cbc0038I Initial state - 0 integers unsatisfied sum - 0\n",
      "Cbc0038I Solution found of -555.629\n",
      "Cbc0038I Before mini branch and bound, 200 integers at bound fixed and 0 continuous\n",
      "Cbc0038I Mini branch and bound did not improve solution (0.00 seconds)\n",
      "Cbc0038I After 0.00 seconds - Feasibility pump exiting with objective of -555.629 - took 0.00 seconds\n",
      "Cbc0012I Integer solution of -555.62856 found by feasibility pump after 0 iterations and 0 nodes (0.00 seconds)\n",
      "Cbc0001I Search completed - best objective -555.62855604873, took 0 iterations and 0 nodes (0.00 seconds)\n",
      "Cbc0035I Maximum depth 0, 0 variables fixed on reduced cost\n",
      "Cuts at root node changed objective from -555.629 to -555.629\n",
      "Probing was tried 0 times and created 0 cuts of which 0 were active after adding rounds of cuts (0.000 seconds)\n",
      "Gomory was tried 0 times and created 0 cuts of which 0 were active after adding rounds of cuts (0.000 seconds)\n",
      "Knapsack was tried 0 times and created 0 cuts of which 0 were active after adding rounds of cuts (0.000 seconds)\n",
      "Clique was tried 0 times and created 0 cuts of which 0 were active after adding rounds of cuts (0.000 seconds)\n",
      "MixedIntegerRounding2 was tried 0 times and created 0 cuts of which 0 were active after adding rounds of cuts (0.000 seconds)\n",
      "FlowCover was tried 0 times and created 0 cuts of which 0 were active after adding rounds of cuts (0.000 seconds)\n",
      "TwoMirCuts was tried 0 times and created 0 cuts of which 0 were active after adding rounds of cuts (0.000 seconds)\n",
      "ZeroHalf was tried 0 times and created 0 cuts of which 0 were active after adding rounds of cuts (0.000 seconds)\n",
      "\n",
      "Result - Optimal solution found\n",
      "\n",
      "Objective value:                555.62855605\n",
      "Enumerated nodes:               0\n",
      "Total iterations:               0\n",
      "Time (CPU seconds):             0.00\n",
      "Time (Wallclock seconds):       0.00\n",
      "\n",
      "Option for printingOptions changed from normal to all\n",
      "Total time (CPU seconds):       0.00   (Wallclock seconds):       0.00\n",
      "\n",
      "Welcome to the CBC MILP Solver \n",
      "Version: 2.10.3 \n",
      "Build Date: Dec 15 2019 \n",
      "\n",
      "command line - /Users/lf/anaconda3/envs/snakes/lib/python3.11/site-packages/pulp/solverdir/cbc/osx/64/cbc /var/folders/cl/8l42ht8d4k70pf3by032y2qc0000gn/T/e56f35f6a7704b1dba22647b13ed0058-pulp.mps max timeMode elapsed branch printingOptions all solution /var/folders/cl/8l42ht8d4k70pf3by032y2qc0000gn/T/e56f35f6a7704b1dba22647b13ed0058-pulp.sol (default strategy 1)\n",
      "At line 2 NAME          MODEL\n",
      "At line 3 ROWS\n",
      "At line 6 COLUMNS\n",
      "At line 807 RHS\n",
      "At line 809 BOUNDS\n",
      "At line 1010 ENDATA\n",
      "Problem MODEL has 1 rows, 200 columns and 200 elements\n",
      "Coin0008I MODEL read with 0 errors\n",
      "Option for timeMode changed from cpu to elapsed\n",
      "Continuous objective value is 582.629 - 0.00 seconds\n",
      "Cgl0004I processed model has 1 rows, 200 columns (200 integer (200 of which binary)) and 200 elements\n",
      "Cbc0038I Initial state - 0 integers unsatisfied sum - 0\n",
      "Cbc0038I Solution found of -582.629\n",
      "Cbc0038I Before mini branch and bound, 200 integers at bound fixed and 0 continuous\n",
      "Cbc0038I Mini branch and bound did not improve solution (0.00 seconds)\n",
      "Cbc0038I After 0.00 seconds - Feasibility pump exiting with objective of -582.629 - took 0.00 seconds\n",
      "Cbc0012I Integer solution of -582.62856 found by feasibility pump after 0 iterations and 0 nodes (0.00 seconds)\n",
      "Cbc0001I Search completed - best objective -582.6285560487299, took 0 iterations and 0 nodes (0.00 seconds)\n",
      "Cbc0035I Maximum depth 0, 0 variables fixed on reduced cost\n",
      "Cuts at root node changed objective from -582.629 to -582.629\n",
      "Probing was tried 0 times and created 0 cuts of which 0 were active after adding rounds of cuts (0.000 seconds)\n",
      "Gomory was tried 0 times and created 0 cuts of which 0 were active after adding rounds of cuts (0.000 seconds)\n",
      "Knapsack was tried 0 times and created 0 cuts of which 0 were active after adding rounds of cuts (0.000 seconds)\n",
      "Clique was tried 0 times and created 0 cuts of which 0 were active after adding rounds of cuts (0.000 seconds)\n",
      "MixedIntegerRounding2 was tried 0 times and created 0 cuts of which 0 were active after adding rounds of cuts (0.000 seconds)\n",
      "FlowCover was tried 0 times and created 0 cuts of which 0 were active after adding rounds of cuts (0.000 seconds)\n",
      "TwoMirCuts was tried 0 times and created 0 cuts of which 0 were active after adding rounds of cuts (0.000 seconds)\n",
      "ZeroHalf was tried 0 times and created 0 cuts of which 0 were active after adding rounds of cuts (0.000 seconds)\n",
      "\n",
      "Result - Optimal solution found\n",
      "\n",
      "Objective value:                582.62855605\n",
      "Enumerated nodes:               0\n",
      "Total iterations:               0\n",
      "Time (CPU seconds):             0.00\n",
      "Time (Wallclock seconds):       0.00\n",
      "\n",
      "Option for printingOptions changed from normal to all\n",
      "Total time (CPU seconds):       0.00   (Wallclock seconds):       0.00\n",
      "\n",
      "Welcome to the CBC MILP Solver \n",
      "Version: 2.10.3 \n",
      "Build Date: Dec 15 2019 \n",
      "\n",
      "command line - /Users/lf/anaconda3/envs/snakes/lib/python3.11/site-packages/pulp/solverdir/cbc/osx/64/cbc /var/folders/cl/8l42ht8d4k70pf3by032y2qc0000gn/T/3f0e4eb0baa744c596903a6a725db408-pulp.mps max timeMode elapsed branch printingOptions all solution /var/folders/cl/8l42ht8d4k70pf3by032y2qc0000gn/T/3f0e4eb0baa744c596903a6a725db408-pulp.sol (default strategy 1)\n",
      "At line 2 NAME          MODEL\n",
      "At line 3 ROWS\n",
      "At line 6 COLUMNS\n",
      "At line 807 RHS\n",
      "At line 809 BOUNDS\n",
      "At line 1010 ENDATA\n",
      "Problem MODEL has 1 rows, 200 columns and 200 elements\n",
      "Coin0008I MODEL read with 0 errors\n",
      "Option for timeMode changed from cpu to elapsed\n",
      "Continuous objective value is 609.629 - 0.00 seconds\n",
      "Cgl0004I processed model has 1 rows, 200 columns (200 integer (200 of which binary)) and 200 elements\n",
      "Cbc0038I Initial state - 0 integers unsatisfied sum - 0\n",
      "Cbc0038I Solution found of -609.629\n",
      "Cbc0038I Before mini branch and bound, 200 integers at bound fixed and 0 continuous\n",
      "Cbc0038I Mini branch and bound did not improve solution (0.00 seconds)\n",
      "Cbc0038I After 0.00 seconds - Feasibility pump exiting with objective of -609.629 - took 0.00 seconds\n",
      "Cbc0012I Integer solution of -609.62856 found by feasibility pump after 0 iterations and 0 nodes (0.00 seconds)\n",
      "Cbc0001I Search completed - best objective -609.6285560487299, took 0 iterations and 0 nodes (0.00 seconds)\n",
      "Cbc0035I Maximum depth 0, 0 variables fixed on reduced cost\n",
      "Cuts at root node changed objective from -609.629 to -609.629\n",
      "Probing was tried 0 times and created 0 cuts of which 0 were active after adding rounds of cuts (0.000 seconds)\n",
      "Gomory was tried 0 times and created 0 cuts of which 0 were active after adding rounds of cuts (0.000 seconds)\n",
      "Knapsack was tried 0 times and created 0 cuts of which 0 were active after adding rounds of cuts (0.000 seconds)\n",
      "Clique was tried 0 times and created 0 cuts of which 0 were active after adding rounds of cuts (0.000 seconds)\n",
      "MixedIntegerRounding2 was tried 0 times and created 0 cuts of which 0 were active after adding rounds of cuts (0.000 seconds)\n",
      "FlowCover was tried 0 times and created 0 cuts of which 0 were active after adding rounds of cuts (0.000 seconds)\n",
      "TwoMirCuts was tried 0 times and created 0 cuts of which 0 were active after adding rounds of cuts (0.000 seconds)\n",
      "ZeroHalf was tried 0 times and created 0 cuts of which 0 were active after adding rounds of cuts (0.000 seconds)\n",
      "\n",
      "Result - Optimal solution found\n",
      "\n",
      "Objective value:                609.62855605\n",
      "Enumerated nodes:               0\n",
      "Total iterations:               0\n",
      "Time (CPU seconds):             0.00\n",
      "Time (Wallclock seconds):       0.00\n",
      "\n",
      "Option for printingOptions changed from normal to all\n",
      "Total time (CPU seconds):       0.00   (Wallclock seconds):       0.00\n",
      "\n",
      "The best penalty term for SLA violation is: 20\n"
     ]
    }
   ],
   "source": [
    "best_penalty = None\n",
    "best_objective_value = float('-inf')\n",
    "\n",
    "for penalty in range(1, 21):  # testing penalties from 1 to 20\n",
    "    model = LpProblem(name=\"locker-optimization\", sense=LpMaximize)\n",
    "\n",
    "    locker_vars = LpVariable.dicts(\"Locker\", lockers_df['locker_id'], 0, 1, 'Binary')\n",
    "\n",
    "    model += lpSum(\n",
    "    [\n",
    "        locker_vars[i] * (\n",
    "            a * lockers_df.loc[lockers_df['locker_id'] == i, 'occupancy_ratio'].values[0] +\n",
    "            b * lockers_df.loc[lockers_df['locker_id'] == i, 'avg_days_since_drop_off'].values[0] +\n",
    "            c * lockers_df.loc[lockers_df['locker_id'] == i, 'in_out_ratio'].values[0] + \n",
    "            penalty * lockers_df.loc[lockers_df['locker_id'] == i, 'parcels_over_sla'].values[0]\n",
    "        )\n",
    "        for i in lockers_df['locker_id']\n",
    "    ]\n",
    "), \"Total_Priority\"\n",
    "\n",
    "    max_lockers_per_driver = 20\n",
    "    model += lpSum([locker_vars[i] for i in lockers_df['locker_id']]) <= max_lockers_per_driver, \"Max_Lockers_Per_Driver\"\n",
    "    \n",
    "    # Solve the model\n",
    "    model.solve()\n",
    "    \n",
    "    # Check the new objective function value\n",
    "    new_objective_value = model.objective.value()\n",
    "    if new_objective_value > best_objective_value:\n",
    "        best_objective_value = new_objective_value\n",
    "        best_penalty = penalty\n",
    "\n",
    "print(f\"The best penalty term for SLA violation is: {best_penalty}\")"
   ]
  },
  {
   "cell_type": "markdown",
   "id": "d5b24439-6edb-45c5-b072-252882377e88",
   "metadata": {},
   "source": [
    "*Of course!!*"
   ]
  },
  {
   "cell_type": "markdown",
   "id": "31145f01-0834-43f8-80f9-920b35b3326f",
   "metadata": {},
   "source": [
    "  "
   ]
  },
  {
   "cell_type": "markdown",
   "id": "57a19c18-1ad9-4e83-8a0c-5346e045e200",
   "metadata": {},
   "source": [
    "  "
   ]
  },
  {
   "cell_type": "markdown",
   "id": "857cef15-6eb4-4185-8b7f-36e168a4b81c",
   "metadata": {},
   "source": [
    "   "
   ]
  },
  {
   "cell_type": "markdown",
   "id": "0172bfb9-0916-40a6-b3d0-cf5eecc6a6c5",
   "metadata": {},
   "source": [
    "## Section III: Recommendation & Next Steps\n",
    "\n",
    "### Recommendations\n",
    "\n",
    "- Optimize driver routes based on the prioritized lockers to save on time and fuel.\n",
    "- Increase the frequency of pickups from high-priority lockers.\n",
    "\n",
    "\n",
    "### Risks and Limitations\n",
    "\n",
    "- Assumes the snapshot data is representative.\n",
    "- Proximity to warehouse does not account for road conditions, traffic, etc.\n",
    "\n",
    "\n",
    "### Future Iterations\n",
    "- Dynamic Updates: Move to a real-time system instead of daily snapshots.\n",
    "    - Using a model to predict `days_since_seller_drop_off`.\n",
    "- Feedback Loop: Include performance metrics to adapt the framework based on its past success or failures."
   ]
  }
 ],
 "metadata": {
  "kernelspec": {
   "display_name": "Python 3 (ipykernel)",
   "language": "python",
   "name": "python3"
  },
  "language_info": {
   "codemirror_mode": {
    "name": "ipython",
    "version": 3
   },
   "file_extension": ".py",
   "mimetype": "text/x-python",
   "name": "python",
   "nbconvert_exporter": "python",
   "pygments_lexer": "ipython3",
   "version": "3.11.4"
  }
 },
 "nbformat": 4,
 "nbformat_minor": 5
}
